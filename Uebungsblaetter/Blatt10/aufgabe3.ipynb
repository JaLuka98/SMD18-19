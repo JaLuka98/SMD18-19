{
 "cells": [
  {
   "cell_type": "code",
   "execution_count": 1,
   "metadata": {},
   "outputs": [
    {
     "name": "stderr",
     "output_type": "stream",
     "text": [
      "C:\\Users\\Lucas\\Anaconda3\\lib\\site-packages\\sklearn\\ensemble\\weight_boosting.py:29: DeprecationWarning: numpy.core.umath_tests is an internal NumPy module and should not be imported. It will be removed in a future NumPy release.\n",
      "  from numpy.core.umath_tests import inner1d\n"
     ]
    }
   ],
   "source": [
    "import pandas as pd\n",
    "import numpy as np\n",
    "import matplotlib.pyplot as plt\n",
    "from sklearn.model_selection import train_test_split\n",
    "from sklearn.model_selection import cross_val_score\n",
    "from sklearn.ensemble import RandomForestClassifier\n",
    "from sklearn.metrics import roc_auc_score\n",
    "from sklearn.metrics import roc_curve\n",
    "from sklearn.model_selection import StratifiedKFold\n",
    "from sklearn.model_selection import cross_val_predict"
   ]
  },
  {
   "cell_type": "code",
   "execution_count": 2,
   "metadata": {},
   "outputs": [],
   "source": [
    "df = pd.read_hdf('image_parameters_smd_reduced.hdf5') # loading the data\n",
    "#print(df)\n",
    "\n",
    "# making the labels\n",
    "y = np.asarray(df.corsika_run_header_particle_id)\n",
    "y[y == 14] = 0\n",
    "\n",
    "# generating an array of features to feed into the random forest\n",
    "corsika_event_header_total_energy = np.asarray(df.corsika_event_header_total_energy)\n",
    "#size = np.asarray(df['size']) # because df.size actually returns the size of the dataframe...\n",
    "width = np.asarray(df.width)\n",
    "#leakage1 = np.asarray(df.leakage1)\n",
    "#leakage2 = np.asarray(df.leakage2)\n",
    "length = np.asarray(df.length)\n",
    "photoncharge_shower_mean = np.asarray(df.photoncharge_shower_mean)\n",
    "photoncharge_shower_variance = np.asarray(df.photoncharge_shower_variance)\n",
    "X = np.vstack((corsika_event_header_total_energy, length, width, photoncharge_shower_mean, photoncharge_shower_variance)).T\n",
    "\n",
    "# Generating a training set and a test set\n",
    "X_train, X_test, y_train, y_test = train_test_split(X,y, test_size = 0.2, random_state = 0)"
   ]
  },
  {
   "cell_type": "code",
   "execution_count": 3,
   "metadata": {},
   "outputs": [
    {
     "name": "stdout",
     "output_type": "stream",
     "text": [
      "Accuracy: 0.696 (+/- 0.005) using 1 estimator(s)\n",
      "Accuracy: 0.752 (+/- 0.005) using 10 estimator(s)\n",
      "Accuracy: 0.731 (+/- 0.008) using 100 estimator(s)\n",
      "Deswegen ist bei uns momentan n=10 das beste anscheinend.\n"
     ]
    }
   ],
   "source": [
    "n = np.array([1,10,100])\n",
    "for n_estimators in n:\n",
    "    # Creating a random forest with sklearn:\n",
    "    forest = RandomForestClassifier(n_estimators = n_estimators, max_depth = 2, random_state = 0)\n",
    "    # Hinweis: sklearn.model_selection.cross_val_score ist in der Aufgabe angegeben.\n",
    "    # Ich verstehe aber nicht, wie man das benutzt, daher erst mal so. Geht das besser?\n",
    "    scores = cross_val_score(forest,X_train,y_train,cv=5)\n",
    "    print(\"Accuracy: %0.3f (+/- %0.3f)\" % (scores.mean(), scores.std() * 2), \"using\", n_estimators, \"estimator(s)\")\n",
    "    # doppelte Standardabweichung entspricht 95prozentiger Konfidenz\n",
    "print(\"Deswegen ist bei uns momentan n=10 das beste anscheinend.\")"
   ]
  },
  {
   "cell_type": "code",
   "execution_count": 4,
   "metadata": {},
   "outputs": [
    {
     "name": "stdout",
     "output_type": "stream",
     "text": [
      "0.7873346690558894\n"
     ]
    },
    {
     "data": {
      "image/png": "[encoded data removed]",
      "text/plain": [
       "<Figure size 432x288 with 1 Axes>"
      ]
     },
     "metadata": {
      "needs_background": "light"
     },
     "output_type": "display_data"
    },
    {
     "data": {
      "text/plain": [
       "<Figure size 432x288 with 0 Axes>"
      ]
     },
     "metadata": {},
     "output_type": "display_data"
    }
   ],
   "source": [
    "# Hier hatte ich nicht wirklich Ahnung, wie man das macht.\n",
    "# Ich kann den Dokumentationen noch nicht hundertprozentig folgen...\n",
    "forest = RandomForestClassifier(n_estimators = 10, max_depth = 2, random_state = 0)\n",
    "forest.fit(X_train, y_train)\n",
    "probas = forest.predict_proba(X_test)\n",
    "fpr, tpr, thresholds = roc_curve(y_test, probas[:,1])\n",
    "print(roc_auc_score(y_test, probas[:,1]))\n",
    "plt.plot(fpr, tpr)\n",
    "plt.grid()\n",
    "plt.show()\n",
    "plt.clf()"
   ]
  },
  {
   "cell_type": "code",
   "execution_count": 5,
   "metadata": {},
   "outputs": [
    {
     "data": {
      "image/png": "[encoded data removed]",
      "text/plain": [
       "<Figure size 432x288 with 1 Axes>"
      ]
     },
     "metadata": {
      "needs_background": "light"
     },
     "output_type": "display_data"
    }
   ],
   "source": [
    "plt.hist(probas[:,1], bins=15)\n",
    "plt.show()"
   ]
  },
  {
   "cell_type": "markdown",
   "metadata": {},
   "source": [
    "Zu erkennen sind zwei Peaks, die man mit den zwei Teilchenarten identifizieren kann. Bei dem Peak mit dem höheren\n",
    "classification score würde es sich in diesem Fall dann um die Gammas handeln und bei dem anderen entsprechend um die\n",
    "Hadronen. Prinzipiell wäre es dann also möglich das Signal vom Untergrund zu trennen, wobei der Erfolg dabei davon abhängt\n",
    "wie gut der RandomForest die Teilchen unterscheiden kann.\n",
    "Bei einem Perfekten Klassifizierer wäre die ROC Kurve einfach eine konstante Gerade bei 1 und die Verteilung der Gamma- und Hadronereignisse entlang der classification score hätte einfach zwei Peaks bei 0 und 1."
   ]
  },
  {
   "cell_type": "code",
   "execution_count": 9,
   "metadata": {},
   "outputs": [
    {
     "name": "stdout",
     "output_type": "stream",
     "text": [
      "1.0\n"
     ]
    },
    {
     "data": {
      "image/png": "[encoded data removed]",
      "text/plain": [
       "<Figure size 432x288 with 1 Axes>"
      ]
     },
     "metadata": {
      "needs_background": "light"
     },
     "output_type": "display_data"
    },
    {
     "data": {
      "image/png": "[encoded data removed]",
      "text/plain": [
       "<Figure size 432x288 with 1 Axes>"
      ]
     },
     "metadata": {
      "needs_background": "light"
     },
     "output_type": "display_data"
    }
   ],
   "source": [
    "#Perfekte Klassifizierung möglich durch Unterscheidung \n",
    "X = np.vstack(y)\n",
    "X_train, X_test, y_train, y_test = train_test_split(X,y, test_size = 0.2, random_state = 0)\n",
    "\n",
    "#ROC Kurve für perfekten Klassifizierer\n",
    "forest = RandomForestClassifier(n_estimators = 10, max_depth = 2, random_state = 0)\n",
    "forest.fit(X_train, y_train)\n",
    "probas = forest.predict_proba(X_test)\n",
    "fpr, tpr, thresholds = roc_curve(y_test, probas[:,1])\n",
    "print(roc_auc_score(y_test, probas[:,1]))\n",
    "plt.plot(fpr, tpr)\n",
    "plt.grid()\n",
    "plt.show()\n",
    "plt.clf()\n",
    "\n",
    "#Verteilung für perfekten Klassifizierer\n",
    "plt.hist(probas[:,1], bins=15)\n",
    "plt.show()"
   ]
  }
 ],
 "metadata": {
  "kernelspec": {
   "display_name": "Python 3",
   "language": "python",
   "name": "python3"
  },
  "language_info": {
   "codemirror_mode": {
    "name": "ipython",
    "version": 3
   },
   "file_extension": ".py",
   "mimetype": "text/x-python",
   "name": "python",
   "nbconvert_exporter": "python",
   "pygments_lexer": "ipython3",
   "version": "3.7.0"
  }
 },
 "nbformat": 4,
 "nbformat_minor": 2
}
