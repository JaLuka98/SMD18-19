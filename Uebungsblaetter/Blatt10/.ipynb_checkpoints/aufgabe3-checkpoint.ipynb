{
 "cells": [
  {
   "cell_type": "code",
   "execution_count": 27,
   "metadata": {
    "collapsed": true
   },
   "outputs": [],
   "source": [
    "import pandas as pd\n",
    "import numpy as np\n",
    "import matplotlib.pyplot as plt\n",
    "from sklearn.model_selection import train_test_split\n",
    "from sklearn.model_selection import cross_val_score\n",
    "from sklearn.ensemble import RandomForestClassifier\n",
    "from sklearn.metrics import roc_auc_score\n",
    "from sklearn.model_selection import StratifiedKFold\n",
    "from sklearn.model_selection import cross_val_predict"
   ]
  },
  {
   "cell_type": "code",
   "execution_count": 60,
   "metadata": {
    "collapsed": true
   },
   "outputs": [],
   "source": [
    "df = pd.read_hdf('image_parameters_smd_reduced.hdf5') # loading the data\n",
    "\n",
    "# making the labels\n",
    "y = np.asarray(df.corsika_run_header_particle_id)\n",
    "y[y == 1] = 0\n",
    "y[y == 14] = 1\n",
    "\n",
    "# generating an array of features to feed into the random forest\n",
    "size = np.asarray(df['size']) # because df.size actually returns the size of the dataframe...\n",
    "width = np.asarray(df.width)\n",
    "length = np.asarray(df.length)\n",
    "num_islands = np.asarray(df.num_islands)\n",
    "num_pixel_in_shower = np.asarray(df.num_pixel_in_shower)\n",
    "X = np.vstack((size, width, length, num_islands, num_pixel_in_shower)).T\n",
    "\n",
    "# Generating a training set and a test set\n",
    "X_train, X_test, y_train, y_test = train_test_split(X,y, test_size = 0.2)"
   ]
  },
  {
   "cell_type": "code",
   "execution_count": 61,
   "metadata": {},
   "outputs": [
    {
     "name": "stdout",
     "output_type": "stream",
     "text": [
      "0.584072586516\n",
      "0.619221591309\n",
      "0.616421975176\n"
     ]
    }
   ],
   "source": [
    "n = np.array([1,10, 100])\n",
    "for n_estimators in n:\n",
    "    forest = RandomForestClassifier(n_estimators = n_estimators, max_depth = 2, random_state = 0)\n",
    "    scores = cross_val_predict(forest,X_train,y_train,cv=5)\n",
    "    print(roc_auc_score(y_train, scores))"
   ]
  },
  {
   "cell_type": "code",
   "execution_count": 65,
   "metadata": {},
   "outputs": [
    {
     "name": "stdout",
     "output_type": "stream",
     "text": [
      "0.339811505905\n"
     ]
    },
    {
     "data": {
      "image/png": "[encoded data removed]",
      "text/plain": [
       "<matplotlib.figure.Figure at 0x1ebf07bb2b0>"
      ]
     },
     "metadata": {},
     "output_type": "display_data"
    }
   ],
   "source": [
    "forest = RandomForestClassifier(n_estimators = 10, max_depth = 2, random_state = 0)\n",
    "forest.fit(X_train, y_train)\n",
    "probas = forest.predict_proba(X_test)\n",
    "fpr, tpr, thresholds = roc_curve(y_test, probas[:, 1])\n",
    "print(roc_auc_score(y_test, probas[:,1]))\n",
    "plt.plot(fpr, tpr)\n",
    "plt.show()"
   ]
  },
  {
   "cell_type": "code",
   "execution_count": null,
   "metadata": {
    "collapsed": true
   },
   "outputs": [],
   "source": []
  }
 ],
 "metadata": {
  "kernelspec": {
   "display_name": "Python 3",
   "language": "python",
   "name": "python3"
  },
  "language_info": {
   "codemirror_mode": {
    "name": "ipython",
    "version": 3
   },
   "file_extension": ".py",
   "mimetype": "text/x-python",
   "name": "python",
   "nbconvert_exporter": "python",
   "pygments_lexer": "ipython3",
   "version": "3.6.1"
  }
 },
 "nbformat": 4,
 "nbformat_minor": 2
}
