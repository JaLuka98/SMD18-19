{
 "cells": [
  {
   "cell_type": "code",
   "execution_count": 1,
   "metadata": {},
   "outputs": [
    {
     "name": "stderr",
     "output_type": "stream",
     "text": [
      "C:\\Users\\Lucas\\Anaconda3\\lib\\site-packages\\sklearn\\ensemble\\weight_boosting.py:29: DeprecationWarning: numpy.core.umath_tests is an internal NumPy module and should not be imported. It will be removed in a future NumPy release.\n",
      "  from numpy.core.umath_tests import inner1d\n"
     ]
    }
   ],
   "source": [
    "import pandas as pd\n",
    "import numpy as np\n",
    "import matplotlib.pyplot as plt\n",
    "from sklearn.model_selection import train_test_split\n",
    "from sklearn.model_selection import cross_val_score\n",
    "from sklearn.ensemble import RandomForestClassifier\n",
    "from sklearn.metrics import roc_auc_score\n",
    "from sklearn.metrics import roc_curve\n",
    "from sklearn.model_selection import StratifiedKFold\n",
    "from sklearn.model_selection import cross_val_predict"
   ]
  },
  {
   "cell_type": "code",
   "execution_count": 2,
   "metadata": {},
   "outputs": [],
   "source": [
    "df = pd.read_hdf('image_parameters_smd_reduced.hdf5') # loading the data\n",
    "\n",
    "# making the labels\n",
    "y = np.asarray(df.corsika_run_header_particle_id)\n",
    "y[y == 14] = 0\n",
    "\n",
    "# generating an array of features to feed into the random forest\n",
    "size = np.asarray(df['size']) # because df.size actually returns the size of the dataframe...\n",
    "width = np.asarray(df.width)\n",
    "length = np.asarray(df.length)\n",
    "num_islands = np.asarray(df.num_islands)\n",
    "num_pixel_in_shower = np.asarray(df.num_pixel_in_shower)\n",
    "X = np.vstack((size, width, length, num_islands, num_pixel_in_shower)).T\n",
    "\n",
    "# Generating a training set and a test set\n",
    "X_train, X_test, y_train, y_test = train_test_split(X,y, test_size = 0.2)"
   ]
  },
  {
   "cell_type": "code",
   "execution_count": 3,
   "metadata": {},
   "outputs": [
    {
     "name": "stdout",
     "output_type": "stream",
     "text": [
      "0.5934884160001896\n",
      "0.6193309381618546\n",
      "0.6177769130763255\n"
     ]
    }
   ],
   "source": [
    "n = np.array([1,10, 100])\n",
    "for n_estimators in n:\n",
    "    # Creating a random forest with sklearn:\n",
    "    forest = RandomForestClassifier(n_estimators = n_estimators, max_depth = 2, random_state = 0)\n",
    "    # Hinweis: sklearn.model_selection.cross_val_score ist in der Aufgabe angegeben.\n",
    "    # Ich verstehe aber nicht, wie man das benutzt, daher erst mal so. Geht das besser?\n",
    "    scores = cross_val_predict(forest,X_train,y_train,cv=5)\n",
    "    print(roc_auc_score(y_train, scores))"
   ]
  },
  {
   "cell_type": "code",
   "execution_count": 13,
   "metadata": {},
   "outputs": [
    {
     "name": "stdout",
     "output_type": "stream",
     "text": [
      "0.6587293137751618\n"
     ]
    },
    {
     "data": {
      "image/png": "[encoded data removed]",
      "text/plain": [
       "<Figure size 432x288 with 1 Axes>"
      ]
     },
     "metadata": {
      "needs_background": "light"
     },
     "output_type": "display_data"
    }
   ],
   "source": [
    "# Hier hatte ich nicht wirklich Ahnung, wie man das macht.\n",
    "# Ich kann den Dokumentationen noch nicht hundertprozentig folgen...\n",
    "forest = RandomForestClassifier(n_estimators = 10, max_depth = 2, random_state = 0)\n",
    "forest.fit(X_train, y_train)\n",
    "probas = forest.predict_proba(X_test)\n",
    "fpr, tpr, thresholds = roc_curve(y_test, probas[:,1])\n",
    "print(roc_auc_score(y_test, probas[:,1]))\n",
    "plt.plot(fpr, tpr)\n",
    "plt.show()"
   ]
  },
  {
   "cell_type": "code",
   "execution_count": null,
   "metadata": {},
   "outputs": [],
   "source": []
  },
  {
   "cell_type": "code",
   "execution_count": null,
   "metadata": {},
   "outputs": [],
   "source": []
  },
  {
   "cell_type": "code",
   "execution_count": null,
   "metadata": {},
   "outputs": [],
   "source": []
  },
  {
   "cell_type": "code",
   "execution_count": null,
   "metadata": {},
   "outputs": [],
   "source": []
  }
 ],
 "metadata": {
  "kernelspec": {
   "display_name": "Python 3",
   "language": "python",
   "name": "python3"
  },
  "language_info": {
   "codemirror_mode": {
    "name": "ipython",
    "version": 3
   },
   "file_extension": ".py",
   "mimetype": "text/x-python",
   "name": "python",
   "nbconvert_exporter": "python",
   "pygments_lexer": "ipython3",
   "version": "3.7.0"
  }
 },
 "nbformat": 4,
 "nbformat_minor": 2
}
