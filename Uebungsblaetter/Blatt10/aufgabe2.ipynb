{
 "cells": [
  {
   "cell_type": "markdown",
   "metadata": {},
   "source": [
    "# Aufgabe 29 - Entfaltung mit quadratischen Matrizen"
   ]
  },
  {
   "cell_type": "markdown",
   "metadata": {},
   "source": [
    "## Teilaufgabe a)\n",
    "DIe Matrix beschreibt einen Messprozess, in welchem die Daten $n$ verschiedenen Bins zugeordnet werden können und Fehlklassifikation nur zu nächsten Nachbarn hin stattfinden können. Dies geschieht mit Wahrscheinlichkeit $\\epsilon$."
   ]
  },
  {
   "cell_type": "code",
   "execution_count": 1,
   "metadata": {},
   "outputs": [],
   "source": [
    "import numpy as np\n",
    "from scipy.sparse import diags # to easily make a tridiagonal matrix\n",
    "import matplotlib.pyplot as plt"
   ]
  },
  {
   "cell_type": "code",
   "execution_count": 2,
   "metadata": {},
   "outputs": [],
   "source": [
    "def getResponseMatrix(n, epsilon):\n",
    "    A = 1-2*epsilon*np.ones(n)\n",
    "    A[0] = A[n-1] = 1-epsilon\n",
    "    diagonals = [A, epsilon*np.ones(n-1), epsilon*np.ones(n-1)]\n",
    "    A = diags(diagonals, [0, 1, -1]).toarray() # 0,1,-1 means place the subarrays of diagonals\n",
    "    # in the main diag and the two sub diags\n",
    "    return A"
   ]
  },
  {
   "cell_type": "markdown",
   "metadata": {},
   "source": [
    "## Teilaufgabe b)"
   ]
  },
  {
   "cell_type": "code",
   "execution_count": 3,
   "metadata": {},
   "outputs": [
    {
     "name": "stdout",
     "output_type": "stream",
     "text": [
      "Die gemessenen g sind bei uns dann [262 465 640 745 873 825 780 684 705 623 534 510 438 398 358 346 262 243\n",
      " 209 167]\n"
     ]
    }
   ],
   "source": [
    "n = 20\n",
    "epsilon = 0.23\n",
    "A = getResponseMatrix(n, epsilon)\n",
    "f = np.array([193,485,664,763,804,805,779,736,684,626,\n",
    "              566,508,452,400,351,308,268,233,202,173])\n",
    "g = np.dot(A,f)\n",
    "prng = np.random.RandomState(0) # Das ist zur Reproduzierbarkeit!\n",
    "gmess = prng.poisson(g, np.size(g)) # Ziehe np.size(g) poissonverteilte Zufallszahlen mit lambda=g\n",
    "print('Die gemessenen g sind bei uns dann',gmess)"
   ]
  },
  {
   "cell_type": "markdown",
   "metadata": {
    "collapsed": true
   },
   "source": [
    "## Teilaufgabe c)\n",
    "Die Faltungsgleichung $\\mathbf{g} = \\mathbf{A} \\, \\mathbf{f}$ lautet mit $\\mathbf{A} = \\mathbf{U} \\, \\mathbf{D} \\, \\mathbf{U}^{-1}$ dann\n",
    "\\begin{equation}\n",
    "    \\mathbf{g} = \\mathbf{U} \\, \\mathbf{D} \\, \\mathbf{U}^{-1} \\mathbf{f} \\iff \\mathbf{c} = \\mathbf{D} \\mathbf{b}\n",
    "\\end{equation}\n",
    "mit $\\mathbf{c} = \\mathbf{U}^{-1} \\mathbf{g}$ und $\\mathbf{b} = \\mathbf{U}^{-1} \\mathbf{f}$."
   ]
  },
  {
   "cell_type": "code",
   "execution_count": 4,
   "metadata": {},
   "outputs": [],
   "source": [
    "w, U = np.linalg.eig(A) # w are the eigenvalues, U is a matrix of eigenvectors\n",
    "index = w.argsort()[::-1]\n",
    "w = w[index]\n",
    "U = U[:,index]\n",
    "Uinv = np.linalg.inv(U)\n",
    "D = np.diag(w)\n",
    "Dinv = np.linalg.inv(D)\n",
    "# Nun sind die EW sortiert und die EV in der Matrix U auch."
   ]
  },
  {
   "cell_type": "markdown",
   "metadata": {},
   "source": [
    "## Teilaufgabe d)"
   ]
  },
  {
   "cell_type": "code",
   "execution_count": 5,
   "metadata": {},
   "outputs": [
    {
     "name": "stdout",
     "output_type": "stream",
     "text": [
      "Die skallierten b-Koeffizienten:\n",
      "[1.00334441e+02 3.30824719e+01 2.13587947e+01 1.47951863e+01\n",
      " 1.34159638e+01 6.93166755e+00 5.86135512e+00 2.58205025e+00\n",
      " 5.31173575e-01 6.92396831e-02 8.27233394e-01 1.64986702e+00\n",
      " 2.78441228e+00 1.54867656e-01 3.34870305e-01 7.70451475e-01\n",
      " 8.24084378e-01 1.22894171e-01 2.02972391e+00 4.44515160e-01]\n"
     ]
    },
    {
     "data": {
      "image/png": "[encoded data removed]",
      "text/plain": [
       "<Figure size 432x288 with 1 Axes>"
      ]
     },
     "metadata": {
      "needs_background": "light"
     },
     "output_type": "display_data"
    }
   ],
   "source": [
    "c = Uinv@gmess #Transformation in EV-Basis\n",
    "b = Dinv@c #Transformation in EV-Basis\n",
    "\n",
    "Vg = np.diag(gmess) #Kovarianzmatrix von gmess, Poissonverteilung: Varianz=Erwartungswert\n",
    "B = Dinv@Uinv \n",
    "Vb = B@Vg@B.T ##Kovarianzmatrix von b, transformiert mit BVB-Formel\n",
    "bvar = np.diag(Vb)\n",
    "bstan = np.sqrt(bvar)\n",
    "bskal = np.abs(b/bstan) # auf ihre Standardabweichungen skalierte b-Koeffizienten\n",
    "print('Die skallierten b-Koeffizienten:')\n",
    "print(bskal)\n",
    "\n",
    "plt.yscale('log')\n",
    "plt.step(np.linspace(1,np.size(bskal),np.size(bskal)), bskal, where='mid')\n",
    "plt.plot([1,20],[1,1], 'k')\n",
    "plt.xlim(1,20)\n",
    "plt.xlabel(r'Index $j$')\n",
    "plt.ylabel(r'Koeffizient $b_j$')\n",
    "plt.show()"
   ]
  },
  {
   "cell_type": "markdown",
   "metadata": {},
   "source": [
    "Koeffizienten, die unterhalb der 1 liegen, sind kleiner als ihre eigene Standardabweichung.\n",
    "Deshalb bieten diese Werte keine nützliche Information und sollten nicht berücksichtigt werden.\n"
   ]
  },
  {
   "cell_type": "markdown",
   "metadata": {},
   "source": [
    "## Teilaufgabe e)"
   ]
  },
  {
   "cell_type": "code",
   "execution_count": 27,
   "metadata": {},
   "outputs": [
    {
     "name": "stdout",
     "output_type": "stream",
     "text": [
      "[-2251.04963295  -690.91922954  -466.52623091  -342.23670464\n",
      "  -329.3666805   -179.20573364  -160.66734023   -77.26719097\n",
      "    17.4191047      2.55736399    34.36919299   -78.49226697\n",
      "  -157.473201      10.5043462    -28.13801846    80.73244377\n",
      "   110.35416432   -21.61573022   464.69860952   124.47914325]\n",
      "[-2251.04963295  -690.91922954  -466.52623091  -342.23670464\n",
      "  -329.3666805   -179.20573364  -160.66734023   -77.26719097\n",
      "    17.4191047      0.             0.             0.\n",
      "     0.             0.             0.             0.\n",
      "     0.             0.             0.             0.        ]\n",
      "[  503.35         436.17287643   477.08817451   535.07208506\n",
      "   602.71995834   668.38754778   751.3791491    895.49026143\n",
      "  1075.42155159  1364.19026798  1726.1659808   2263.37158939\n",
      "  3198.49907262  4600.62253089  7060.47216831 10980.08280299\n",
      " 17932.22132326 30936.93290996 52416.59533933 78418.77002851]\n",
      "[ 503.35        436.17287643  477.08817451  535.07208506  602.71995834\n",
      "  668.38754778  751.3791491   895.49026143 1075.42155159    0.\n",
      "    0.            0.            0.            0.            0.\n",
      "    0.            0.            0.            0.            0.        ]\n"
     ]
    }
   ],
   "source": [
    "#In der folgenden Schleife wird ein Vektor mit regularisierten b-Koeffizienten erstellt.\n",
    "# Wird das erste Mal ein skallierter b-Koeffizient kleiner als eins erreicht werden alle folgenden auf 0 gesetzt.\n",
    "\n",
    "breg = np.array(b)\n",
    "bvar_reg = np.array(bvar) # auch die Varianz von b muss reguliert werden.\n",
    "\n",
    "k = 0\n",
    "cut = False\n",
    "for i in bskal:\n",
    "    if cut:\n",
    "        breg[k] = 0\n",
    "        bvar_reg[k] = 0\n",
    "    else:\n",
    "        if i < 1:\n",
    "            cut = True\n",
    "    \n",
    "    k +=1\n",
    "    \n",
    "print(b)\n",
    "print(breg)\n",
    "print(bvar)\n",
    "print(bvar_reg)"
   ]
  },
  {
   "cell_type": "code",
   "execution_count": 31,
   "metadata": {
    "scrolled": true
   },
   "outputs": [
    {
     "data": {
      "image/png": "[encoded data removed]",
      "text/plain": [
       "<Figure size 432x288 with 1 Axes>"
      ]
     },
     "metadata": {
      "needs_background": "light"
     },
     "output_type": "display_data"
    }
   ],
   "source": [
    "#Rüchtransformation in alte Basis\n",
    "funreg = U@b \n",
    "freg = U@breg \n",
    "\n",
    "# Standardabweichung von rücktransformierten f mit BVB-Formel\n",
    "funreg_stan = np.sqrt(np.diag(U@Vb@U.T))\n",
    "Vbreg = Vb-np.diag(bvar)+np.diag(bvar_reg) #regularisierte Kovarianzmatrix\n",
    "freg_stan = np.sqrt(np.abs((np.diag(U@Vbreg@U.T))))\n",
    "\n",
    "\n",
    "plt.errorbar(np.linspace(1,np.size(funreg),np.size(funreg)), funreg, xerr=0.5, yerr=funreg_stan, fmt='.', label='unregularisiert')\n",
    "plt.errorbar(np.linspace(1,np.size(freg),np.size(freg)), freg, xerr=0.5, yerr=freg_stan, fmt='.', label='regularisiert')\n",
    "plt.plot(np.linspace(1,np.size(f),np.size(f)), f, 'k', label='pdf')\n",
    "plt.xlabel(r'$x$')\n",
    "plt.ylabel(r'Ereignisse')\n",
    "plt.legend()\n",
    "plt.show()"
   ]
  },
  {
   "cell_type": "markdown",
   "metadata": {},
   "source": [
    "Die Lösung mit Regularisierung hat deutlich kleinere Fehler und liegt näher an der wahren Verteilung.\n",
    "Dafür entstehen durch die Glättung höhere, positive Korrelation zwischen Nachbarbins."
   ]
  }
 ],
 "metadata": {
  "kernelspec": {
   "display_name": "Python 3",
   "language": "python",
   "name": "python3"
  },
  "language_info": {
   "codemirror_mode": {
    "name": "ipython",
    "version": 3
   },
   "file_extension": ".py",
   "mimetype": "text/x-python",
   "name": "python",
   "nbconvert_exporter": "python",
   "pygments_lexer": "ipython3",
   "version": "3.7.0"
  }
 },
 "nbformat": 4,
 "nbformat_minor": 2
}
