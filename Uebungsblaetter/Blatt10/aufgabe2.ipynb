{
 "cells": [
  {
   "cell_type": "markdown",
   "metadata": {},
   "source": [
    "# Aufgabe 29 - Entfaltung mit quadratischen Matrizen"
   ]
  },
  {
   "cell_type": "markdown",
   "metadata": {},
   "source": [
    "## Teilaufgabe a)\n",
    "DIe Matrix beschreibt einen Messprozess, in welchem die Daten $n$ verschiedenen Bins zugeordnet werden können und Fehlklassifikation nur zu nächsten Nachbarn hin stattfinden können. Dies geschieht mit Wahrscheinlichkeit $\\epsilon$."
   ]
  },
  {
   "cell_type": "code",
   "execution_count": 1,
   "metadata": {},
   "outputs": [],
   "source": [
    "import numpy as np\n",
    "from scipy.sparse import diags # to easily make a tridiagonal matrix\n",
    "import matplotlib.pyplot as plt"
   ]
  },
  {
   "cell_type": "code",
   "execution_count": 2,
   "metadata": {},
   "outputs": [],
   "source": [
    "def getResponseMatrix(n, epsilon):\n",
    "    A = 1-2*epsilon*np.ones(n)\n",
    "    A[0] = A[n-1] = 1-epsilon\n",
    "    diagonals = [A, epsilon*np.ones(n-1), epsilon*np.ones(n-1)]\n",
    "    A = diags(diagonals, [0, 1, -1]).toarray() # 0,1,-1 means place the subarrays of diagonals\n",
    "    # in the main diag and the two sub diags\n",
    "    return A"
   ]
  },
  {
   "cell_type": "markdown",
   "metadata": {},
   "source": [
    "## Teilaufgabe b)"
   ]
  },
  {
   "cell_type": "code",
   "execution_count": 3,
   "metadata": {},
   "outputs": [
    {
     "name": "stdout",
     "output_type": "stream",
     "text": [
      "Die gemessenen g sind bei uns dann [262 465 640 745 873 825 780 684 705 623 534 510 438 398 358 346 262 243\n",
      " 209 167]\n"
     ]
    }
   ],
   "source": [
    "n = 20\n",
    "epsilon = 0.23\n",
    "A = getResponseMatrix(n, epsilon)\n",
    "f = np.array([193,485,664,763,804,805,779,736,684,626,\n",
    "              566,508,452,400,351,308,268,233,202,173])\n",
    "g = np.dot(A,f)\n",
    "prng = np.random.RandomState(0) # Das ist zur Reproduzierbarkeit!\n",
    "gmess = prng.poisson(g, np.size(g)) # Ziehe np.size(g) poissonverteilte Zufallszahlen mit lambda=g\n",
    "print('Die gemessenen g sind bei uns dann',gmess)"
   ]
  },
  {
   "cell_type": "markdown",
   "metadata": {
    "collapsed": true
   },
   "source": [
    "## Teilaufgabe c)\n",
    "Die Faltungsgleichung $\\mathbf{g} = \\mathbf{A} \\, \\mathbf{f}$ lautet mit $\\mathbf{A} = \\mathbf{U} \\, \\mathbf{D} \\, \\mathbf{U}^{-1}$ dann\n",
    "\\begin{equation}\n",
    "    \\mathbf{g} = \\mathbf{U} \\, \\mathbf{D} \\, \\mathbf{U}^{-1} \\mathbf{f} \\iff \\mathbf{c} = \\mathbf{D} \\mathbf{b}\n",
    "\\end{equation}\n",
    "mit $\\mathbf{c} = \\mathbf{U}^{-1} \\mathbf{g}$ und $\\mathbf{b} = \\mathbf{U}^{-1} \\mathbf{f}$."
   ]
  },
  {
   "cell_type": "code",
   "execution_count": 4,
   "metadata": {},
   "outputs": [],
   "source": [
    "w, U = np.linalg.eig(A) # w are the eigenvalues, U is a matrix of eigenvectors\n",
    "index = w.argsort()[::-1]\n",
    "w = w[index]\n",
    "U = U[:,index]\n",
    "Uinv = np.linalg.inv(U)\n",
    "D = np.diag(w)\n",
    "# Nun sind die EW sortiert und die EV in der Matrix U auch."
   ]
  },
  {
   "cell_type": "markdown",
   "metadata": {},
   "source": [
    "## Teilaufgabe d)"
   ]
  },
  {
   "cell_type": "code",
   "execution_count": 5,
   "metadata": {},
   "outputs": [],
   "source": [
    "b = Uinv@f\n",
    "c = Uinv@g"
   ]
  },
  {
   "cell_type": "code",
   "execution_count": 6,
   "metadata": {},
   "outputs": [
    {
     "name": "stdout",
     "output_type": "stream",
     "text": [
      "[[ 500.          151.31248946 -109.29259123  -74.5318382    61.50464599\n",
      "   -37.79343197   31.3283139   -20.63676695  -17.90899736  -12.2600234\n",
      "    11.1           7.94313819    7.24981184   -5.0060538     4.66192869\n",
      "    -3.17907219    2.88297826   -1.82312504    1.22379398    0.65076887]\n",
      " [ 151.31248946  422.71846761   54.29211917 -120.77188464   79.42596024\n",
      "   -65.64281546   41.31638988  -34.81603668  -23.26154354  -20.51245875\n",
      "    14.28579256   12.97527638    9.15646146   -8.42287251    5.7877581\n",
      "    -5.33505487    3.53708759   -2.9039265     1.74930716    0.86535302]\n",
      " [-109.29259123   54.29211917  456.50964775   80.27009535   99.43399559\n",
      "   -67.29436606   56.15392573  -35.39313771  -30.00134848  -20.20904473\n",
      "    17.78996459   12.20896027   11.14536666   -7.86459038    7.16496459\n",
      "    -4.82895867    4.16183442   -2.70810659    2.03857348    0.828981  ]\n",
      " [ -74.5318382  -120.77188464   80.27009535  477.84753679  -92.40168952\n",
      "   -89.94510587   61.37111389  -51.33923753  -32.34063891  -27.27885432\n",
      "    18.13221244   15.96005487   10.91708919   -9.88745875    6.90579096\n",
      "    -5.99174414    3.99997767   -3.29648139    1.78778043    1.17322045]\n",
      " [  61.50464599   79.42596024   99.43399559  -92.40168952  487.33642652\n",
      "   -98.32494169  -85.13041766   58.31861508   48.61674337   30.26380662\n",
      "   -25.4489446   -16.84034136  -14.70214695    9.95828977   -8.7142383\n",
      "     6.07680996   -5.12639111    3.07965151   -2.43112837   -0.95879943]\n",
      " [ -37.79343197  -65.64281546  -67.29436606  -89.94510587  -98.32494169\n",
      "   492.15111473 -101.3774405   -82.4079235   -56.2417828   -46.78683365\n",
      "    28.97193554   24.19103668   15.88154193  -13.5289265     9.12930877\n",
      "    -7.84888527    5.15648379   -4.26103809    2.25067051    1.25790792]\n",
      " [  31.3283139    41.31638988   56.15392573   61.37111389  -85.13041766\n",
      "  -101.3774405   494.87360889 -103.45427279   80.57801378   54.94991171\n",
      "   -45.52892573  -28.01313611  -23.01781623   15.05256093  -12.66357348\n",
      "     8.2089826    -6.98353225    4.3275028    -3.08781764   -1.29187108]\n",
      " [ -20.63676695  -34.81603668  -35.39313771  -51.33923753   58.31861508\n",
      "   -82.4079235  -103.45427279  496.70351861  104.74614387  -79.32010587\n",
      "    53.99111229   44.35570528   27.18415511  -22.15246321   14.13223477\n",
      "   -11.79822045    7.38000161   -5.8103118     3.36870337    1.82990972]\n",
      " [ -17.90899736  -23.26154354  -30.00134848  -32.34063891   48.61674337\n",
      "   -56.2417828    80.57801378  104.74614387  497.96142652  105.70494329\n",
      "    78.14688541   53.16213129   43.49035225  -26.26382895   21.28711018\n",
      "   -13.30325377   10.625        -6.42120218    4.55240388    2.07683229]\n",
      " [ -12.2600234   -20.51245875  -20.20904473  -27.27885432   30.26380662\n",
      "   -46.78683365   54.94991171  -79.32010587  105.70494329  499.13464698\n",
      "  -106.53392429   77.28153239   52.24180513  -42.62499923   25.43484795\n",
      "   -20.11388973   12.34445435   -9.36709208    5.1293311     2.72249416]\n",
      " [  11.1          14.28579256   17.78996459   18.13221244  -25.4489446\n",
      "    28.97193554  -45.52892573   53.99111229   78.14688541 -106.53392429\n",
      "   500.          107.45425046  -76.41617937   51.41282413  -41.45177878\n",
      "    24.47604852  -18.85598181   11.05258326   -7.53718236   -3.05249881]\n",
      " [   7.94313819   12.97527638   12.20896027   15.96005487  -16.84034136\n",
      "    24.19103668  -28.01313611   44.35570528   53.16213129   77.28153239\n",
      "   107.45425046  500.86535302  108.28323145   75.24295891  -50.4540247\n",
      "    40.19387086  -23.18417744   17.02607209   -8.97575098   -4.8146882 ]\n",
      " [   7.24981184    9.15646146   11.14536666   10.91708919  -14.70214695\n",
      "    15.88154193  -23.01781623   27.18415511   43.49035225   52.24180513\n",
      "   -76.41617937  108.28323145  502.03857348 -109.24203088  -73.985051\n",
      "    49.16215362  -38.36396114   21.10734515  -14.30357793   -5.92325217]\n",
      " [  -5.0060538    -8.42287251   -7.86459038   -9.88745875    9.95828977\n",
      "   -13.5289265    15.05256093  -22.15246321  -26.26382895  -42.62499923\n",
      "    51.41282413   75.24295891 -109.24203088  503.29648139 -110.53390196\n",
      "   -72.15514128   47.08532133  -35.64146698   18.05484634    9.48888973]\n",
      " [   4.66192869    5.7877581     7.16496459    6.90579096   -8.7142383\n",
      "     9.12930877  -12.66357348   14.13223477   21.28711018   25.43484795\n",
      "   -41.45177878  -50.4540247   -73.985051   -110.53390196  505.12639111\n",
      "  -112.61073425  -69.43264712   44.03282252  -30.82677878  -12.13159418]\n",
      " [  -3.17907219   -5.33505487   -4.82895867   -5.99174414    6.07680996\n",
      "    -7.84888527    8.2089826   -11.79822045  -13.30325377  -20.11388973\n",
      "    24.47604852   40.19387086   49.16215362  -72.15514128 -112.61073425\n",
      "   507.84888527 -115.66323306  -64.61795891   38.10957035   21.33788905]\n",
      " [   2.88297826    3.53708759    4.16183442    3.99997767   -5.12639111\n",
      "     5.15648379   -6.98353225    7.38000161   10.625        12.34445435\n",
      "   -18.85598181  -23.18417744  -38.36396114   47.08532133  -69.43264712\n",
      "  -115.66323306  512.66357348 -121.58648523  -55.12906918  -25.97797618]\n",
      " [  -1.82312504   -2.9039265    -2.70810659   -3.29648139    3.07965151\n",
      "    -4.26103809    4.3275028    -5.8103118    -6.42120218   -9.36709208\n",
      "    11.05258326   17.02607209   21.10734515  -35.64146698   44.03282252\n",
      "   -64.61795891 -121.58648523  522.15246321 -133.7180794    33.79118014]\n",
      " [   1.22379398    1.74930716    2.03857348    1.78778043   -2.43112837\n",
      "     2.25067051   -3.08781764    3.36870337    4.55240388    5.1293311\n",
      "    -7.53718236   -8.97575098  -14.30357793   18.05484634  -30.82677878\n",
      "    38.10957035  -55.12906918 -133.7180794   543.49035225  159.69605558]\n",
      " [   0.65076887    0.86535302    0.828981      1.17322045   -0.95879943\n",
      "     1.25790792   -1.29187108    1.82990972    2.07683229    2.72249416\n",
      "    -3.05249881   -4.8146882    -5.92325217    9.48888973  -12.13159418\n",
      "    21.33788905  -25.97797618   33.79118014  159.69605558  577.28153239]]\n"
     ]
    }
   ],
   "source": [
    "Vb = Uinv@np.diag(f)@Uinv.T # Nimm an, dass die f aus Poissonverteilungen stammen.\n",
    "print(Vb)"
   ]
  },
  {
   "cell_type": "code",
   "execution_count": 8,
   "metadata": {},
   "outputs": [
    {
     "name": "stdout",
     "output_type": "stream",
     "text": [
      "[-2251.04963295  -690.91922954   466.52623091   342.23670464\n",
      "  -329.3666805    179.20573364  -160.66734023    77.26719097\n",
      "    17.4191047     -2.55736399   -34.36919299   -78.49226697\n",
      "  -157.473201     -10.5043462    -28.13801846    80.73244377\n",
      "  -110.35416432   -21.61573022   464.69860952   124.47914325]\n",
      "[ 0.82265836  0.81943559  0.60348994  0.31600601  0.21950279  0.14236117\n",
      "  0.13625065  0.03071633 -0.00450958 -0.01852305 -0.03811653 -0.04961774\n",
      " -0.0606056  -0.13841091 -0.19459522 -0.27768352 -0.28331597 -0.58079532\n",
      " -1.21834624 -3.96943339]\n"
     ]
    },
    {
     "data": {
      "image/png": "[encoded data removed]",
      "text/plain": [
       "<Figure size 432x288 with 1 Axes>"
      ]
     },
     "metadata": {
      "needs_background": "light"
     },
     "output_type": "display_data"
    }
   ],
   "source": [
    "b = np.linalg.inv(D) @ Uinv @ gmess\n",
    "print(b)\n",
    "index = b.argsort()[::-1]\n",
    "b = b[index]\n",
    "b = b/np.std(b, ddof=1)\n",
    "print(b)\n",
    "plt.plot(np.linspace(1, np.size(b), np.size(b)),b, 'rx')\n",
    "plt.grid()\n",
    "plt.show()"
   ]
  },
  {
   "cell_type": "code",
   "execution_count": null,
   "metadata": {},
   "outputs": [],
   "source": []
  }
 ],
 "metadata": {
  "kernelspec": {
   "display_name": "Python 3",
   "language": "python",
   "name": "python3"
  },
  "language_info": {
   "codemirror_mode": {
    "name": "ipython",
    "version": 3
   },
   "file_extension": ".py",
   "mimetype": "text/x-python",
   "name": "python",
   "nbconvert_exporter": "python",
   "pygments_lexer": "ipython3",
   "version": "3.7.0"
  }
 },
 "nbformat": 4,
 "nbformat_minor": 2
}
