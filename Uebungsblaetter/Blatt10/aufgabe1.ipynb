{
 "cells": [
  {
   "cell_type": "markdown",
   "metadata": {},
   "source": [
    "# Aufgabe 28 - Entfaltung in zwei Intervallen\n",
    "\n",
    "## Teilaufgabe a)\n",
    "\n",
    "Ohne Akzeptanzkorrektur würde die Responsematrix\n",
    "$\\begin{pmatrix} \n",
    "    1-\\epsilon & \\epsilon \\\\\n",
    "    \\epsilon & 1-\\epsilon \n",
    "\\end{pmatrix}$\n",
    "lauten (Siehe Vorlesung). Mit Akzeptanzkorrektur und perfekter Messgenauigkeit gilt laut Blobel (Kap. 11.2)\n",
    "\\begin{equation}\n",
    "    \\mathbf{f} = \\mathbf{P} \\,\\mathbf{g}\\,,\n",
    "\\end{equation}\n",
    "wobei $\\mathbf{P}$ eine Diagonalmatrix ist mit den Akzeptanzen $P_j$ auf der Hauptdiagonalen. In unserem Fall ist die Akzeptanz 80%. Also erscheint in unserem Fall\n",
    "\\begin{equation}\n",
    "\\mathbf{A} = \\frac{4}{5} \\left( \\begin{matrix} 1-\\epsilon&\\epsilon\\\\ \\epsilon&1-\\epsilon \\end{matrix} \\right)\n",
    "\\end{equation}\n",
    "mit $\\mathbf{g} = \\mathbf{A} \\,\\mathbf{f}$ sinnvoll zu sein; für $\\epsilon=0$ ergibt sich der Spezialfall aus dem Blobel."
   ]
  },
  {
   "cell_type": "markdown",
   "metadata": {},
   "source": [
    "## Teilaufgabe b)\n",
    "Die Faltungsgleichung lässt sich zu\n",
    "\\begin{equation}\n",
    "    \\mathbf{f} = \\mathbf{A}^{-1} \\,\\mathbf{g}\n",
    "\\end{equation}\n",
    "invertieren. Die inverse Matrix ist nach der bekannten Formel für die Inverse von 2x2-Matrizen\n",
    "\\begin{equation}\n",
    "    \\mathbf{A}^{-1} =\n",
    "    \\frac{5}{4(1-2\\epsilon)}\n",
    "        \\left( \\begin{matrix}\n",
    "             1-\\epsilon&-\\epsilon\\\\\n",
    "             -\\epsilon&1-\\epsilon\n",
    "        \\end{matrix} \\right)\\,.\n",
    "\\end{equation}\n",
    "Dann ergibt sich dann\n",
    "\\begin{equation}\n",
    "    \\mathbf{f} =\n",
    "    \\frac{5}{4(1-2\\epsilon)}\n",
    "        \\left( \\begin{matrix}\n",
    "             (1-\\epsilon)g_1-\\epsilon g_2\\\\\n",
    "             -\\epsilon g_1 + (1-\\epsilon)g_2\n",
    "        \\end{matrix} \\right)\\,.\n",
    "\\end{equation}"
   ]
  },
  {
   "cell_type": "markdown",
   "metadata": {},
   "source": [
    "## Teilaufgabe c)\n",
    "Mit der Definition $\\mathbf{B} = \\mathbf{A}^{-1}$ folgt $\\mathbf{f} = B \\,\\mathbf{g}$, sodass sich die Kovarianzmatrix von $\\mathbf{f}$ nach der BvB-Formel zu\n",
    "\\begin{equation}\n",
    "    \\mathbf{V}[\\mathbf{f}] = \\mathbf{B} \\, \\mathbf{V}[\\mathbf{g}] \\, \\mathbf{B}^T\n",
    "\\end{equation}\n",
    "ergibt. Explizite Rechnung ergibt unter Beachtung unabhängiger poissonverteilter $g_1$ und $g_2$\n",
    "($\\Rightarrow \\sigma_{g_{1,2}}^2 = g_{1,2}^2$) für die Kovarianzmatrix\n",
    "\\begin{equation}\n",
    "    \\mathbf{V}[\\mathbf{f}] =\n",
    "    \\frac{25}{16(1-2\\epsilon)^2}\n",
    "        \\left( \\begin{matrix}\n",
    "             (1-\\epsilon)^2 g_1^2 + \\epsilon^2 g_2^2 \n",
    "             &  - \\epsilon(1-\\epsilon)(g_1^2+g_2^2)\\\\\n",
    "             - \\epsilon(1-\\epsilon)(g_1^2+g_2^2)\n",
    "             & \\epsilon^2 g_1^2 + (1-\\epsilon)^2 g_2^2  \\\\\n",
    "        \\end{matrix} \\right)\\,.\n",
    "\\end{equation}"
   ]
  },
  {
   "cell_type": "markdown",
   "metadata": {},
   "source": [
    "## Teilaufgabe d)"
   ]
  },
  {
   "cell_type": "code",
   "execution_count": 1,
   "metadata": {},
   "outputs": [
    {
     "name": "stdout",
     "output_type": "stream",
     "text": [
      "Die wahre Ereigniszahl ist f = [254.84375 206.40625]\n",
      "Die Kovarianzmatrix von f ist V[f]\n",
      "[[ 80078.125      -15064.67285156]\n",
      " [-15064.67285156  57457.05566406]]\n",
      "Der Fehler von f1 ist 282.9807855667943\n",
      "Der Fehler von f2 ist 239.70201430956413\n",
      "Der Korrelationskoeffizient rho ist -0.22209105819766697\n"
     ]
    }
   ],
   "source": [
    "import numpy as np\n",
    "\n",
    "\n",
    "def f(g, e):\n",
    "    # Sehr komische Dinge passieren hier, wenn man g1, g2 = *g, mehrmals hintereinander aufruft.\n",
    "    # Warum ist das so? \n",
    "    #g1, g2 = *g, # Das Komma macht aus g1, g2 ein Tupel und der Stern entpackt das Array\n",
    "    g1, g2 = g\n",
    "    f = np.array([(1-e)*g1-e*g2, -e*g1+(1-e)*g2])\n",
    "    return 5/(4*(1-2*e))*f\n",
    "\n",
    "\n",
    "def Vf(g, e):\n",
    "    g1, g2 = g\n",
    "    varf1 = (1-e)**2*g1**2+e**2*g1**2\n",
    "    cov = -e*(1-e)*(g1**2+g2**2)\n",
    "    varf2 = e**2*g1**2+(1-e)**2*g2**2 \n",
    "    Vf = np.array([[varf1, cov], [cov, varf2]])\n",
    "    return 25/(16*(1-2*e)**2)*Vf\n",
    "\n",
    "\n",
    "g = np.array([200,169])\n",
    "e = 0.1\n",
    "f = f(g, e)\n",
    "print('Die wahre Ereigniszahl ist f =', f)\n",
    "Vf = Vf(g, e)\n",
    "print('Die Kovarianzmatrix von f ist V[f]')\n",
    "print(Vf)\n",
    "sigmaf1 = np.sqrt(Vf[0,0])\n",
    "sigmaf2 = np.sqrt(Vf[1,1])\n",
    "cov = Vf[0,1]\n",
    "rho = cov/(sigmaf1*sigmaf2)\n",
    "print('Der Fehler von f1 ist', sigmaf1)\n",
    "print('Der Fehler von f2 ist', sigmaf2)\n",
    "print('Der Korrelationskoeffizient rho ist', rho)"
   ]
  },
  {
   "cell_type": "markdown",
   "metadata": {},
   "source": [
    "## Teilaufgabe e)"
   ]
  },
  {
   "cell_type": "code",
   "execution_count": 2,
   "metadata": {},
   "outputs": [
    {
     "name": "stdout",
     "output_type": "stream",
     "text": [
      "[200 169]\n",
      "Die wahre Ereigniszahl ist f = [327.5  133.75]\n",
      "Die Kovarianzmatrix von f ist V[f]\n",
      "[[ 812500.     -642759.375 ]\n",
      " [-642759.375   651639.0625]]\n",
      "Der Fehler von f1 ist 901.3878188659976\n",
      "Der Fehler von f2 ist 807.241638234798\n",
      "Der Korrelationskoeffizient rho ist -0.8833507454292174\n"
     ]
    }
   ],
   "source": [
    "import numpy as np\n",
    "\n",
    "\n",
    "def f(g, e):\n",
    "    # Sehr komische Dinge passieren hier, wenn man g1, g2 = *g, mehrmals hintereinander aufruft.\n",
    "    # Warum ist das so?\n",
    "    # Deswegen Funktionsdef. und Aufruf in gleicher Zelle\n",
    "    g1, g2 = *g, # Das Komma macht aus g1, g2 ein Tupel und der Stern entpackt das Array\n",
    "    f = np.array([(1-e)*g1-e*g2, -e*g1+(1-e)*g2])\n",
    "    return 5/(4*(1-2*e))*f\n",
    "\n",
    "\n",
    "def Vf(g, e):\n",
    "    g1, g2 = *g,\n",
    "    varf1 = (1-e)**2*g1**2+e**2*g1**2\n",
    "    cov = -e*(1-e)*(g1**2+g2**2)\n",
    "    varf2 = e**2*g1**2+(1-e)**2*g2**2 \n",
    "    Vf = np.array([[varf1, cov], [cov, varf2]])\n",
    "    return 25/(16*(1-2*e)**2)*Vf\n",
    "\n",
    "\n",
    "g = np.array([200,169])\n",
    "e = 0.4\n",
    "print(g)\n",
    "f = f(g, e)\n",
    "print('Die wahre Ereigniszahl ist f =', f)\n",
    "Vf = Vf(g, e)\n",
    "print('Die Kovarianzmatrix von f ist V[f]')\n",
    "print(Vf)\n",
    "sigmaf1 = np.sqrt(Vf[0,0])\n",
    "sigmaf2 = np.sqrt(Vf[1,1])\n",
    "cov = Vf[0,1]\n",
    "rho = cov/(sigmaf1*sigmaf2)\n",
    "print('Der Fehler von f1 ist', sigmaf1)\n",
    "print('Der Fehler von f2 ist', sigmaf2)\n",
    "print('Der Korrelationskoeffizient rho ist', rho)"
   ]
  },
  {
   "cell_type": "markdown",
   "metadata": {},
   "source": [
    "$f_1$ und $f_2$ sind asymmetrischer geworden. Die größere Ungenauigkeit der Messung führt zu einer ungenauer bekannten wahren Ergebniszahl $\\mathbf{f}$, das ist recht logisch. Die beiden Komponenten von $f$ sind stärker (negativ) korreliert als zuvor."
   ]
  },
  {
   "cell_type": "markdown",
   "metadata": {},
   "source": [
    "## Teilaufgabe f)\n",
    "Bei $\\epsilon = 0.5$ handelt es sich um einen reinen Zufallsprozess, da mit 50 Prozent Wahrscheinlichkeit die Messung korrekt bzw. falsch zugeordnet wird. Dafür sind unsere Methoden der Entfaltung aber nicht gedacht. Bei gleicher Wahrscheinlichkeit der korrekten und falschen Zuordnung kann man aus den gemessenen Zahlen nicht auf die wahren Zahlen zurückschließen, weswegen $\\mathbf{A}$ nicht mehr invertierbar wird. Anschaulich gesprochen hat man keinerlei Kenntnis mehr über die Messung und ist gezwungen, arithmetisch zu mitteln, sodass man nur aussagen kann, dass $f_1$ und $f_2$ gleich groß sind. Das ist keine wertvolle Information. Deswegen ist es nicht sinnvoll, Fehler anzugeben."
   ]
  }
 ],
 "metadata": {
  "kernelspec": {
   "display_name": "Python 3",
   "language": "python",
   "name": "python3"
  },
  "language_info": {
   "codemirror_mode": {
    "name": "ipython",
    "version": 3
   },
   "file_extension": ".py",
   "mimetype": "text/x-python",
   "name": "python",
   "nbconvert_exporter": "python",
   "pygments_lexer": "ipython3",
   "version": "3.7.0"
  }
 },
 "nbformat": 4,
 "nbformat_minor": 2
}
