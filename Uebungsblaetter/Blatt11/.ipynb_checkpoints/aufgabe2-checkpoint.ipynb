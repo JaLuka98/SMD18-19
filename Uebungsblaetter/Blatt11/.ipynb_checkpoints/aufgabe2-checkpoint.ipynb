{
 "cells": [
  {
   "cell_type": "code",
   "execution_count": 1,
   "metadata": {},
   "outputs": [],
   "source": [
    "import numpy as np\n",
    "import matplotlib.pyplot as plt\n",
    "from scipy import stats"
   ]
  },
  {
   "cell_type": "code",
   "execution_count": 2,
   "metadata": {},
   "outputs": [],
   "source": [
    "def kstest(X, Y, alpha):\n",
    "    FX = np.array([0])\n",
    "    FY = np.array([0])\n",
    "    k1 = 0\n",
    "    k2 = 0\n",
    "    \n",
    "    for i in X:\n",
    "        FX = np.append(FX, (i+FX[k1]))\n",
    "        k1 += 1\n",
    "    \n",
    "    for i in Y:\n",
    "        FY = np.append(FY, (i+FY[k2]))\n",
    "        k2 += 1         \n",
    "    \n",
    "    FX = np.delete(FX, 0) \n",
    "    FY = np.delete(FY, 0)\n",
    "    \n",
    "    FX = FX/np.sum(X) #kumulierte Verteilungsfunktion\n",
    "    FY = FY/np.sum(Y) #kumulierte Verteilungsfunktion\n",
    "    \n",
    "    \n",
    "    d = np.max(np.abs(FX-FY)) #maximale Abstand\n",
    "    \n",
    "    K_alpha = np.sqrt(np.log(2/alpha)/2)\n",
    "    \n",
    "    bestanden = True\n",
    "    \n",
    "    #Überprüfung der Hypothese\n",
    "    if np.sqrt(np.sum(X)*np.sum(Y)/(np.sum(X)+np.sum(Y)))*d > K_alpha:\n",
    "        bestanden = False\n",
    "    \n",
    "    return bestanden\n",
    "    "
   ]
  },
  {
   "cell_type": "code",
   "execution_count": 3,
   "metadata": {},
   "outputs": [
    {
     "name": "stdout",
     "output_type": "stream",
     "text": [
      "10000\n",
      "10000\n",
      "[  0   0   0   0   0   0   0   0   0   0   0   0   0   0   1   0   2   2\n",
      "   2   1   6   2  16  10   7  16  28  30  33  40  51  76  91  93  91 113\n",
      " 148 173 192 228 241 238 266 310 337 377 353 389 363 420 398 397 416 365\n",
      " 386 382 330 311 326 247 247 236 205 170 156 119 106  80  74  49  53  46\n",
      "  41  28  31  10  10   8   7   5   4   2   3   1   0   2   2   1   0   0\n",
      "   0   0   0   0   0   0   0   0   0   0]\n",
      "100\n"
     ]
    },
    {
     "data": {
      "image/png": "[encoded data removed]",
      "text/plain": [
       "<Figure size 432x288 with 1 Axes>"
      ]
     },
     "metadata": {
      "needs_background": "light"
     },
     "output_type": "display_data"
    }
   ],
   "source": [
    "prng = np.random.RandomState(10)\n",
    "\n",
    "my = 100\n",
    "sigma = 10\n",
    "normal = prng.normal(my, sigma, 10000)\n",
    "normal = np.round(normal)\n",
    "\n",
    "print(np.size(normal))    \n",
    "normal = np.delete(normal, np.where(normal < my-5*sigma))\n",
    "normal = np.delete(normal, np.where(normal > my+5*sigma))\n",
    "print(np.size(normal))\n",
    "\n",
    "normal_bins = np.histogram(normal, bins=np.linspace(my-5*sigma,my+5*sigma,101))\n",
    "print(normal_bins[0])\n",
    "print(np.size(normal_bins[0]))\n",
    "\n",
    "plt.hist(normal, bins=np.linspace(my-5*sigma,my+5*sigma,101), alpha=0.5) \n",
    "plt.show()"
   ]
  },
  {
   "cell_type": "code",
   "execution_count": 4,
   "metadata": {},
   "outputs": [
    {
     "name": "stdout",
     "output_type": "stream",
     "text": [
      "99.54675467546755\n"
     ]
    }
   ],
   "source": [
    "abbruch = True\n",
    "\n",
    "for lam in np.linspace(99,100,10000):\n",
    "    if abbruch:\n",
    "        \n",
    "        poisson = prng.poisson(lam, 10000)\n",
    "      \n",
    "        poisson = np.delete(poisson, np.where(poisson < my-5*sigma))\n",
    "        poisson = np.delete(poisson, np.where(poisson > my+5*sigma))\n",
    "\n",
    "        poisson_bins = np.histogram(poisson, bins=np.linspace(my-5*sigma,my+5*sigma,101))\n",
    "    \n",
    "        bestanden = kstest(poisson_bins[0], normal_bins[0], 0.05)\n",
    "    \n",
    "        if bestanden:\n",
    "            print(lam)\n",
    "            abbruch = False\n",
    "        \n"
   ]
  },
  {
   "cell_type": "code",
   "execution_count": null,
   "metadata": {},
   "outputs": [],
   "source": [
    "poisson = prng.poisson(10000,10000)\n",
    "normal = prng.normal(my, sigma, 10000)"
   ]
  }
 ],
 "metadata": {
  "kernelspec": {
   "display_name": "Python 3",
   "language": "python",
   "name": "python3"
  },
  "language_info": {
   "codemirror_mode": {
    "name": "ipython",
    "version": 3
   },
   "file_extension": ".py",
   "mimetype": "text/x-python",
   "name": "python",
   "nbconvert_exporter": "python",
   "pygments_lexer": "ipython3",
   "version": "3.7.0"
  }
 },
 "nbformat": 4,
 "nbformat_minor": 2
}
