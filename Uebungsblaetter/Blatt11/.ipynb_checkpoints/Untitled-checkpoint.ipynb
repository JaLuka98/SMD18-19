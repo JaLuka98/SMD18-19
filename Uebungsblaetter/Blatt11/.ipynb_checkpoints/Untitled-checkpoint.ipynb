{
 "cells": [
  {
   "cell_type": "markdown",
   "metadata": {},
   "source": [
    "# Aufgabe 32: Chi-Quadrat-Test"
   ]
  },
  {
   "cell_type": "code",
   "execution_count": 44,
   "metadata": {},
   "outputs": [],
   "source": [
    "import numpy as np\n",
    "from scipy.stats import chi2\n",
    "\n",
    "def gaussian(x, mu, sigma):\n",
    "    return 1/(2*np.pi*sigma**2)*np.exp(-((x-mu)/sigma)**2/2)\n",
    "\n",
    "\n",
    "def chisquared(n, values, hypo):\n",
    "    sum = 0\n",
    "    for i in range(0,n):\n",
    "        sum += (values[i] - hypo)**2/sigma**2\n",
    "    return sum"
   ]
  },
  {
   "cell_type": "code",
   "execution_count": 45,
   "metadata": {
    "collapsed": true
   },
   "outputs": [],
   "source": [
    "E = np.array([31.6, 32.2, 31.2, 31.9, 31.3, 30.8, 31.3])\n",
    "sigma = 0.5"
   ]
  },
  {
   "cell_type": "code",
   "execution_count": 46,
   "metadata": {
    "collapsed": true
   },
   "outputs": [],
   "source": [
    "Etrue = 31.3"
   ]
  },
  {
   "cell_type": "code",
   "execution_count": 53,
   "metadata": {},
   "outputs": [
    {
     "name": "stdout",
     "output_type": "stream",
     "text": [
      "21.92\n",
      "12.5915872437\n"
     ]
    }
   ],
   "source": [
    "print(chisquared(np.size(E), E, 31.3))\n",
    "print(chi2.ppf(0.95, 6))"
   ]
  },
  {
   "cell_type": "code",
   "execution_count": null,
   "metadata": {
    "collapsed": true
   },
   "outputs": [],
   "source": [
    "print(chisquared(np.size(E), E, 30.7))\n",
    "print(chi2.ppf(0.95, 6))"
   ]
  }
 ],
 "metadata": {
  "kernelspec": {
   "display_name": "Python 3",
   "language": "python",
   "name": "python3"
  },
  "language_info": {
   "codemirror_mode": {
    "name": "ipython",
    "version": 3
   },
   "file_extension": ".py",
   "mimetype": "text/x-python",
   "name": "python",
   "nbconvert_exporter": "python",
   "pygments_lexer": "ipython3",
   "version": "3.6.1"
  }
 },
 "nbformat": 4,
 "nbformat_minor": 2
}
