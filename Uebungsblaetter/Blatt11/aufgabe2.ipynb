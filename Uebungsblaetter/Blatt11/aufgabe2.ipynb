{
 "cells": [
  {
   "cell_type": "markdown",
   "metadata": {},
   "source": [
    "# Aufgabe 33"
   ]
  },
  {
   "cell_type": "code",
   "execution_count": 1,
   "metadata": {},
   "outputs": [],
   "source": [
    "import numpy as np\n",
    "import matplotlib.pyplot as plt\n",
    "from scipy import stats"
   ]
  },
  {
   "cell_type": "markdown",
   "metadata": {},
   "source": [
    "## a)"
   ]
  },
  {
   "cell_type": "markdown",
   "metadata": {},
   "source": [
    "Die Erwartungswerte von Gauß- und Poisson-Verteilung müssen gleich sein $\\mu = \\lambda$.\n",
    "Die Standardabweichung Gauß- und Poisson-Verteilung müssen auch gleich sein $\\sigma = \\sqrt{\\lambda}$.\n",
    "Außerdem sollte $\\lambda >> 1$ sein. "
   ]
  },
  {
   "cell_type": "markdown",
   "metadata": {},
   "source": [
    "## b)"
   ]
  },
  {
   "cell_type": "code",
   "execution_count": 2,
   "metadata": {},
   "outputs": [],
   "source": [
    "def kstest(X, Y, alpha): \n",
    "    # X einzelne Bineinträge\n",
    "    # Y einzelne Bineinträge\n",
    "    FX = np.array([0]) #empirische Verteilungsfunktion\n",
    "    FY = np.array([0]) #empirische Verteilungsfunktion\n",
    "    k1 = 0\n",
    "    k2 = 0\n",
    "    \n",
    "    for i in X: # Summe der Binneinträge mit Binnummer < x\n",
    "        FX = np.append(FX, (i+FX[k1]))\n",
    "        k1 += 1\n",
    "    \n",
    "    for i in Y: # Summe der Binneinträge mit Binnummer < x\n",
    "        FY = np.append(FY, (i+FY[k2]))\n",
    "        k2 += 1         \n",
    "    \n",
    "    FX = np.delete(FX, 0) \n",
    "    FY = np.delete(FY, 0)\n",
    "    \n",
    "    FX = FX/np.sum(X) # geteilt durch Gesamtanzahl der Bineinträge\n",
    "    FY = FY/np.sum(Y) # geteilt durch Gesamtanzahl der Bineinträge\n",
    "    \n",
    "    \n",
    "    d = np.max(np.abs(FX-FY)) #maximale Abstand\n",
    "    \n",
    "    K_alpha = np.sqrt(np.log(2/alpha)/2)\n",
    "    \n",
    "    bestanden = True\n",
    "    \n",
    "    #Überprüfung der Hypothese\n",
    "    if np.sqrt(np.sum(X)*np.sum(Y)/(np.sum(X)+np.sum(Y)))*d > K_alpha:\n",
    "        bestanden = False\n",
    "    \n",
    "    return bestanden\n",
    "    "
   ]
  },
  {
   "cell_type": "markdown",
   "metadata": {},
   "source": [
    "## c)"
   ]
  },
  {
   "cell_type": "code",
   "execution_count": 3,
   "metadata": {},
   "outputs": [
    {
     "name": "stdout",
     "output_type": "stream",
     "text": [
      "Für dieses Lambda-Wert sind sich beide Verteilungen so aehnlich,\n",
      "dass der Test sie nicht unterscheiden kann:\n",
      "8.0\n"
     ]
    }
   ],
   "source": [
    "prng = np.random.RandomState(10)\n",
    "abbruch = True\n",
    "\n",
    "for lam in np.linspace(1,100,100):\n",
    "    if abbruch:\n",
    "        #Gauß-Verteilung\n",
    "        my = lam\n",
    "        sigma = np.sqrt(lam)\n",
    "        normal = prng.normal(my, sigma, 10000)\n",
    "        normal = np.round(normal)\n",
    "\n",
    "        # Entfernen aller Werte außerhalb der 5 Sigma Umgebung  \n",
    "        normal = np.delete(normal, np.where(normal < my-5*sigma))\n",
    "        normal = np.delete(normal, np.where(normal > my+5*sigma))\n",
    "\n",
    "        # Binning der Gauß-Verteilung\n",
    "        normal_bins = np.histogram(normal, bins=np.linspace(my-5*sigma,my+5*sigma,101))\n",
    "        \n",
    "        # Poisson-Verteilung\n",
    "        poisson = prng.poisson(lam, 10000) \n",
    "        \n",
    "        # Entfernen aller Werte außerhalb der 5 Sigma Umgebung \n",
    "        poisson = np.delete(poisson, np.where(poisson < my-5*sigma))\n",
    "        poisson = np.delete(poisson, np.where(poisson > my+5*sigma))\n",
    "        \n",
    "        # Binning der Poisson-Verteilung\n",
    "        poisson_bins = np.histogram(poisson, bins=np.linspace(my-5*sigma,my+5*sigma,101))\n",
    "        \n",
    "        # Durchführung des Kolmogorow-Smirnow-Tests\n",
    "        bestanden = kstest(poisson_bins[0], normal_bins[0], 0.05) # alpha = 0.05\n",
    "    \n",
    "        if bestanden:\n",
    "            print(\"Für dieses Lambda-Wert sind sich beide Verteilungen so aehnlich,\") \n",
    "            print(\"dass der Test sie nicht unterscheiden kann:\")\n",
    "            print(lam)\n",
    "            abbruch = False\n",
    "        \n"
   ]
  },
  {
   "cell_type": "markdown",
   "metadata": {},
   "source": [
    "## d)"
   ]
  },
  {
   "cell_type": "code",
   "execution_count": 4,
   "metadata": {},
   "outputs": [
    {
     "name": "stdout",
     "output_type": "stream",
     "text": [
      "Für dieses Lambda-Wert sind sich beide Verteilungen so aehnlich,\n",
      "dass der Test sie nicht unterscheiden kann:\n",
      "9.0\n"
     ]
    }
   ],
   "source": [
    "abbruch = True\n",
    "\n",
    "for lam in np.linspace(1,100,100):\n",
    "    if abbruch:\n",
    "        #Gauß-Verteilung\n",
    "        my = lam\n",
    "        sigma = np.sqrt(lam)\n",
    "        normal = prng.normal(my, sigma, 10000)\n",
    "        normal = np.round(normal)\n",
    "\n",
    "        # Entfernen aller Werte außerhalb der 5 Sigma Umgebung  \n",
    "        normal = np.delete(normal, np.where(normal < my-5*sigma))\n",
    "        normal = np.delete(normal, np.where(normal > my+5*sigma))\n",
    "\n",
    "        # Binning der Gauß-Verteilung\n",
    "        normal_bins = np.histogram(normal, bins=np.linspace(my-5*sigma,my+5*sigma,101))\n",
    "        \n",
    "        # Poisson-Verteilung\n",
    "        poisson = prng.poisson(lam, 10000) \n",
    "        \n",
    "        # Entfernen aller Werte außerhalb der 5 Sigma Umgebung \n",
    "        poisson = np.delete(poisson, np.where(poisson < my-5*sigma))\n",
    "        poisson = np.delete(poisson, np.where(poisson > my+5*sigma))\n",
    "        \n",
    "        # Binning der Poisson-Verteilung\n",
    "        poisson_bins = np.histogram(poisson, bins=np.linspace(my-5*sigma,my+5*sigma,101))\n",
    "        \n",
    "        # Durchführung des Kolmogorow-Smirnow-Tests\n",
    "        bestanden = kstest(poisson_bins[0], normal_bins[0], 0.025) # alpha = 0.025\n",
    "    \n",
    "        if bestanden:\n",
    "            print(\"Für dieses Lambda-Wert sind sich beide Verteilungen so aehnlich,\") \n",
    "            print(\"dass der Test sie nicht unterscheiden kann:\")\n",
    "            print(lam)\n",
    "            abbruch = False\n",
    "        \n"
   ]
  },
  {
   "cell_type": "code",
   "execution_count": 5,
   "metadata": {},
   "outputs": [
    {
     "name": "stdout",
     "output_type": "stream",
     "text": [
      "Für dieses Lambda-Wert sind sich beide Verteilungen so aehnlich,\n",
      "dass der Test sie nicht unterscheiden kann:\n",
      "3.0\n"
     ]
    }
   ],
   "source": [
    "abbruch = True\n",
    "\n",
    "for lam in np.linspace(1,100,100):\n",
    "    if abbruch:\n",
    "        #Gauß-Verteilung\n",
    "        my = lam\n",
    "        sigma = np.sqrt(lam)\n",
    "        normal = prng.normal(my, sigma, 10000)\n",
    "        normal = np.round(normal)\n",
    "\n",
    "        # Entfernen aller Werte außerhalb der 5 Sigma Umgebung  \n",
    "        normal = np.delete(normal, np.where(normal < my-5*sigma))\n",
    "        normal = np.delete(normal, np.where(normal > my+5*sigma))\n",
    "\n",
    "        # Binning der Gauß-Verteilung\n",
    "        normal_bins = np.histogram(normal, bins=np.linspace(my-5*sigma,my+5*sigma,101))\n",
    "        \n",
    "        # Poisson-Verteilung\n",
    "        poisson = prng.poisson(lam, 10000) \n",
    "        \n",
    "        # Entfernen aller Werte außerhalb der 5 Sigma Umgebung \n",
    "        poisson = np.delete(poisson, np.where(poisson < my-5*sigma))\n",
    "        poisson = np.delete(poisson, np.where(poisson > my+5*sigma))\n",
    "        \n",
    "        # Binning der Poisson-Verteilung\n",
    "        poisson_bins = np.histogram(poisson, bins=np.linspace(my-5*sigma,my+5*sigma,101))\n",
    "        \n",
    "        # Durchführung des Kolmogorow-Smirnow-Tests\n",
    "        bestanden = kstest(poisson_bins[0], normal_bins[0], 0.001) # alpha = 0.001\n",
    "    \n",
    "        if bestanden:\n",
    "            print(\"Für dieses Lambda-Wert sind sich beide Verteilungen so aehnlich,\") \n",
    "            print(\"dass der Test sie nicht unterscheiden kann:\")\n",
    "            print(lam)\n",
    "            abbruch = False\n",
    "        \n"
   ]
  }
 ],
 "metadata": {
  "kernelspec": {
   "display_name": "Python 3",
   "language": "python",
   "name": "python3"
  },
  "language_info": {
   "codemirror_mode": {
    "name": "ipython",
    "version": 3
   },
   "file_extension": ".py",
   "mimetype": "text/x-python",
   "name": "python",
   "nbconvert_exporter": "python",
   "pygments_lexer": "ipython3",
   "version": "3.7.0"
  }
 },
 "nbformat": 4,
 "nbformat_minor": 2
}
