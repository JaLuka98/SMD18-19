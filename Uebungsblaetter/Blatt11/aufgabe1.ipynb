{
 "cells": [
  {
   "cell_type": "markdown",
   "metadata": {},
   "source": [
    "# Aufgabe 32: Chi-Quadrat-Test"
   ]
  },
  {
   "cell_type": "code",
   "execution_count": 1,
   "metadata": {},
   "outputs": [],
   "source": [
    "import numpy as np\n",
    "from scipy.stats import chi2\n",
    "\n",
    "def gaussian(x, mu, sigma):\n",
    "    return 1/(2*np.pi*sigma**2)*np.exp(-((x-mu)/sigma)**2/2)\n",
    "\n",
    "\n",
    "def chisquared(values, hypo, alpha, ddof):\n",
    "    n = np.size(values)\n",
    "    sum = 0\n",
    "    for i in range(0,n):\n",
    "        sum += (values[i] - hypo)**2/sigma**2\n",
    "    print('Chi-Quadrat =', sum)\n",
    "    criticalValue = chi2.ppf(1-alpha, ddof)  # ppf:https://en.wikipedia.org/wiki/Quantile_function\n",
    "    print('Kritischer Wert =', criticalValue)\n",
    "    if sum < criticalValue:\n",
    "        print('Die Nullhypothese kann nicht abgelehnt werden.')\n",
    "    else:\n",
    "        print('Die Nullhypothese kann abgelehnt werden.')"
   ]
  },
  {
   "cell_type": "code",
   "execution_count": 2,
   "metadata": {},
   "outputs": [],
   "source": [
    "E = np.array([31.6, 32.2, 31.2, 31.9, 31.3, 30.8, 31.3])  # Messwerte (in meV)\n",
    "sigma = 0.5  # Der Fehler auf jedem einzelnen Wert"
   ]
  },
  {
   "cell_type": "markdown",
   "metadata": {},
   "source": [
    "## Aufgabenteil a)\n",
    "Wir führen einen $\\chi^2$-Test („goodness of fit“) durch.<br>\n",
    "Nullhypothese: Die gemessenen Werte folgen einer Normalverteilung mit $\\mu = 31{,}3\\,\\text{meV}$ und Standardabweichung $\\sigma = 0{,}5\\,\\text{meV}$.<br>\n",
    "Wir wählen diese Nullhypothese, weil die meisten Messprozesse Messwerte liefern, die normalverteilt um den wahren Wert streuen.\n",
    "Dann berechnen wir die quadratischen Abweichung der Messwerte vom vermuteten wahren Wert und dividieren durch die vermutete Varianz gemäß der Formel aus der Vorlesung.\n",
    "Hinweis: Beträgt ddof (Anzahl die Freiheit"
   ]
  },
  {
   "cell_type": "code",
   "execution_count": 3,
   "metadata": {},
   "outputs": [
    {
     "name": "stdout",
     "output_type": "stream",
     "text": [
      "Chi-Quadrat = 6.080000000000007\n",
      "Kritischer Wert = 11.070497693516351\n",
      "Die Nullhypothese kann nicht abgelehnt werden.\n",
      "None\n"
     ]
    }
   ],
   "source": [
    "Ehypo = 31.3 # Hypothetical mu for the normal dist\n",
    "alpha = 0.05  # signifikanz\n",
    "print(chisquared(E, Ehypo, alpha, ddof = 5))"
   ]
  },
  {
   "cell_type": "markdown",
   "metadata": {},
   "source": [
    "## Aufgabenteil b)\n",
    "Das gleiche, nur mit $\\mu = 30{,}7\\,\\text{meV}$."
   ]
  },
  {
   "cell_type": "code",
   "execution_count": 4,
   "metadata": {},
   "outputs": [
    {
     "name": "stdout",
     "output_type": "stream",
     "text": [
      "Chi-Quadrat = 21.920000000000073\n",
      "Kritischer Wert = 11.070497693516351\n",
      "Die Nullhypothese kann abgelehnt werden.\n",
      "None\n"
     ]
    }
   ],
   "source": [
    "Ehypo2 = 30.7 # Hypothetical mu for the normal dist\n",
    "alpha = 0.05  # signifikanz\n",
    "print(chisquared(E, Ehypo2, alpha, ddof = 5))"
   ]
  }
 ],
 "metadata": {
  "kernelspec": {
   "display_name": "Python 3",
   "language": "python",
   "name": "python3"
  },
  "language_info": {
   "codemirror_mode": {
    "name": "ipython",
    "version": 3
   },
   "file_extension": ".py",
   "mimetype": "text/x-python",
   "name": "python",
   "nbconvert_exporter": "python",
   "pygments_lexer": "ipython3",
   "version": "3.7.0"
  }
 },
 "nbformat": 4,
 "nbformat_minor": 2
}
