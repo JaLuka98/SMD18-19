{
 "cells": [
  {
   "cell_type": "code",
   "execution_count": 18,
   "metadata": {
    "collapsed": true
   },
   "outputs": [],
   "source": [
    "import pandas as pd\n",
    "import numpy as np\n",
    "from scipy import linalg\n",
    "import matplotlib.pyplot as plt"
   ]
  },
  {
   "cell_type": "code",
   "execution_count": 20,
   "metadata": {},
   "outputs": [
    {
     "name": "stdout",
     "output_type": "stream",
     "text": [
      "Mittelwertsvektor der ersten Population = [ 1.91666667  2.        ]\n",
      "Mittelwertsvektor der zweiten Population = [ 3.   1.5]\n",
      "Kovarianzmatrix der ersten Population = [[ 2.20833333  2.        ]\n",
      " [ 2.          4.        ]]\n",
      "Kovarianzmatrix der zweiten Population = [[ 5.5  1.5]\n",
      " [ 1.5  1.5]]\n",
      "Kombinierte Intravarianzmatrix = [[ 7.70833333  3.5       ]\n",
      " [ 3.5         5.5       ]]\n",
      "Intervarianzmatrix = [[ 1.17361111 -0.54166667]\n",
      " [-0.54166667  0.25      ]]\n",
      "[-0.25570145  0.2536282 ]\n"
     ]
    }
   ],
   "source": [
    "p0 = np.array([[1,1],[2,1],[1.5,2],[2,2],[2,3],[3,3]])\n",
    "x0, y0 = zip(*p0)\n",
    "p1 = np.array([[1.5,1],[2.5,1],[3.5,1],[2.5,2],[3.5,2],[4.5,2]])\n",
    "x1, y0 = zip(*p1)\n",
    "mu0 = np.array([np.mean(p0x), np.mean(p0y)])\n",
    "mu0 = np.transpose(mu0)\n",
    "print('Mittelwertsvektor der ersten Population =', mu0)\n",
    "mu1 = np.array([np.mean(p1x), np.mean(p1y)])\n",
    "mu1 = np.transpose(mu1)\n",
    "print('Mittelwertsvektor der zweiten Population =', mu1)\n",
    "covP0 = 6*np.cov(p0, ddof = 0, rowvar=False)\n",
    "print('Kovarianzmatrix der ersten Population =', covP0)\n",
    "covP1 = 6*np.cov(p1, ddof = 0, rowvar=False)\n",
    "print('Kovarianzmatrix der zweiten Population =', covP1)\n",
    "Sw = covP0 + covP1\n",
    "print('Kombinierte Intravarianzmatrix =', Sw)\n",
    "Sb = np.outer(mu0-mu1, mu0-mu1)\n",
    "print('Intervarianzmatrix =', Sb)\n",
    "SwInv = linalg.inv(Sw)\n",
    "wstrich = np.dot(SwInv, mu0-mu1)\n",
    "print(wstrich)"
   ]
  },
  {
   "cell_type": "code",
   "execution_count": null,
   "metadata": {
    "collapsed": true
   },
   "outputs": [],
   "source": []
  },
  {
   "cell_type": "code",
   "execution_count": null,
   "metadata": {
    "collapsed": true
   },
   "outputs": [],
   "source": []
  }
 ],
 "metadata": {
  "kernelspec": {
   "display_name": "Python 3",
   "language": "python",
   "name": "python3"
  },
  "language_info": {
   "codemirror_mode": {
    "name": "ipython",
    "version": 3
   },
   "file_extension": ".py",
   "mimetype": "text/x-python",
   "name": "python",
   "nbconvert_exporter": "python",
   "pygments_lexer": "ipython3",
   "version": "3.6.1"
  }
 },
 "nbformat": 4,
 "nbformat_minor": 2
}
