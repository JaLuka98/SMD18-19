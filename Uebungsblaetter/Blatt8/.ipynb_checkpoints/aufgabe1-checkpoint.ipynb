{
 "cells": [
  {
   "cell_type": "markdown",
   "metadata": {},
   "source": [
    "# Aufgabe 22- Fehlerfortpflanzung"
   ]
  },
  {
   "cell_type": "markdown",
   "metadata": {},
   "source": [
    "## Teilaufgabe a) - Analytische Berechnung\n",
    "Es sei $y = a_0+a_1x$ mit $a_0 = 1{,}0 \\pm 0{,}2$ und $a_1 = 1{,}0 \\pm 0{,}2$, der Korrelationskoeffizient sei $\\rho=-0{,}8$. Die Kovarianz von $a_0$ und $a_1$ ergibt sich dann zu $\\sigma_{a_0{,}a_1} = \\sigma_{a_0}\\sigma_{a_1}\\rho = 0{,}2 \\cdot 0{,}2 \\cdot (-0{,}8) = -0{,}032$.<br>\n",
    "Es ist nicht angegeben, welche \"Form\" der Unsicherheit zu berechnen ist. Wir entscheiden uns für die Varianz, um lästige Wurzeln zu sparen. Um die Standardabweichung zu erhalten, ist stets die positive Wurzel der Varianz zu nehmen. <br>\n",
    "Mit Vernachlässigung von Korrelation gilt für die Varianz von y\n",
    "\\begin{align}\n",
    "\\sigma_y^2 &= \\left (\\frac{\\partial y}{\\partial a_0} \\sigma_{a_0}\\right)^2 + \\left (\\frac{\\partial y}{\\partial a_1} \\sigma_{a_1}\\right)^2 \\\\\n",
    "&= \\sigma_{a_0}^2 + \\sigma_{a_1}^2 x^2 = 0{,}04 + 0{,}04 \\cdot x^2\\,.\n",
    "\\end{align}\n",
    "Wird auch die Korrelation berücksichtigt, so ergibt sich\n",
    "\\begin{align}\n",
    "\\sigma_y^2 &= \\left (\\frac{\\partial y}{\\partial a_0} \\sigma_{a_0}\\right)^2 + \\left (\\frac{\\partial y}{\\partial a_1} \\sigma_{a_1}\\right)^2 + 2 \\frac{\\partial y}{\\partial a_0} \\frac{\\partial y}{\\partial a_1}\\sigma_{a_0{,}a_1}\\\\\n",
    "&= \\sigma_{a_0}^2 + \\sigma_{a_1}^2 x^2\\, + 2\\sigma_{a_0{,}a_1}x = 0{,}04 + 0{,}04 \\cdot x^2\\ - 0{,}064 \\cdot x\\,.\n",
    "\\end{align}"
   ]
  },
  {
   "cell_type": "markdown",
   "metadata": {},
   "source": [
    "## Teilaufgabe b) - Berechnung durch eine Monte-Carlo-Simulation"
   ]
  },
  {
   "cell_type": "code",
   "execution_count": 1,
   "metadata": {
    "collapsed": true
   },
   "outputs": [],
   "source": [
    "import numpy as np\n",
    "import uncertainties as unc\n",
    "import uncertainties.unumpy as unp\n",
    "from uncertainties import correlated_values\n",
    "from uncertainties import ufloat\n",
    "from scipy import optimize\n",
    "import matplotlib.pyplot as plt\n",
    "\n",
    "def parabola(x, a, b, c):\n",
    "    return a*x**2+b*x+c\n",
    "\n",
    "\n",
    "def varianceUncorrelated(x, sigma_a0, sigma_a1):\n",
    "    return sigma_a0**2+sigma_a1**2*x**2\n",
    "\n",
    "\n",
    "def varianceCorrelated(x, sigma_a0, sigma_a1, cov):\n",
    "    return sigma_a0**2+sigma_a1**2*x**2 + 2*cov*x"
   ]
  },
  {
   "cell_type": "code",
   "execution_count": 2,
   "metadata": {},
   "outputs": [
    {
     "ename": "NameError",
     "evalue": "name 'ufloat' is not defined",
     "output_type": "error",
     "traceback": [
      "\u001b[1;31m---------------------------------------------------------------------------\u001b[0m",
      "\u001b[1;31mNameError\u001b[0m                                 Traceback (most recent call last)",
      "\u001b[1;32m<ipython-input-2-e339746fbd2e>\u001b[0m in \u001b[0;36m<module>\u001b[1;34m()\u001b[0m\n\u001b[1;32m----> 1\u001b[1;33m \u001b[0ma_0\u001b[0m \u001b[1;33m=\u001b[0m \u001b[0mufloat\u001b[0m\u001b[1;33m(\u001b[0m\u001b[1;36m1.0\u001b[0m\u001b[1;33m,\u001b[0m\u001b[1;36m0.2\u001b[0m\u001b[1;33m)\u001b[0m\u001b[1;33m\u001b[0m\u001b[0m\n\u001b[0m\u001b[0;32m      2\u001b[0m \u001b[0ma_1\u001b[0m \u001b[1;33m=\u001b[0m \u001b[0mufloat\u001b[0m\u001b[1;33m(\u001b[0m\u001b[1;36m1.0\u001b[0m\u001b[1;33m,\u001b[0m\u001b[1;36m0.2\u001b[0m\u001b[1;33m)\u001b[0m\u001b[1;33m\u001b[0m\u001b[0m\n\u001b[0;32m      3\u001b[0m \u001b[0mrho\u001b[0m \u001b[1;33m=\u001b[0m \u001b[1;33m-\u001b[0m\u001b[1;36m0.8\u001b[0m\u001b[1;33m\u001b[0m\u001b[0m\n\u001b[0;32m      4\u001b[0m \u001b[0mcov\u001b[0m \u001b[1;33m=\u001b[0m \u001b[0mrho\u001b[0m\u001b[1;33m*\u001b[0m\u001b[0ma_0\u001b[0m\u001b[1;33m.\u001b[0m\u001b[0ms\u001b[0m\u001b[1;33m*\u001b[0m\u001b[0ma_1\u001b[0m\u001b[1;33m.\u001b[0m\u001b[0ms\u001b[0m\u001b[1;33m\u001b[0m\u001b[0m\n\u001b[0;32m      5\u001b[0m \u001b[1;33m\u001b[0m\u001b[0m\n",
      "\u001b[1;31mNameError\u001b[0m: name 'ufloat' is not defined"
     ]
    }
   ],
   "source": [
    "a_0 = ufloat(1.0,0.2)\n",
    "a_1 = ufloat(1.0,0.2)\n",
    "rho = -0.8\n",
    "cov = rho*a_0.s*a_1.s\n",
    "\n",
    "covmatrix = np.array([[a_0.s**2, 0], [0, a_1.s**2]])\n",
    "prng = np.random.RandomState(0)\n",
    "sizeArr = int(1e6)\n",
    "arrayWithoutCorrelation = prng.multivariate_normal(mean = [a_0.n, a_1.n], cov = covmatrix, size=sizeArr)\n",
    "a_0_arraywoc = arrayWithoutCorrelation[:,0]\n",
    "a_1_arraywoc = arrayWithoutCorrelation[:,1]\n",
    "sizeLin = 100\n",
    "xlin = np.linspace(-10,10,sizeLin)\n",
    "\n",
    "plt.scatter(a_0_arraywoc, a_1_arraywoc, s = 0.001)\n",
    "plt.plot(1,1, 'rx')\n",
    "plt.grid()\n",
    "plt.xlabel(r'$a_0$')\n",
    "plt.ylabel(r'$a_1$')\n",
    "plt.title(r'Scatterplot der beiden unkorrelierten Parameter $a_0$ und $a_1$')\n",
    "plt.show()\n",
    "plt.clf()"
   ]
  },
  {
   "cell_type": "code",
   "execution_count": 231,
   "metadata": {},
   "outputs": [
    {
     "name": "stdout",
     "output_type": "stream",
     "text": [
      "Die numerisch durch ein Monte-Carlo-Verfahren geschätzte Varianz von  y = a_0 + a_1 * x ist\n",
      "\\sigma_y^2 = 0.0400009*x^2 + 0.0001584*x + 0.0399038\n",
      "Es wurden 1000000 Zufallszahlen benutzt und 100 x-Werte verwendet, um diese Formel zu generieren.\n"
     ]
    }
   ],
   "source": [
    "varArray = []\n",
    "for x in xlin:\n",
    "    y = a_0_arraywoc+a_1_arraywoc*x\n",
    "    var = np.var(y, ddof = 1)\n",
    "    varArray.append(var)\n",
    "    \n",
    "params, covariance_matrix = optimize.curve_fit(parabola, xlin, varArray)\n",
    "a, b, c = correlated_values(params, covariance_matrix)\n",
    "print('Die numerisch durch ein Monte-Carlo-Verfahren geschätzte Varianz von  y = a_0 + a_1 * x ist')\n",
    "print('\\sigma_y^2 = {:2.7f}*x^2'.format(a.n), '+ {:2.7f}*x'.format(b.n), '+ {:2.7f}'.format(c.n))\n",
    "print('Es wurden', sizeArr, 'Zufallszahlen benutzt und', sizeLin, 'x-Werte verwendet, um diese Formel zu generieren.')"
   ]
  },
  {
   "cell_type": "code",
   "execution_count": 232,
   "metadata": {},
   "outputs": [
    {
     "data": {
      "image/png": "[encoded data removed]",
      "text/plain": [
       "<matplotlib.figure.Figure at 0x23c00a9f6d8>"
      ]
     },
     "metadata": {},
     "output_type": "display_data"
    },
    {
     "name": "stdout",
     "output_type": "stream",
     "text": [
      "Die numerisch durch ein Monte-Carlo-Verfahren geschätzte Varianz von  y = a_0 + a_1 * x ist\n",
      "\\sigma_y^2 = 0.0399741*x^2 + -0.0639423*x + 0.0399677\n",
      "Es wurden 1000000 Zufallszahlen benutzt und 100 x-Werte verwendet, um diese Formel zu generieren.\n"
     ]
    }
   ],
   "source": [
    "covmatrix = np.array([[a_0.s**2, cov], [cov, a_1.s**2]])\n",
    "arrayWithCorrelation = np.random.multivariate_normal(mean = [a_0.n, a_1.n], cov = covmatrix, size=sizeArr)\n",
    "a_0_arraywc = arrayWithCorrelation[:,0]\n",
    "a_1_arraywc = arrayWithCorrelation[:,1]\n",
    "\n",
    "plt.scatter(a_0_arraywc, a_1_arraywc, s = 0.01)\n",
    "plt.plot(1,1, 'rx')\n",
    "plt.grid()\n",
    "plt.xlabel(r'$a_0$')\n",
    "plt.ylabel(r'$a_1$')\n",
    "plt.title(r'Scatterplot der beiden korrelierten Parameter $a_0$ und $a_1$')\n",
    "plt.show()\n",
    "plt.clf()\n",
    "\n",
    "varArray = []\n",
    "for x in xlin:\n",
    "    y = a_0_arraywc+a_1_arraywc*x\n",
    "    var = np.var(y, ddof = 1)\n",
    "    varArray.append(var)\n",
    "    \n",
    "params, covariance_matrix = optimize.curve_fit(parabola, xlin, varArray)\n",
    "a, b, c = correlated_values(params, covariance_matrix)\n",
    "print('Die numerisch durch ein Monte-Carlo-Verfahren geschätzte Varianz von  y = a_0 + a_1 * x ist')\n",
    "print('\\sigma_y^2 = {:2.7f}*x^2'.format(a.n), '+ {:2.7f}*x'.format(b.n), '+ {:2.7f}'.format(c.n))\n",
    "print('Es wurden', sizeArr, 'Zufallszahlen benutzt und', sizeLin, 'x-Werte verwendet, um diese Formel zu generieren.')"
   ]
  },
  {
   "cell_type": "markdown",
   "metadata": {},
   "source": [
    "## Teilaufgabe c) - Vergleich"
   ]
  },
  {
   "cell_type": "code",
   "execution_count": 233,
   "metadata": {},
   "outputs": [
    {
     "name": "stdout",
     "output_type": "stream",
     "text": [
      "Wir wollen zunächst unkorrelierte Variablen betrachten.\n",
      "x = -3.0 :\n",
      "Die analytische Berechnung ergibt: Mittelwert = -2.0 , Standardabweichung = 0.632455532034\n",
      "Mit Monte-Carlo berechnete Werte: Mittelwert = -2.00088142319 , Standardabweichung = 0.632010019585\n",
      "Die Abweichung im Mittelwert ist 0.0440711596498 %\n",
      "Die Abweichung in der Standardabweichung beträgt -0.0704417031612 %\n",
      "x = 0.0 :\n",
      "Die analytische Berechnung ergibt: Mittelwert = 1.0 , Standardabweichung = 0.2\n",
      "Mit Monte-Carlo berechnete Werte: Mittelwert = 1.00005213364 , Standardabweichung = 0.199759394073\n",
      "Die Abweichung im Mittelwert ist 0.00521336366857 %\n",
      "Die Abweichung in der Standardabweichung beträgt -0.120302963351 %\n",
      "x = 3.0 :\n",
      "Die analytische Berechnung ergibt: Mittelwert = 4.0 , Standardabweichung = 0.632455532034\n",
      "Mit Monte-Carlo berechnete Werte: Mittelwert = 4.00098569047 , Standardabweichung = 0.632761651942\n",
      "Die Abweichung im Mittelwert ist 0.0246422616591 %\n",
      "Die Abweichung in der Standardabweichung beträgt 0.0484018073425 %\n"
     ]
    }
   ],
   "source": [
    "print('Wir wollen zunächst unkorrelierte Variablen betrachten.')\n",
    "xlin = np.linspace(-3,3,3)\n",
    "for x in xlin:\n",
    "    print('x =',x,':')\n",
    "    meanAn = 1+1*x\n",
    "    stdAn = np.sqrt(varianceUncorrelated(x, 0.2, 0.2))\n",
    "    y = a_0_arraywoc+a_1_arraywoc*x\n",
    "    meanMC = np.mean(y)\n",
    "    stdMC = np.std(y, ddof = 1)\n",
    "    print('Die analytische Berechnung ergibt: Mittelwert =', meanAn, ', Standardabweichung =', stdAn)\n",
    "    print('Mit Monte-Carlo berechnete Werte: Mittelwert =', meanMC,', Standardabweichung =', stdMC)\n",
    "    print('Die Abweichung im Mittelwert ist', (meanMC-meanAn)/meanAn*100, '%')\n",
    "    print('Die Abweichung in der Standardabweichung beträgt', (stdMC-stdAn)/stdAn*100, '%')"
   ]
  },
  {
   "cell_type": "code",
   "execution_count": 234,
   "metadata": {},
   "outputs": [
    {
     "name": "stdout",
     "output_type": "stream",
     "text": [
      "Wir wollen nun korrelierte Variablen betrachten.\n",
      "x = -3.0 :\n",
      "Die analytische Berechnung ergibt: Mittelwert = -2.0 , Standardabweichung = 0.769415362467\n",
      "Mit Monte-Carlo berechnete Werte: Mittelwert = -2.00127984539 , Standardabweichung = 0.7691305859\n",
      "Die Abweichung im Mittelwert ist 0.0639922692974 %\n",
      "Die Abweichung in der Standardabweichung beträgt -0.0370120718141 %\n",
      "x = 0.0 :\n",
      "Die analytische Berechnung ergibt: Mittelwert = 1.0 , Standardabweichung = 0.2\n",
      "Mit Monte-Carlo berechnete Werte: Mittelwert = 0.999668646156 , Standardabweichung = 0.199919288317\n",
      "Die Abweichung im Mittelwert ist -0.0331353844259 %\n",
      "Die Abweichung in der Standardabweichung beträgt -0.0403558414655 %\n",
      "x = 3.0 :\n",
      "Die analytische Berechnung ergibt: Mittelwert = 4.0 , Standardabweichung = 0.45607017004\n",
      "Mit Monte-Carlo berechnete Werte: Mittelwert = 4.0006171377 , Standardabweichung = 0.455969297192\n",
      "Die Abweichung im Mittelwert ist 0.0154284424357 %\n",
      "Die Abweichung in der Standardabweichung beträgt -0.0221178349329 %\n"
     ]
    }
   ],
   "source": [
    "print('Wir wollen nun korrelierte Variablen betrachten.')\n",
    "xlin = np.linspace(-3,3,3)\n",
    "for x in xlin:\n",
    "    print('x =',x,':')\n",
    "    meanAn = 1+1*x\n",
    "    stdAn = np.sqrt(varianceCorrelated(x, 0.2, 0.2, -0.032))\n",
    "    y = a_0_arraywc+a_1_arraywc*x\n",
    "    meanMC = np.mean(y)\n",
    "    stdMC = np.std(y, ddof = 1)\n",
    "    print('Die analytische Berechnung ergibt: Mittelwert =', meanAn, ', Standardabweichung =', stdAn)\n",
    "    print('Mit Monte-Carlo berechnete Werte: Mittelwert =', meanMC,', Standardabweichung =', stdMC)\n",
    "    print('Die Abweichung im Mittelwert ist', (meanMC-meanAn)/meanAn*100, '%')\n",
    "    print('Die Abweichung in der Standardabweichung beträgt', (stdMC-stdAn)/stdAn*100, '%')"
   ]
  },
  {
   "cell_type": "code",
   "execution_count": null,
   "metadata": {
    "collapsed": true
   },
   "outputs": [],
   "source": []
  }
 ],
 "metadata": {
  "kernelspec": {
   "display_name": "Python 3",
   "language": "python",
   "name": "python3"
  },
  "language_info": {
   "codemirror_mode": {
    "name": "ipython",
    "version": 3
   },
   "file_extension": ".py",
   "mimetype": "text/x-python",
   "name": "python",
   "nbconvert_exporter": "python",
   "pygments_lexer": "ipython3",
   "version": "3.6.1"
  }
 },
 "nbformat": 4,
 "nbformat_minor": 2
}
