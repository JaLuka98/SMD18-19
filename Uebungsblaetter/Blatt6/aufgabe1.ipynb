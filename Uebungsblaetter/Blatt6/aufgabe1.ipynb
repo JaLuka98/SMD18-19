{
 "cells": [
  {
   "cell_type": "markdown",
   "metadata": {},
   "source": [
    "# Aufgabe 1 - k-NN Klassifikation"
   ]
  },
  {
   "cell_type": "markdown",
   "metadata": {},
   "source": [
    "## Teilaufgabe a)"
   ]
  },
  {
   "cell_type": "markdown",
   "metadata": {},
   "source": [
    "## Teilaufgabe b)"
   ]
  },
  {
   "cell_type": "code",
   "execution_count": 2,
   "metadata": {
    "collapsed": true
   },
   "outputs": [],
   "source": [
    "import numpy as np\n",
    "import pandas as pd"
   ]
  },
  {
   "cell_type": "code",
   "execution_count": 3,
   "metadata": {
    "collapsed": true
   },
   "outputs": [],
   "source": [
    "def dist(a,b):\n",
    "    return np.linalg.norm(a-b)\n",
    "\n",
    "\n",
    "class KNN:\n",
    "    '''KNN Classifier.\n",
    "\n",
    "    Attributes\n",
    "    ----------\n",
    "    k : int\n",
    "        Number of neighbors to consider.\n",
    "    '''\n",
    "    def __init__(self, k):\n",
    "        '''Initialization.\n",
    "        Parameters are stored as member variables/attributes.\n",
    "        \n",
    "        Parameters\n",
    "        ----------\n",
    "        k : int\n",
    "            Number of neighbors to consider.\n",
    "        '''\n",
    "        self.k = k\n",
    "\n",
    "    def fit(self, X, y):\n",
    "        '''Fit routine.\n",
    "        Training data is stored within object.\n",
    "        \n",
    "        Parameters\n",
    "        ----------\n",
    "        X : numpy.array, shape=(n_samples, n_attributes)\n",
    "            Training data.\n",
    "        y : numpy.array shape=(n_samples)\n",
    "            Training labels.\n",
    "        '''\n",
    "        self.training_data = X\n",
    "        self.training_labels = y\n",
    "\n",
    "    def predict(self, X):\n",
    "        '''Prediction routine.\n",
    "        Predict class association of each sample of X.\n",
    "        \n",
    "        Parameters\n",
    "        ----------\n",
    "        X : numpy.array, shape=(n_samples, n_attributes)\n",
    "            Data to classify.\n",
    "        \n",
    "        Returns\n",
    "        -------\n",
    "        prediction : numpy.array, shape=(n_samples)\n",
    "            Predictions, containing the predicted label of each sample.\n",
    "        '''\n",
    "        \n",
    "        # First we need to find a few parameters\n",
    "        n_attributes, n_samples = X.shape # for whatever reason no parentheses after shape...\n",
    "        n_training_data = np.size(self.training_data, axis = 1) # this means finding the amount of columns\n",
    "        distance = np.empty(shape = (n_training_data, n_samples)) # We store the distances of sample-point x_i to the training\n",
    "        # points in the i-th column!\n",
    "        \n",
    "        # Now we find the distance to each point and store it in a matrix\n",
    "        # If x_i is a point in the sample and t_j is a point in the training set, then distance[i,j] is the distance beetween them\n",
    "        for i in range(0,n_training_data): # Looping over all rows\n",
    "            for j in range(0,n_samples): # Looping over all columns\n",
    "                distance[i,j] = dist(X[:,j], self.training_data[:,i]) # We want to append the distance to each point \n",
    "        \n",
    "        # Now we sort the indices and put it in the indexList\n",
    "        indexList = np.argsort(distance, axis=0) # axis=0 means we want to sort down along the columns\n",
    "        \n",
    "        # In the zuordnungsmatrix we store the counts of the k nearest neighbors. For example:\n",
    "        # zuordnungsmatrix[0,2] = 7 means that 7 of the nearest k neighbors of point x_2 are of label 0.\n",
    "        zuordnungsmatrix = np.empty(shape = (2,n_samples))\n",
    "        for i in range(0,n_samples):\n",
    "            for j in range(0,self.k):\n",
    "                if y[indexList[j,i]] == 0:\n",
    "                    zuordnungsmatrix[0,i] += 1\n",
    "                else:\n",
    "                    zuordnungsmatrix[1,i] += 1\n",
    "                    \n",
    "        # We finally want to make the predictions. To to that we just compare the two values in each column\n",
    "        prediction = np.zeros(n_samples)\n",
    "        for i in range(0,n_samples):\n",
    "            if zuordnungsmatrix[0,i] > zuordnungsmatrix[1,i]:\n",
    "                prediction[i] = 0\n",
    "            elif zuordnungsmatrix[0,i] < zuordnungsmatrix[1,i]:\n",
    "                prediction[i] = 1\n",
    "            else:\n",
    "                prediction[i] = 2\n",
    "        return prediction"
   ]
  },
  {
   "cell_type": "code",
   "execution_count": 45,
   "metadata": {},
   "outputs": [
    {
     "name": "stdout",
     "output_type": "stream",
     "text": [
      "[[ 26.          38.          87.        ]\n",
      " [  6.69494405   7.74364571   7.41714979]\n",
      " [  2.20707621   3.57920725   2.96454426]]\n"
     ]
    }
   ],
   "source": [
    "hdf = pd.read_hdf('NeutrinoMC.hdf5', key = 'Signal')\n",
    "hits = hdf.NumberOfHits\n",
    "x = hdf.x\n",
    "y = hdf.y\n",
    "\n",
    "# Dont know how to properly loop over the three arrays, they arent changed in the code below...?\n",
    "#temp_array = [hits, x, y]\n",
    "#for count in temp_array: \n",
    "    #count = np.asarray(count)\n",
    "    #count = count[~np.isnan(count)] # ~ means not\n",
    "\n",
    "hits = np.asarray(hits)\n",
    "hits = hits[~np.isnan(hits)] # ~ means not \n",
    "x = np.asarray(x)\n",
    "x = x[~np.isnan(x)]\n",
    "y = np.asarray(y)\n",
    "y = y[~np.isnan(y)]\n",
    "\n",
    "matrix = np.matrix([hits, x, y])\n",
    "print(matrix[:,0:3]) # Look at the first three columns to see if it worked properly"
   ]
  },
  {
   "cell_type": "code",
   "execution_count": 5,
   "metadata": {},
   "outputs": [],
   "source": [
    "#training = np.array([[1,1,2,2,2,5,4,5,5,5], [1,2,1,2,3,2,4,4,5,6]])\n",
    "#y = np.array([0,0,0,0,0,1,1,1,1,1])\n",
    "#data = np.array([[2,3,3,3,5], [4,2,1,4,1]])\n",
    "#knn = KNN(2)\n",
    "#knn.fit(training,y)\n",
    "#print(knn.predict(data))"
   ]
  },
  {
   "cell_type": "code",
   "execution_count": 27,
   "metadata": {},
   "outputs": [],
   "source": [
    "trainingDataSignal = matrix[:,0:5000]\n",
    "testDataSignal = matrix[:,5000:15000]"
   ]
  },
  {
   "cell_type": "code",
   "execution_count": 52,
   "metadata": {},
   "outputs": [
    {
     "name": "stdout",
     "output_type": "stream",
     "text": [
      "(3, 10000)\n"
     ]
    }
   ],
   "source": [
    "hdf = pd.read_hdf('NeutrinoMC.hdf5', key = 'Background')\n",
    "hits = hdf.NumberOfHits\n",
    "x = hdf.x\n",
    "y = hdf.y\n",
    "\n",
    "hits = np.asarray(hits)\n",
    "hits = hits[~np.isnan(hits)]\n",
    "x = np.asarray(x)\n",
    "x = x[~np.isnan(x)]\n",
    "y = np.asarray(y)\n",
    "y = y[~np.isnan(y)]\n",
    "\n",
    "matrix = np.matrix([hits, x, y])\n",
    "testDataBackground = matrix[:,0:20000]\n",
    "trainingDataBackground = matrix[:,20000:25000]\n",
    "\n",
    "trainingData = np.concatenate((trainingDataBackground, trainingDataSignal), axis=1)\n",
    "print(trainingData.shape)\n",
    "y1 = np.zeros(5000)\n",
    "y2 = np.ones(5000)\n",
    "labels = np.concatenate((y1,y2)) # Lets say 0 is background and 1 is signal"
   ]
  },
  {
   "cell_type": "code",
   "execution_count": 53,
   "metadata": {},
   "outputs": [
    {
     "name": "stdout",
     "output_type": "stream",
     "text": [
      "1 loop, best of 3: 228 ms per loop\n"
     ]
    }
   ],
   "source": [
    "knn = KNN(10)\n",
    "knn.fit(trainingData, labels)\n",
    "%timeit knn.predict(trainingDataSignal[:,0:1])"
   ]
  }
 ],
 "metadata": {
  "kernelspec": {
   "display_name": "Python 3",
   "language": "python",
   "name": "python3"
  },
  "language_info": {
   "codemirror_mode": {
    "name": "ipython",
    "version": 3
   },
   "file_extension": ".py",
   "mimetype": "text/x-python",
   "name": "python",
   "nbconvert_exporter": "python",
   "pygments_lexer": "ipython3",
   "version": "3.6.1"
  }
 },
 "nbformat": 4,
 "nbformat_minor": 2
}
