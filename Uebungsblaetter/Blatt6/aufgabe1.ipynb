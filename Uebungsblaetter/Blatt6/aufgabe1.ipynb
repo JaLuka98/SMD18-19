{
 "cells": [
  {
   "cell_type": "markdown",
   "metadata": {},
   "source": [
    "# Aufgabe 1 - k-NN Klassifikation"
   ]
  },
  {
   "cell_type": "markdown",
   "metadata": {},
   "source": [
    "## Teilaufgabe a)"
   ]
  },
  {
   "cell_type": "markdown",
   "metadata": {},
   "source": [
    "## Teilaufgabe b)"
   ]
  },
  {
   "cell_type": "markdown",
   "metadata": {},
   "source": [
    "## Teilaufgabe c)"
   ]
  },
  {
   "cell_type": "code",
   "execution_count": 71,
   "metadata": {
    "collapsed": true
   },
   "outputs": [],
   "source": [
    "import numpy as np\n",
    "import pandas as pd"
   ]
  },
  {
   "cell_type": "code",
   "execution_count": 72,
   "metadata": {
    "collapsed": true
   },
   "outputs": [],
   "source": [
    "def dist(a,b):\n",
    "    return np.linalg.norm(a-b)\n",
    "\n",
    "def makeSortedDistanceList(samplePoint, trainingData, labels):\n",
    "    distanceList = []\n",
    "    counter = 0\n",
    "    for j in trainingData:\n",
    "        distance = dist(samplePoint, j)\n",
    "        distanceList.append((distance, labels[counter]))\n",
    "        counter += 1\n",
    "    distanceList = np.asarray(distanceList)\n",
    "    sortedDistanceList = distanceList[distanceList[:,0].argsort()]\n",
    "    return sortedDistanceList\n",
    "\n",
    "class KNN:\n",
    "    '''KNN Classifier.\n",
    "\n",
    "    Attributes\n",
    "    ----------\n",
    "    k : int\n",
    "        Number of neighbors to consider.\n",
    "    '''\n",
    "    def __init__(self, k):\n",
    "        '''Initialization.\n",
    "        Parameters are stored as member variables/attributes.\n",
    "        \n",
    "        Parameters\n",
    "        ----------\n",
    "        k : int\n",
    "            Number of neighbors to consider.\n",
    "        '''\n",
    "        self.k = k\n",
    "\n",
    "    def fit(self, X, y):\n",
    "        '''Fit routine.\n",
    "        Training data is stored within object.\n",
    "        \n",
    "        Parameters\n",
    "        ----------\n",
    "        X : numpy.array, shape=(n_samples, n_attributes)\n",
    "            Training data.\n",
    "        y : numpy.array shape=(n_samples)\n",
    "            Training labels.\n",
    "        '''\n",
    "        self.training_data = X\n",
    "        self.training_labels = y\n",
    "\n",
    "    def predict(self, X):\n",
    "        '''Prediction routine.\n",
    "        Predict class association of each sample of X.\n",
    "        \n",
    "        Parameters\n",
    "        ----------\n",
    "        X : numpy.array, shape=(n_samples, n_attributes)\n",
    "            Data to classify.\n",
    "        \n",
    "        Returns\n",
    "        -------\n",
    "        prediction : numpy.array, shape=(n_samples)\n",
    "            Predictions, containing the predicted label of each sample.\n",
    "        '''\n",
    "        \n",
    "        # First we need to find a few parameters\n",
    "        n_attributes, n_samples = X.shape # for whatever reason no parentheses after shape...\n",
    "        n_training_data = np.size(self.training_data, axis = 1) # this means finding the amount of columns\n",
    "        \n",
    "        prediction = []\n",
    "        \n",
    "        for i in X: # for i in sampleData\n",
    "            distanceList = []\n",
    "            kNearestNeighbors = []\n",
    "            back = 0\n",
    "            sig = 0\n",
    "            counter = 0\n",
    "            sortedDistanceList = makeSortedDistanceList(samplePoint = i, trainingData = self.training_data, labels = self.training_labels)\n",
    "            kNearestNeighbors = sortedDistanceList[:self.k]\n",
    "            for l in range(0, self.k):\n",
    "                if kNearestNeighbors[l,1] == 0:\n",
    "                    back += 1\n",
    "                else:\n",
    "                    sig +=1\n",
    "            if back > sig:\n",
    "                prediction.append(0)\n",
    "            elif back < sig:\n",
    "                prediction.append(1)\n",
    "            else:\n",
    "                prediction.append(float('NaN'))\n",
    "        return prediction"
   ]
  },
  {
   "cell_type": "markdown",
   "metadata": {},
   "source": [
    "## Teilaufgabe d)"
   ]
  },
  {
   "cell_type": "code",
   "execution_count": 73,
   "metadata": {},
   "outputs": [
    {
     "name": "stdout",
     "output_type": "stream",
     "text": [
      "[[ 26.          38.          87.        ]\n",
      " [  6.69494405   7.74364571   7.41714979]\n",
      " [  2.20707621   3.57920725   2.96454426]]\n"
     ]
    }
   ],
   "source": [
    "hdf = pd.read_hdf('NeutrinoMC.hdf5', key = 'Signal')\n",
    "hits = hdf.NumberOfHits\n",
    "x = hdf.x\n",
    "y = hdf.y\n",
    "\n",
    "# Dont know how to properly loop over the three arrays, they arent changed in the code below...?\n",
    "#temp_array = [hits, x, y]\n",
    "#for count in temp_array: \n",
    "    #count = np.asarray(count)\n",
    "    #count = count[~np.isnan(count)] # ~ means not\n",
    "\n",
    "hits = np.asarray(hits)\n",
    "hits = hits[~np.isnan(hits)] # ~ means not \n",
    "x = np.asarray(x)\n",
    "x = x[~np.isnan(x)]\n",
    "y = np.asarray(y)\n",
    "y = y[~np.isnan(y)]\n",
    "\n",
    "matrix = np.matrix([hits, x, y])\n",
    "print(matrix[:,0:3]) # Look at the first three columns to see if it worked properly"
   ]
  },
  {
   "cell_type": "code",
   "execution_count": 74,
   "metadata": {
    "collapsed": true
   },
   "outputs": [],
   "source": [
    "trainingDataSignal = matrix[:,0:5000]\n",
    "testDataSignal = matrix[:,5000:15000]\n",
    "testDataSignal = np.transpose(testDataSignal)"
   ]
  },
  {
   "cell_type": "code",
   "execution_count": 75,
   "metadata": {},
   "outputs": [],
   "source": [
    "hdf = pd.read_hdf('NeutrinoMC.hdf5', key = 'Background')\n",
    "hits = hdf.NumberOfHits\n",
    "x = hdf.x\n",
    "y = hdf.y\n",
    "\n",
    "hits = np.asarray(hits)\n",
    "hits = hits[~np.isnan(hits)]\n",
    "x = np.asarray(x)\n",
    "x = x[~np.isnan(x)]\n",
    "y = np.asarray(y)\n",
    "y = y[~np.isnan(y)]\n",
    "\n",
    "matrix = np.matrix([hits, x, y])\n",
    "testDataBackground = matrix[:,0:20000]\n",
    "testDataBackground = np.transpose(testDataBackground)\n",
    "trainingDataBackground = matrix[:,20000:25000]\n",
    "\n",
    "trainingData = np.concatenate((trainingDataBackground, trainingDataSignal), axis=1)\n",
    "trainingData = np.transpose(trainingData)\n",
    "\n",
    "y1 = np.zeros(5000)\n",
    "y2 = np.ones(5000)\n",
    "labels = np.concatenate((y1,y2)) # Lets say 0 is background and 1 is signal"
   ]
  },
  {
   "cell_type": "code",
   "execution_count": 76,
   "metadata": {},
   "outputs": [],
   "source": [
    "knn = KNN(10)\n",
    "knn.fit(trainingData, labels)\n",
    "predictionS = knn.predict(testDataSignal[0:20])\n",
    "predictionB = knn.predict(testDataBackground[0:20])"
   ]
  },
  {
   "cell_type": "code",
   "execution_count": 77,
   "metadata": {},
   "outputs": [
    {
     "name": "stdout",
     "output_type": "stream",
     "text": [
      "Reinheit = 1.0\n",
      "Effizienz = 1.0\n",
      "Signifikanz = 4.24264068712\n"
     ]
    }
   ],
   "source": [
    "predictionS = np.asarray(predictionS)\n",
    "tp = np.count_nonzero(predictionS == 1)\n",
    "fp = np.count_nonzero(predictionS == 0)\n",
    "tn = np.count_nonzero(predictionB == 1)\n",
    "fn = np.count_nonzero(predictionB == 0)\n",
    "Reinheit = tp/(tp+fp)\n",
    "Effizienz = tp/(tp+fn)\n",
    "Signifikanz = tp/(np.sqrt(tp+fp))\n",
    "print('Reinheit =', Reinheit)\n",
    "print('Effizienz =', Effizienz)\n",
    "print('Signifikanz =', Signifikanz)"
   ]
  },
  {
   "cell_type": "code",
   "execution_count": 83,
   "metadata": {},
   "outputs": [
    {
     "name": "stdout",
     "output_type": "stream",
     "text": [
      "1 loop, best of 3: 183 ms per loop\n"
     ]
    }
   ],
   "source": [
    "% timeit predictionS = knn.predict(testDataSignal[0:1])"
   ]
  },
  {
   "cell_type": "code",
   "execution_count": null,
   "metadata": {
    "collapsed": true
   },
   "outputs": [],
   "source": []
  },
  {
   "cell_type": "code",
   "execution_count": null,
   "metadata": {
    "collapsed": true
   },
   "outputs": [],
   "source": []
  }
 ],
 "metadata": {
  "kernelspec": {
   "display_name": "Python 3",
   "language": "python",
   "name": "python3"
  },
  "language_info": {
   "codemirror_mode": {
    "name": "ipython",
    "version": 3
   },
   "file_extension": ".py",
   "mimetype": "text/x-python",
   "name": "python",
   "nbconvert_exporter": "python",
   "pygments_lexer": "ipython3",
   "version": "3.6.1"
  }
 },
 "nbformat": 4,
 "nbformat_minor": 2
}
