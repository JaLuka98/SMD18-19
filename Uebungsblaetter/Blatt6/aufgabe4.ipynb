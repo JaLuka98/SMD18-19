{
 "cells": [
  {
   "cell_type": "markdown",
   "metadata": {},
   "source": [
    "# Aufgabe 18\n",
    "\n",
    "## Teilaufgabe a)\n",
    "\n",
    "Der Satz von Bayes folgt direkt aus der Definition der bedingten Wahrscheinlichkeit:\n",
    "$$P(F|W) = \\frac{P(F\\cap\\ W)}{P(W)} = \\frac{\\frac{P(F\\,\\cap\\, W)}{P(F)}\\cdot P(F)}{P(W)} = \\frac{P(W|F)\\cdot P(F)}{P(W)} $$\n",
    "<br> Dabei bezeichne $P(A|B) = P(A \\cap B)/P(B)$ die Wahrscheinlichkeit, dass $A$ unter der Voraussetzung von gegebenem $B$ eintritt (bedingte Wahrscheinlichkeit), wenn $P(A \\cap B)$ die Wahrscheinlichkeit ist, dass $A$ und $B$ gemeinsam eintreten und $P(B)$ die Wahrscheinlichkeit ist, dass $B$ eintritt."
   ]
  },
  {
   "cell_type": "markdown",
   "metadata": {},
   "source": [
    "## Teilaufgabe b)"
   ]
  },
  {
   "cell_type": "code",
   "execution_count": 3,
   "metadata": {},
   "outputs": [],
   "source": [
    "#Wahrscheinlichkeiten P(xi|F), berechnet nach Definition der bedingten Wahrscheinlichkeit\n",
    "P_Wind_stark_F = 1/3\n",
    "P_Feuchtigkeit_hoch_F = 1/3\n",
    "P_Temperatur_kalt_F = 1/3\n",
    "P_Ausblick_sonnig_F = 2/9\n",
    "\n",
    "#Wahrscheinlichkeit dass Fußball gespielt wird\n",
    "P_F = 9/14\n",
    "\n",
    "#Wahrscheinlichkeit, dass die Wetterbedingungen von Heute eintreten ist P(W)\n",
    "P_Wind_stark = 6/14\n",
    "P_Feuchtigkeit_hoch = 7/14\n",
    "P_Temperatur_kalt = 6/14\n",
    "P_Ausblick_sonnig = 3/14\n",
    "P_W = P_Wind_stark * P_Feuchtigkeit_hoch * P_Temperatur_kalt * P_Ausblick_sonnig"
   ]
  },
  {
   "cell_type": "code",
   "execution_count": 4,
   "metadata": {},
   "outputs": [
    {
     "name": "stdout",
     "output_type": "stream",
     "text": [
      "0.26886145404663925\n"
     ]
    }
   ],
   "source": [
    "P_F_W = P_Wind_stark_F * P_Feuchtigkeit_hoch_F * P_Temperatur_kalt_F * P_Ausblick_sonnig_F* P_F/P_W\n",
    "print(P_F_W)"
   ]
  },
  {
   "cell_type": "markdown",
   "metadata": {},
   "source": [
    "## Teilaufgabe c)"
   ]
  },
  {
   "cell_type": "code",
   "execution_count": 5,
   "metadata": {
    "collapsed": true
   },
   "outputs": [],
   "source": [
    "#Wahrscheinlichkeiten P(xi|F)\n",
    "P_Wind_schwach_F = 2/3\n",
    "P_Feuchtigkeit_hoch_F = 1/3\n",
    "P_Temperatur_heiß_F = 0\n",
    "P_Ausblick_sonnig_F = 2/9\n",
    "\n",
    "#Wahrscheinlichkeit dass Fußball gespielt wird\n",
    "P_F = 9/14\n",
    "\n",
    "#Wahrscheinlichkeit, dass unser Wetter eintritt ist P(W)\n",
    "P_Wind_schwach = 8/14\n",
    "P_Feuchtigkeit_hoch = 7/14\n",
    "P_Temperatur_heiß = 1/14\n",
    "P_Ausblick_sonnig = 3/14\n",
    "P_W = P_Wind_schwach * P_Feuchtigkeit_hoch * P_Temperatur_heiß * P_Ausblick_sonnig"
   ]
  },
  {
   "cell_type": "code",
   "execution_count": 6,
   "metadata": {},
   "outputs": [
    {
     "name": "stdout",
     "output_type": "stream",
     "text": [
      "0.0\n"
     ]
    }
   ],
   "source": [
    "P_F_W = P_Wind_schwach_F * P_Feuchtigkeit_hoch_F * P_Temperatur_heiß_F * P_Ausblick_sonnig_F* P_F#/P(W)\n",
    "print(P_F_W)"
   ]
  },
  {
   "cell_type": "markdown",
   "metadata": {},
   "source": [
    "Problem: Bei dem vorliegenden Datensatz ist kein einziges Mal bei heißem Wetter Fußball gespielt worden, und somit ergibt sich für die Gesamtwahrscheinlichkeit 0.<br>\n",
    "Dieses Problem könnte man z.B. dadurch beheben, dass man mehr Daten nimmt, sodass ein Tag, wo es heiß war und Fußball gespielt wurde, im Datensatz auftritt."
   ]
  }
 ],
 "metadata": {
  "kernelspec": {
   "display_name": "Python 3",
   "language": "python",
   "name": "python3"
  },
  "language_info": {
   "codemirror_mode": {
    "name": "ipython",
    "version": 3
   },
   "file_extension": ".py",
   "mimetype": "text/x-python",
   "name": "python",
   "nbconvert_exporter": "python",
   "pygments_lexer": "ipython3",
   "version": "3.7.0"
  }
 },
 "nbformat": 4,
 "nbformat_minor": 2
}
