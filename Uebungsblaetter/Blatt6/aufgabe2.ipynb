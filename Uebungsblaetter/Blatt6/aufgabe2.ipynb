{
 "cells": [
  {
   "cell_type": "markdown",
   "metadata": {},
   "source": [
    "# Aufgabe 16\n",
    "\n",
    "## Teilaufgabe a) \n",
    "\n",
    "Die Entropie der Wurzel lässt sich nach der Formel\n",
    "$$ H(Y) = -\\sum_{z\\,\\in\\, Z} P(Y = z)log_{2}P(Y = z)$$\n",
    "berechnen. Dabei sind die möglichen Ereignisse \"Fußball spielen\" bzw. \"kein Fußball spielen\".\n",
    "Es ergibt sich daher: \n",
    "$$ H(Fußball \\; spielen) = -\\left(\\frac{n_{Fußball}}{n}log_{2}\\frac{n_{Fußball}}{n} + \\frac{n_{keinFußball}}{n}log_{2}\\frac{n_{keinFußball}}{n}\\right) $$\n",
    "wobei n die Anzahl der überprüften Fälle ist.\n",
    "\n",
    "Berechnung:"
   ]
  },
  {
   "cell_type": "code",
   "execution_count": 3,
   "metadata": {},
   "outputs": [],
   "source": [
    "import math"
   ]
  },
  {
   "cell_type": "code",
   "execution_count": 10,
   "metadata": {},
   "outputs": [
    {
     "name": "stdout",
     "output_type": "stream",
     "text": [
      "Wert der Entropie:\n",
      "0.9402859586706309\n"
     ]
    }
   ],
   "source": [
    "p_f = 9/14\n",
    "p_kf = 5/14 \n",
    "\n",
    "H = -(p_f*math.log(p_f,2) + p_kf*math.log(p_kf,2))\n",
    "\n",
    "print('Wert der Entropie:')\n",
    "print(H)"
   ]
  },
  {
   "cell_type": "markdown",
   "metadata": {},
   "source": [
    "## Teilaufgabe b) \n",
    "\n",
    "Zur Berechnung des Informationsgewinns wird die Entropie nach einem Schnitt auf dem Attribut Wind benötigt. Die Entropie nach einem Schnitt auf irgendeinem Attribut wird allgemein berechnet nach\n",
    "\\begin{align*}\n",
    "H(Y|X) &= \\sum_{m\\,\\in\\, M} P(X = m)H(Y|X = m) \\\\ &= -\\sum_{m\\,\\in\\, M} P(X = m)\\sum_{z\\,\\in\\, Z}P(Y = z|X = m)log_{2}P(Y = z|X = m)\n",
    "\\end{align*}"
   ]
  }
 ],
 "metadata": {
  "kernelspec": {
   "display_name": "Python 3",
   "language": "python",
   "name": "python3"
  },
  "language_info": {
   "codemirror_mode": {
    "name": "ipython",
    "version": 3
   },
   "file_extension": ".py",
   "mimetype": "text/x-python",
   "name": "python",
   "nbconvert_exporter": "python",
   "pygments_lexer": "ipython3",
   "version": "3.7.0"
  }
 },
 "nbformat": 4,
 "nbformat_minor": 2
}
