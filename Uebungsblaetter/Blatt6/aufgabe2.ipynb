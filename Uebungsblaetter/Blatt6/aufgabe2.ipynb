{
 "cells": [
  {
   "cell_type": "markdown",
   "metadata": {},
   "source": [
    "# Aufgabe 16\n",
    "\n",
    "## Teilaufgabe a) \n",
    "\n",
    "Die Entropie der Wurzel lässt sich nach der Formel\n",
    "$$ H(Y) = -\\sum_{z\\,\\in\\, Z} P(Y = z)log_{2}P(Y = z)$$\n",
    "berechnen. Dabei sind die möglichen Ereignisse \"Fußball spielen\" bzw. \"kein Fußball spielen\".\n",
    "Es ergibt sich daher: \n",
    "$$ H(Fußball) = -\\left(\\frac{n_{Fußball}}{n}log_{2}\\frac{n_{Fußball}}{n} + \\frac{n_{keinFußball}}{n}log_{2}\\frac{n_{keinFußball}}{n}\\right) $$\n",
    "wobei n die Anzahl der überprüften Fälle ist.\n",
    "\n",
    "Berechnung:"
   ]
  },
  {
   "cell_type": "code",
   "execution_count": 8,
   "metadata": {
    "collapsed": true
   },
   "outputs": [],
   "source": [
    "import math\n",
    "import numpy as np\n",
    "import matplotlib.pyplot as plt"
   ]
  },
  {
   "cell_type": "code",
   "execution_count": 9,
   "metadata": {},
   "outputs": [
    {
     "name": "stdout",
     "output_type": "stream",
     "text": [
      "Wert der Entropie:\n",
      "0.9402859586706309\n"
     ]
    }
   ],
   "source": [
    "p_f = 9/14\n",
    "p_kf = 5/14 \n",
    "\n",
    "H_f = -(p_f*math.log(p_f,2) + p_kf*math.log(p_kf,2))\n",
    "\n",
    "print('Wert der Entropie:')\n",
    "print(H_f)"
   ]
  },
  {
   "cell_type": "markdown",
   "metadata": {},
   "source": [
    "## Teilaufgabe b) \n",
    "\n",
    "Zur Berechnung des Informationsgewinns wird die Entropie nach einem Schnitt auf dem Attribut Wind benötigt. Die Entropie nach einem Schnitt auf irgendeinem Attribut wird allgemein berechnet nach\n",
    "\\begin{align*}\n",
    "H(Y|X) &= \\sum_{m\\,\\in\\, M} P(X = m)H(Y|X = m) \\\\ &= -\\sum_{m\\,\\in\\, M} P(X = m)\\sum_{z\\,\\in\\, Z}P(Y = z|X = m)log_{2}P(Y = z|X = m)\n",
    "\\end{align*}\n",
    "in unserem Fall also\n",
    "\\begin{align*}\n",
    "H(Fußball|X) = \\frac{n_{Wind}}{n}H(Fußball|Wind) + \\frac{n_{keinWind}}{n}H(keinFußball|Wind)\n",
    "\\end{align*}\n",
    "wobei \n",
    "\\begin{align*}\n",
    "&H(Fußball|Wind) = -\\left(\\frac{n_{Fußball,Wind}}{n_{Wind}}log_{2}\\frac{n_{Fußball,Wind}}{n_{Wind}} + \\frac{n_{keinFußball,Wind}}{n_{Wind}}log_{2}\\frac{n_{keinFußball,Wind}}{n_{Wind}}\\right) \\\\\n",
    "&H(Fußball|keinWind) = -\\left(\\frac{n_{Fußball,keinWind}}{n_{keinWind}}log_{2}\\frac{n_{Fußball,keinWind}}{n_{keinWind}} + \\frac{n_{keinFußball,keinWind}}{n_{keinWind}}log_{2}\\frac{n_{keinFußball,keinWind}}{n_{keinWind}}\\right)\n",
    "\\end{align*}\n",
    "\n",
    "Berechnung:"
   ]
  },
  {
   "cell_type": "code",
   "execution_count": 10,
   "metadata": {},
   "outputs": [
    {
     "name": "stdout",
     "output_type": "stream",
     "text": [
      "Wert der Entropie nach Schnitt auf Attribut Wind:\n",
      "0.8921589282623617\n"
     ]
    }
   ],
   "source": [
    "p_w_f = 3/6\n",
    "p_w_kf = 3/6\n",
    "p_kw_f = 6/8\n",
    "p_kw_kf = 2/8\n",
    "p_w = 6/14\n",
    "p_kw = 8/14\n",
    "\n",
    "H_w_f = -p_w*(p_w_f*math.log(p_w_f,2) + p_w_kf*math.log(p_w_kf,2)) - p_kw*(p_kw_f*math.log(p_kw_f,2) + p_kw_kf*math.log(p_kw_kf,2))\n",
    "print('Wert der Entropie nach Schnitt auf Attribut Wind:')\n",
    "print(H_w_f)"
   ]
  },
  {
   "cell_type": "markdown",
   "metadata": {},
   "source": [
    "Der Informationsgewinn lässt sich dann berechnen aus\n",
    "\\begin{align*}\n",
    "IG(Fußball, Wind) = H(Fußball) - H(Fußball|X)\n",
    "\\end{align*}\n",
    "\n",
    "Berechnung:"
   ]
  },
  {
   "cell_type": "code",
   "execution_count": 11,
   "metadata": {},
   "outputs": [
    {
     "name": "stdout",
     "output_type": "stream",
     "text": [
      "Informationsgewinn nach Schnitt auf Attribut Wind:\n",
      "0.04812703040826927\n"
     ]
    }
   ],
   "source": [
    "IG = H_f - H_w_f\n",
    "print('Informationsgewinn nach Schnitt auf Attribut Wind:')\n",
    "print(IG)"
   ]
  },
  {
   "cell_type": "markdown",
   "metadata": {},
   "source": [
    "## Teilaufgabe c) \n",
    "\n",
    "Das gleiche Verfahren wird nun auch auf die anderen Attribute angewandt.\n",
    "Hierbei müssen dann alle möglichen Schnitte überprüft werden.\n",
    "\n",
    "### Wettervorhersage:"
   ]
  },
  {
   "cell_type": "code",
   "execution_count": 12,
   "metadata": {},
   "outputs": [
    {
     "name": "stdout",
     "output_type": "stream",
     "text": [
      "Schnitt bei:\n",
      "2\n",
      "Informationsgewinn:\n",
      "0.0\n",
      "-----------------------------\n",
      "Schnitt bei:\n",
      "1\n",
      "Informationsgewinn:\n",
      "0.10224356360985043\n",
      "-----------------------------\n",
      "Schnitt bei:\n",
      "0\n",
      "Informationsgewinn:\n",
      "0.003184853044648883\n",
      "-----------------------------\n"
     ]
    },
    {
     "data": {
      "image/png": "[encoded data removed]",
      "text/plain": [
       "<matplotlib.figure.Figure at 0x1a766d27a58>"
      ]
     },
     "metadata": {},
     "output_type": "display_data"
    }
   ],
   "source": [
    "#Wettervorhersage\n",
    "W = np.array([2,2,1,0,0,0,1,2,2,0,2,1,1,0])\n",
    "\n",
    "#streicht doppelte einträge, sind sinnvolle CutWerte (damit sich nichts doppelt)\n",
    "cutvalue = dict(map(lambda i: (i,1),W)).keys() \n",
    "#Anzahl Werte\n",
    "valnum = len(W)\n",
    "#Matrix aus Werten und Information über Fußball ja(1)/nein(0)\n",
    "W = np.array([[2,2,1,0,0,0,1,2,2,0,2,1,1,0], [0, 0, 1, 1, 1, 0, 1, 0, 1, 1, 1, 1, 1, 0]])\n",
    "\n",
    "#Aufteilen der Werte in über oder unter dem CutWert liegende Werte\n",
    "#Das alles für alle unterschiedlichen CutWerte\n",
    "for i in cutvalue:\n",
    "    lowerf = np.array([]) #Array mit Information übers Fußballspielen der tieferen Werte\n",
    "    higherf = np.array([]) #Array mit Information übers Fußballspielen der höheren Werte\n",
    "    n = 0\n",
    "    while n < 14:\n",
    "        if W[0,n] <= i: \n",
    "            lowerf = np.append(lowerf, W[1,n])\n",
    "        else:\n",
    "            higherf= np.append(higherf, W[1,n])\n",
    "        n+=1\n",
    "    \n",
    "#Berechnung der Entropien aus den einzelnen Wahrscheinlichkeiten, welche man aus den längen der oben berechneten Arrays erhält\n",
    "#if-Abfragen damit keine 0 im log2 steht\n",
    "    H = 0 \n",
    "    if len(lowerf[lowerf==0]) != 0:\n",
    "        H += -len(lowerf)/valnum*(len(lowerf[lowerf==0])/len(lowerf)*math.log(len(lowerf[lowerf==0])/len(lowerf),2))\n",
    "    if len(lowerf[lowerf==1]) != 0:\n",
    "        H += -len(lowerf)/valnum*(len(lowerf[lowerf==1])/len(lowerf)*math.log(len(lowerf[lowerf==1])/len(lowerf),2)) \n",
    "    if len(higherf[higherf==0]) != 0:\n",
    "        H += -len(higherf)/valnum*(len(higherf[higherf==0])/len(higherf)*math.log(len(higherf[higherf==0])/len(higherf),2))\n",
    "    if len(higherf[higherf==1]) != 0:\n",
    "        H += -len(higherf)/valnum*(len(higherf[higherf==1])/len(higherf)*math.log(len(higherf[higherf==1])/len(higherf),2))\n",
    "    \n",
    "    IG = H_f - H\n",
    "    print('Schnitt bei:')\n",
    "    print(i)\n",
    "    print('Informationsgewinn:')\n",
    "    print(IG)\n",
    "    print('-----------------------------')\n",
    "    plt.plot(i, IG, 'k.')\n",
    "\n",
    "plt.xlabel('Schnittwert der Wettervorhersage')\n",
    "plt.ylabel('Informationsgewinn')\n",
    "plt.show()"
   ]
  },
  {
   "cell_type": "markdown",
   "metadata": {},
   "source": [
    "Es ergibt sich bester Inormationsgewinn mit einem Schnitt bei einer \n",
    "Wettervorhersage zwischen 0 und 1.\n",
    "\n",
    "Dieser beträgt $IG = 0.10224356360985043$\n",
    "\n",
    "### Luftfeuchtigkeit: "
   ]
  },
  {
   "cell_type": "code",
   "execution_count": 13,
   "metadata": {},
   "outputs": [
    {
     "name": "stdout",
     "output_type": "stream",
     "text": [
      "Schnitt bei:\n",
      "85\n",
      "Informationsgewinn:\n",
      "0.02507817350585051\n",
      "-----------------------------\n",
      "Schnitt bei:\n",
      "90\n",
      "Informationsgewinn:\n",
      "0.010318100909640027\n",
      "-----------------------------\n",
      "Schnitt bei:\n",
      "78\n",
      "Informationsgewinn:\n",
      "0.09027634939276485\n",
      "-----------------------------\n",
      "Schnitt bei:\n",
      "96\n",
      "Informationsgewinn:\n",
      "0.0\n",
      "-----------------------------\n",
      "Schnitt bei:\n",
      "80\n",
      "Informationsgewinn:\n",
      "0.10224356360985043\n",
      "-----------------------------\n",
      "Schnitt bei:\n",
      "70\n",
      "Informationsgewinn:\n",
      "0.01495606992897247\n",
      "-----------------------------\n",
      "Schnitt bei:\n",
      "65\n",
      "Informationsgewinn:\n",
      "0.047709111427960416\n",
      "-----------------------------\n",
      "Schnitt bei:\n",
      "95\n",
      "Informationsgewinn:\n",
      "0.047709111427960416\n",
      "-----------------------------\n",
      "Schnitt bei:\n",
      "75\n",
      "Informationsgewinn:\n",
      "0.04533417202914436\n",
      "-----------------------------\n"
     ]
    },
    {
     "data": {
      "image/png": "[encoded data removed]",
      "text/plain": [
       "<matplotlib.figure.Figure at 0x1a766dfd588>"
      ]
     },
     "metadata": {},
     "output_type": "display_data"
    }
   ],
   "source": [
    "#Luftfeuchtigkeit\n",
    "LF = np.array([85, 90, 78, 96, 80, 70, 65, 95, 70, 80, 70, 90, 75, 80])\n",
    "\n",
    "#streicht doppelte einträge, sind sinnvolle CutWerte (damit sich nichts doppelt)\n",
    "cutvalue = dict(map(lambda i: (i,1),LF)).keys() \n",
    "#Anzahl Werte\n",
    "valnum = len(LF)\n",
    "#Matrix aus Werten und Information über Fußball ja(1)/nein(0)\n",
    "LF = np.array([[85, 90, 78, 96, 80, 70, 65, 95, 70, 80, 70, 90, 75, 80], [0, 0, 1, 1, 1, 0, 1, 0, 1, 1, 1, 1, 1, 0]])\n",
    "\n",
    "#Aufteilen der Werte in über oder unter dem CutWert liegende Werte\n",
    "#Das alles für alle unterschiedlichen CutWerte\n",
    "for i in cutvalue:\n",
    "    lowerf = np.array([]) #Array mit Information übers Fußballspielen der tieferen Werte\n",
    "    higherf = np.array([]) #Array mit Information übers Fußballspielen der höheren Werte\n",
    "    n = 0\n",
    "    while n < 14:\n",
    "        if LF[0,n] <= i: \n",
    "            lowerf = np.append(lowerf, LF[1,n])\n",
    "        else:\n",
    "            higherf= np.append(higherf, LF[1,n])\n",
    "        n+=1\n",
    "    \n",
    "#Berechnung der Entropien aus den einzelnen Wahrscheinlichkeiten, welche man aus den längen der oben berechneten Arrays erhält\n",
    "#if-Abfragen damit keine 0 im log2 steht\n",
    "    H = 0 \n",
    "    if len(lowerf[lowerf==0]) != 0:\n",
    "        H += -len(lowerf)/valnum*(len(lowerf[lowerf==0])/len(lowerf)*math.log(len(lowerf[lowerf==0])/len(lowerf),2))\n",
    "    if len(lowerf[lowerf==1]) != 0:\n",
    "        H += -len(lowerf)/valnum*(len(lowerf[lowerf==1])/len(lowerf)*math.log(len(lowerf[lowerf==1])/len(lowerf),2)) \n",
    "    if len(higherf[higherf==0]) != 0:\n",
    "        H += -len(higherf)/valnum*(len(higherf[higherf==0])/len(higherf)*math.log(len(higherf[higherf==0])/len(higherf),2))\n",
    "    if len(higherf[higherf==1]) != 0:\n",
    "        H += -len(higherf)/valnum*(len(higherf[higherf==1])/len(higherf)*math.log(len(higherf[higherf==1])/len(higherf),2))\n",
    "    \n",
    "    IG = H_f - H\n",
    "    print('Schnitt bei:')\n",
    "    print(i)\n",
    "    print('Informationsgewinn:')\n",
    "    print(IG)\n",
    "    print('-----------------------------')\n",
    "    plt.plot(i, IG, 'k.')\n",
    "\n",
    "plt.xlabel('Schnittwert der Luftfeuchtigkeit in %')\n",
    "plt.ylabel('Informationsgewinn')\n",
    "plt.show()\n"
   ]
  },
  {
   "cell_type": "markdown",
   "metadata": {},
   "source": [
    "Es ergibt sich bester Inormationsgewinn mit einem Schnitt bei einem Feuchtigkeitswert zwischen 80% und 85%.\n",
    "\n",
    "Dieser beträgt $IG = 0.10224356360985043$\n",
    "\n",
    "### Temperatur:\n",
    "\n",
    "Analog zu Luftfeuchtigkeit"
   ]
  },
  {
   "cell_type": "code",
   "execution_count": 14,
   "metadata": {
    "scrolled": true
   },
   "outputs": [
    {
     "name": "stdout",
     "output_type": "stream",
     "text": [
      "Schnitt bei:\n",
      "29.4\n",
      "Informationsgewinn:\n",
      "0.0\n",
      "-----------------------------\n",
      "Schnitt bei:\n",
      "26.7\n",
      "Informationsgewinn:\n",
      "0.0004894691870229728\n",
      "-----------------------------\n",
      "Schnitt bei:\n",
      "28.3\n",
      "Informationsgewinn:\n",
      "0.11340086418110329\n",
      "-----------------------------\n",
      "Schnitt bei:\n",
      "21.1\n",
      "Informationsgewinn:\n",
      "0.04533417202914436\n",
      "-----------------------------\n",
      "Schnitt bei:\n",
      "20.0\n",
      "Informationsgewinn:\n",
      "0.0004894691870229728\n",
      "-----------------------------\n",
      "Schnitt bei:\n",
      "18.3\n",
      "Informationsgewinn:\n",
      "0.010318100909640027\n",
      "-----------------------------\n",
      "Schnitt bei:\n",
      "17.8\n",
      "Informationsgewinn:\n",
      "0.047709111427960416\n",
      "-----------------------------\n",
      "Schnitt bei:\n",
      "22.2\n",
      "Informationsgewinn:\n",
      "0.0013397424044412354\n",
      "-----------------------------\n",
      "Schnitt bei:\n",
      "20.6\n",
      "Informationsgewinn:\n",
      "0.01495606992897247\n",
      "-----------------------------\n",
      "Schnitt bei:\n",
      "23.9\n",
      "Informationsgewinn:\n",
      "0.02507817350585051\n",
      "-----------------------------\n",
      "Schnitt bei:\n",
      "27.2\n",
      "Informationsgewinn:\n",
      "0.010318100909640027\n",
      "-----------------------------\n",
      "Schnitt bei:\n",
      "21.7\n",
      "Informationsgewinn:\n",
      "0.0013397424044412354\n",
      "-----------------------------\n"
     ]
    },
    {
     "data": {
      "image/png": "[encoded data removed]",
      "text/plain": [
       "<matplotlib.figure.Figure at 0x1a766dd09e8>"
      ]
     },
     "metadata": {},
     "output_type": "display_data"
    }
   ],
   "source": [
    "#Temperatur\n",
    "T = np.array([29.4, 26.7, 28.3, 21.1, 20, 18.3, 17.8, 22.2, 20.6, 23.9, 23.9, 22.2, 27.2, 21.7])\n",
    "\n",
    "#streicht doppelte einträge, sind sinnvolle CutWerte (damit sich nichts doppelt)\n",
    "cutvalue = dict(map(lambda i: (i,1),T)).keys() \n",
    "#Anzahl Werte\n",
    "valnum = len(T)\n",
    "#Matrix aus Werten und Information über Fußball ja(1)/nein(0)\n",
    "T = np.array([[29.4, 26.7, 28.3, 21.1, 20, 18.3, 17.8, 22.2, 20.6, 23.9, 23.9, 22.2, 27.2, 21.7], [0, 0, 1, 1, 1, 0, 1, 0, 1, 1, 1, 1, 1, 0]])\n",
    "\n",
    "#Aufteilen der Werte in über oder unter dem CutWert liegende Werte\n",
    "#Das alles für alle unterschiedlichen CutWerte\n",
    "for i in cutvalue:\n",
    "    lowerf = np.array([]) #Array mit Information übers Fußballspielen der tieferen Werte\n",
    "    higherf = np.array([]) #Array mit Information übers Fußballspielen der höheren Werte\n",
    "    n = 0\n",
    "    while n < 14:\n",
    "        if T[0,n] <= i: \n",
    "            lowerf = np.append(lowerf, T[1,n])\n",
    "        else:\n",
    "            higherf= np.append(higherf, T[1,n])\n",
    "        n+=1\n",
    "    \n",
    "#Berechnung der Entropien aus den einzelnen Wahrscheinlichkeiten, welche man aus den längen der oben berechneten Arrays erhält\n",
    "#if-Abfragen damit keine 0 im log2 steht\n",
    "    H = 0 \n",
    "    if len(lowerf[lowerf==0]) != 0:\n",
    "        H += -len(lowerf)/valnum*(len(lowerf[lowerf==0])/len(lowerf)*math.log(len(lowerf[lowerf==0])/len(lowerf),2))\n",
    "    if len(lowerf[lowerf==1]) != 0:\n",
    "        H += -len(lowerf)/valnum*(len(lowerf[lowerf==1])/len(lowerf)*math.log(len(lowerf[lowerf==1])/len(lowerf),2)) \n",
    "    if len(higherf[higherf==0]) != 0:\n",
    "        H += -len(higherf)/valnum*(len(higherf[higherf==0])/len(higherf)*math.log(len(higherf[higherf==0])/len(higherf),2))\n",
    "    if len(higherf[higherf==1]) != 0:\n",
    "        H += -len(higherf)/valnum*(len(higherf[higherf==1])/len(higherf)*math.log(len(higherf[higherf==1])/len(higherf),2))\n",
    "    \n",
    "    IG = H_f - H\n",
    "    print('Schnitt bei:')\n",
    "    print(i)\n",
    "    print('Informationsgewinn:')\n",
    "    print(IG)\n",
    "    print('-----------------------------')\n",
    "    plt.plot(i, IG, 'k.')\n",
    "\n",
    "plt.xlabel('Schnittwert der Temperatur in °C')\n",
    "plt.ylabel('Informationsgewinn')\n",
    "plt.show()\n"
   ]
  },
  {
   "cell_type": "markdown",
   "metadata": {},
   "source": [
    "Es ergibt sich bester Inormationsgewinn mit einem Schnitt bei einer Temperatur zwischen 28,3°C und 29,4°C.\n",
    "\n",
    "Dieser beträgt $IG = 0.11340086418110329$\n",
    "\n",
    "## Teilaufgabe d) \n",
    "\n",
    "Bei nur einem Schritt eignet sich also die Temperatur am besten zum Trennen der Daten."
   ]
  }
 ],
 "metadata": {
  "kernelspec": {
   "display_name": "Python 3",
   "language": "python",
   "name": "python3"
  },
  "language_info": {
   "codemirror_mode": {
    "name": "ipython",
    "version": 3
   },
   "file_extension": ".py",
   "mimetype": "text/x-python",
   "name": "python",
   "nbconvert_exporter": "python",
   "pygments_lexer": "ipython3",
   "version": "3.6.1"
  }
 },
 "nbformat": 4,
 "nbformat_minor": 2
}
