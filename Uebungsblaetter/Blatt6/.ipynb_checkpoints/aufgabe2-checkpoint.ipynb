{
 "cells": [
  {
   "cell_type": "markdown",
   "metadata": {},
   "source": [
    "# Aufgabe 16\n",
    "\n",
    "## Teilaufgabe a) \n",
    "\n",
    "Die Entropie der Wurzel lässt sich nach der Formel\n",
    "$$ H(Y) = -\\sum_{z\\,\\in\\, Z} P(Y = z)log_{2}P(Y = z)$$\n",
    "berechnen. Dabei sind die möglichen Ereignisse \"Fußball spielen\" bzw. \"kein Fußball spielen\".\n",
    "Es ergibt sich daher: \n",
    "$$ H(Fußball) = -\\left(\\frac{n_{Fußball}}{n}log_{2}\\frac{n_{Fußball}}{n} + \\frac{n_{keinFußball}}{n}log_{2}\\frac{n_{keinFußball}}{n}\\right) $$\n",
    "wobei n die Anzahl der überprüften Fälle ist.\n",
    "\n",
    "Berechnung:"
   ]
  },
  {
   "cell_type": "code",
   "execution_count": 2,
   "metadata": {},
   "outputs": [],
   "source": [
    "import math"
   ]
  },
  {
   "cell_type": "code",
   "execution_count": 4,
   "metadata": {},
   "outputs": [
    {
     "name": "stdout",
     "output_type": "stream",
     "text": [
      "Wert der Entropie:\n",
      "0.9402859586706309\n"
     ]
    }
   ],
   "source": [
    "p_f = 9/14\n",
    "p_kf = 5/14 \n",
    "\n",
    "H_f = -(p_f*math.log(p_f,2) + p_kf*math.log(p_kf,2))\n",
    "\n",
    "print('Wert der Entropie:')\n",
    "print(H_f)"
   ]
  },
  {
   "cell_type": "markdown",
   "metadata": {},
   "source": [
    "## Teilaufgabe b) \n",
    "\n",
    "Zur Berechnung des Informationsgewinns wird die Entropie nach einem Schnitt auf dem Attribut Wind benötigt. Die Entropie nach einem Schnitt auf irgendeinem Attribut wird allgemein berechnet nach\n",
    "\\begin{align*}\n",
    "H(Y|X) &= \\sum_{m\\,\\in\\, M} P(X = m)H(Y|X = m) \\\\ &= -\\sum_{m\\,\\in\\, M} P(X = m)\\sum_{z\\,\\in\\, Z}P(Y = z|X = m)log_{2}P(Y = z|X = m)\n",
    "\\end{align*}\n",
    "in unserem Fall also\n",
    "\\begin{align*}\n",
    "H(Wind|X) = \\frac{n_{Fußball}}{n}H(Wind|Fußball) + \\frac{n_{keinFußball}}{n}H(Wind|keinFußball)\n",
    "\\end{align*}\n",
    "wobei \n",
    "\\begin{align*}\n",
    "&H(Wind|Fußball) = -\\left(\\frac{n_{Wind}}{n_{Fußball}}log_{2}\\frac{n_{Wind}}{n_{Fußball}} + \\frac{n_{keinWind}}{n_{Fußball}}log_{2}\\frac{n_{keinWind}}{n_{Fußball}}\\right) \\\\\n",
    "&H(Wind|keinFußball) = -\\left(\\frac{n_{Wind}}{n_{keinFußball}}log_{2}\\frac{n_{Wind}}{n_{keinFußball}} + \\frac{n_{keinWind}}{n_{keinFußball}}log_{2}\\frac{n_{keinWind}}{n_{keinFußball}}\\right)\n",
    "\\end{align*}\n",
    "\n",
    "Berechnung:"
   ]
  },
  {
   "cell_type": "code",
   "execution_count": 10,
   "metadata": {},
   "outputs": [
    {
     "name": "stdout",
     "output_type": "stream",
     "text": [
      "0.9371011056259821\n"
     ]
    }
   ],
   "source": [
    "p_w_f = 3/9\n",
    "p_kw_f = 6/9\n",
    "p_w_kf = 3/5\n",
    "p_kw_kf = 2/5\n",
    "\n",
    "H_w_f = -p_f*(p_w_f*math.log(p_w_f,2) + p_kw_f*math.log(p_kw_f,2)) - p_kf*(p_w_kf*math.log(p_w_kf,2) + p_kw_kf*math.log(p_kw_kf,2))\n",
    "print('Wert der Entropie nach Schnitt auf Attribut Wind:')\n",
    "print(H_w_f)"
   ]
  },
  {
   "cell_type": "markdown",
   "metadata": {},
   "source": [
    "Der Informationsgewinn lässt sich dann berechnen aus\n",
    "\\begin{align*}\n",
    "IG(Fußball, Wind) = H(Fußball) - H(Wind|X)\n",
    "\\end{align*}\n",
    "\n",
    "Berechnung:"
   ]
  },
  {
   "cell_type": "code",
   "execution_count": 12,
   "metadata": {},
   "outputs": [
    {
     "name": "stdout",
     "output_type": "stream",
     "text": [
      "Informationsgewinn nach Schnitt auf Attribut Wind:\n",
      "0.003184853044648772\n"
     ]
    }
   ],
   "source": [
    "IG = H_f - H_w_f\n",
    "print('Informationsgewinn nach Schnitt auf Attribut Wind:')\n",
    "print(IG)"
   ]
  },
  {
   "cell_type": "markdown",
   "metadata": {},
   "source": [
    "## Teilaufgabe c) \n",
    "\n",
    "Das gleiche Verfahren wird nun auch auf die anderen Attribute angewandt"
   ]
  },
  {
   "cell_type": "code",
   "execution_count": null,
   "metadata": {},
   "outputs": [],
   "source": []
  }
 ],
 "metadata": {
  "kernelspec": {
   "display_name": "Python 3",
   "language": "python",
   "name": "python3"
  },
  "language_info": {
   "codemirror_mode": {
    "name": "ipython",
    "version": 3
   },
   "file_extension": ".py",
   "mimetype": "text/x-python",
   "name": "python",
   "nbconvert_exporter": "python",
   "pygments_lexer": "ipython3",
   "version": "3.7.0"
  }
 },
 "nbformat": 4,
 "nbformat_minor": 2
}
