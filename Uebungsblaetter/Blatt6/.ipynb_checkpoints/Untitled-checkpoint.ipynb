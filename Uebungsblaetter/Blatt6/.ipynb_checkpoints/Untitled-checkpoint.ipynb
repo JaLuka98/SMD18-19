{
 "cells": [
  {
   "cell_type": "code",
   "execution_count": 101,
   "metadata": {
    "collapsed": true
   },
   "outputs": [],
   "source": [
    "import numpy as np\n",
    "from scipy.spatial.distance import cdist\n",
    "from sklearn.datasets import make_blobs\n",
    "from sklearn.model_selection import train_test_split\n",
    "import pandas as pd\n",
    "\n",
    "\n",
    "class KNN:\n",
    "    '''KNN Classifier.\n",
    "    Attributes\n",
    "    ----------\n",
    "    k : int\n",
    "        Number of neighbors to consider.\n",
    "    '''\n",
    "    def __init__(self, k):\n",
    "        '''Initialization.\n",
    "        Parameters are stored as member variables/attributes.\n",
    "        Parameters\n",
    "        ----------\n",
    "        k : int\n",
    "            Number of neighbors to consider.\n",
    "        '''\n",
    "        self.k = k\n",
    "\n",
    "        # Traning dataset\n",
    "        self.traning_dataset = None\n",
    "\n",
    "        # Predicted label of the test traning_set\n",
    "        self.label_fit = []\n",
    "\n",
    "        # Predicted label of the real dataset\n",
    "        self.label_predict = []\n",
    "\n",
    "\n",
    "    def fit(self, X, y):\n",
    "        '''Fit routine.\n",
    "        Training data is stored within object.\n",
    "        Parameters\n",
    "        ----------\n",
    "        X : numpy.array, shape=(n_samples, n_attributes)\n",
    "            Training data.\n",
    "        y : numpy.array shape=(n_samples)\n",
    "            Training labels.\n",
    "        '''\n",
    "        # Code\n",
    "        self.traning_dataset = X\n",
    "        for i in range(X.shape[0]):\n",
    "            self.label_prediction(X[i], X, y, self.label_fit)\n",
    "        print('hier', self.label_fit)\n",
    "        return self.label_fit\n",
    "\n",
    "\n",
    "    def predict(self, X):\n",
    "        '''Prediction routine.\n",
    "        Predict class association of each sample of X.\n",
    "        Parameters\n",
    "        ----------\n",
    "        X : numpy.array, shape=(n_samples, n_attributes)\n",
    "            Data to classify.\n",
    "        Returns\n",
    "        -------\n",
    "        prediction : numpy.array, shape=(n_samples)\n",
    "            Predictions, containing the predicted label of each sample.\n",
    "        '''\n",
    "        # Code\n",
    "        for i in range(X.shape[0]): # für jede Zeile in X\n",
    "            self.label_prediction(X[i], self.traning_dataset,\n",
    "                                  np.array(self.label_fit), self.label_predict)\n",
    "\n",
    "        return np.array(self.label_predict)\n",
    "\n",
    "    def label_prediction(self, x_0, dataset, labelset, klist):\n",
    "        # calculate the distance between every point and the test point\n",
    "        print(x_0.reshape(1, x_0.shape[0]))\n",
    "        distance = cdist(x_0.reshape(1, x_0.shape[0]), dataset)[0]\n",
    "        #print(x_0.reshape(1, x_0.shape[0]))\n",
    "        #print('distance', distance)\n",
    "        # Calculate the label of the datapoint\n",
    "        mean_label = 1/self.k * labelset[distance.argsort()[-self.k:]].sum()\n",
    "        #print('mean_label', mean_label)\n",
    "\n",
    "        # Addiere 0.01 auf mean_label, damit bei 0.5 aufgerundet wird\n",
    "        klist.append(int(np.round(mean_label + 0.01)))"
   ]
  },
  {
   "cell_type": "code",
   "execution_count": 102,
   "metadata": {},
   "outputs": [
    {
     "name": "stdout",
     "output_type": "stream",
     "text": [
      "[[ 26.          38.          87.        ]\n",
      " [  6.69494405   7.74364571   7.41714979]\n",
      " [  2.20707621   3.57920725   2.96454426]]\n"
     ]
    }
   ],
   "source": [
    "lenTraining = 5000\n",
    "lenSignal = 10000\n",
    "lenBackground = 20000\n",
    "\n",
    "hdf = pd.read_hdf('NeutrinoMC.hdf5', key = 'Signal')\n",
    "hits = hdf.NumberOfHits\n",
    "x = hdf.x\n",
    "y = hdf.y\n",
    "\n",
    "# Dont know how to properly loop over the three arrays, they arent changed in the code below...?\n",
    "#temp_array = [hits, x, y]\n",
    "#for count in temp_array: \n",
    "    #count = np.asarray(count)\n",
    "    #count = count[~np.isnan(count)] # ~ means not\n",
    "\n",
    "hits = np.asarray(hits)\n",
    "hits = hits[~np.isnan(hits)] # ~ means not \n",
    "x = np.asarray(x)\n",
    "x = x[~np.isnan(x)]\n",
    "y = np.asarray(y)\n",
    "y = y[~np.isnan(y)]\n",
    "\n",
    "matrix = np.matrix([hits, x, y])\n",
    "print(matrix[:,0:3]) # Look at the first three columns to see if it worked properly\n",
    "\n",
    "trainingDataSignal = matrix[:,0:lenTraining]\n",
    "testDataSignal = matrix[:,lenTraining:lenTraining+lenSignal]\n",
    "testDataSignal = np.transpose(testDataSignal)\n",
    "\n",
    "hdf = pd.read_hdf('NeutrinoMC.hdf5', key = 'Background')\n",
    "hits = hdf.NumberOfHits\n",
    "x = hdf.x\n",
    "y = hdf.y\n",
    "\n",
    "hits = np.asarray(hits)\n",
    "hits = hits[~np.isnan(hits)]\n",
    "x = np.asarray(x)\n",
    "x = x[~np.isnan(x)]\n",
    "y = np.asarray(y)\n",
    "y = y[~np.isnan(y)]\n",
    "\n",
    "matrix = np.matrix([hits, x, y])\n",
    "trainingDataBackground = matrix[:,0:lenTraining]\n",
    "testDataBackground = matrix[:,lenTraining:lenBackground+lenTraining]\n",
    "testDataBackground = np.transpose(testDataBackground)\n",
    "\n",
    "\n",
    "trainingData = np.concatenate((trainingDataBackground, trainingDataSignal), axis=1)\n",
    "trainingData = np.transpose(trainingData)\n",
    "\n",
    "y1 = np.zeros(lenTraining)\n",
    "y2 = np.ones(lenTraining)\n",
    "labels = np.concatenate((y1,y2)) # Lets say 0 is background and 1 is signal"
   ]
  },
  {
   "cell_type": "code",
   "execution_count": 103,
   "metadata": {},
   "outputs": [
    {
     "name": "stdout",
     "output_type": "stream",
     "text": [
      "hier [0, 0, 0, 0, 0]\n"
     ]
    },
    {
     "data": {
      "text/plain": [
       "[0, 0, 0, 0, 0]"
      ]
     },
     "execution_count": 103,
     "metadata": {},
     "output_type": "execute_result"
    }
   ],
   "source": [
    "knn = KNN(5)\n",
    "X, y = make_blobs(n_samples=10, n_features=2, centers=2, random_state=12,\n",
    "                      cluster_std=1.4)\n",
    "X_train, X_test, y_train, y_test = train_test_split(X, y, test_size=0.5)\n",
    "\n",
    "knn.fit(X_train, y_train)\n",
    "#print(len(X_test), X_test.shape)"
   ]
  },
  {
   "cell_type": "code",
   "execution_count": 104,
   "metadata": {},
   "outputs": [
    {
     "name": "stdout",
     "output_type": "stream",
     "text": [
      "Wall time: 998 µs\n"
     ]
    },
    {
     "data": {
      "text/plain": [
       "array([0, 0, 0, 0, 0])"
      ]
     },
     "execution_count": 104,
     "metadata": {},
     "output_type": "execute_result"
    }
   ],
   "source": [
    "% time knn.predict(X_test)"
   ]
  },
  {
   "cell_type": "code",
   "execution_count": 111,
   "metadata": {},
   "outputs": [
    {
     "name": "stdout",
     "output_type": "stream",
     "text": [
      "[[2 4]\n",
      " [3 2]\n",
      " [3 1]\n",
      " [3 4]\n",
      " [5 1]]\n",
      "hier [1, 1, 1, 1, 1, 0, 0, 0, 0, 0]\n",
      "[0 0 0 1 0]\n"
     ]
    }
   ],
   "source": [
    "training = np.array([[1,1,2,2,2,5,4,5,5,5], [1,2,1,2,3,2,4,4,5,6]])\n",
    "training = np.transpose(training)\n",
    "y = np.array([0,0,0,0,0,1,1,1,1,1])\n",
    "data = np.array([[2,3,3,3,5], [4,2,1,4,1]])\n",
    "data = np.transpose(data)\n",
    "print(data)\n",
    "knn = KNN(1)\n",
    "knn.fit(training,y)\n",
    "print(knn.predict(data))"
   ]
  },
  {
   "cell_type": "code",
   "execution_count": 110,
   "metadata": {},
   "outputs": [
    {
     "name": "stdout",
     "output_type": "stream",
     "text": [
      "5\n"
     ]
    },
    {
     "ename": "ValueError",
     "evalue": "cannot reshape array of size 10 into shape (1,5)",
     "output_type": "error",
     "traceback": [
      "\u001b[1;31m---------------------------------------------------------------------------\u001b[0m",
      "\u001b[1;31mValueError\u001b[0m                                Traceback (most recent call last)",
      "\u001b[1;32m<ipython-input-110-72d227500147>\u001b[0m in \u001b[0;36m<module>\u001b[1;34m()\u001b[0m\n\u001b[0;32m      1\u001b[0m \u001b[0mprint\u001b[0m\u001b[1;33m(\u001b[0m\u001b[0mX_test\u001b[0m\u001b[1;33m.\u001b[0m\u001b[0mshape\u001b[0m\u001b[1;33m[\u001b[0m\u001b[1;36m0\u001b[0m\u001b[1;33m]\u001b[0m\u001b[1;33m)\u001b[0m\u001b[1;33m\u001b[0m\u001b[0m\n\u001b[1;32m----> 2\u001b[1;33m \u001b[0mprint\u001b[0m\u001b[1;33m(\u001b[0m\u001b[0mX_test\u001b[0m\u001b[1;33m.\u001b[0m\u001b[0mreshape\u001b[0m\u001b[1;33m(\u001b[0m\u001b[1;36m1\u001b[0m\u001b[1;33m,\u001b[0m \u001b[0mX_test\u001b[0m\u001b[1;33m.\u001b[0m\u001b[0mshape\u001b[0m\u001b[1;33m[\u001b[0m\u001b[1;36m0\u001b[0m\u001b[1;33m]\u001b[0m\u001b[1;33m)\u001b[0m\u001b[1;33m)\u001b[0m\u001b[1;33m\u001b[0m\u001b[0m\n\u001b[0m",
      "\u001b[1;31mValueError\u001b[0m: cannot reshape array of size 10 into shape (1,5)"
     ]
    }
   ],
   "source": [
    "print(X_test.shape[0])\n",
    "print(X_test.reshape(1, X_test.shape[0]))"
   ]
  },
  {
   "cell_type": "code",
   "execution_count": null,
   "metadata": {
    "collapsed": true
   },
   "outputs": [],
   "source": []
  }
 ],
 "metadata": {
  "kernelspec": {
   "display_name": "Python 3",
   "language": "python",
   "name": "python3"
  },
  "language_info": {
   "codemirror_mode": {
    "name": "ipython",
    "version": 3
   },
   "file_extension": ".py",
   "mimetype": "text/x-python",
   "name": "python",
   "nbconvert_exporter": "python",
   "pygments_lexer": "ipython3",
   "version": "3.6.1"
  }
 },
 "nbformat": 4,
 "nbformat_minor": 2
}
