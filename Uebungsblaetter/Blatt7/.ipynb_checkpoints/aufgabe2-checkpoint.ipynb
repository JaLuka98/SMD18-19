{
 "cells": [
  {
   "cell_type": "markdown",
   "metadata": {},
   "source": [
    "# Aufgabe 20"
   ]
  },
  {
   "cell_type": "markdown",
   "metadata": {},
   "source": [
    "## a)"
   ]
  },
  {
   "cell_type": "markdown",
   "metadata": {},
   "source": [
    "Die Lossfunktion ist ein Maß für die Ungenauigkeit einer Vorhersage zum Beispiel innerhalb eines Klassifikationsproblems. Man kann beispielsweise den quadratischen Abstand zwischen wahrem und vorhergesagten Output verwenden.\n",
    "Bei der Klassifikation wird mit einer Auswertungsfunktion entschieden zu welcher Klasse ein zu klassifizierender Datenpunkt (zum Beispiel ein Messpunkt). Dies geschieht auf Basis gelabelter Daten, dem Testdatensatz.\n",
    "Ziel des machine learning ist es die Lossfunktion für alle Inputs eines Testdatensatzes zu minimieren, um die beste Auswertungsfunktion zu finden"
   ]
  },
  {
   "cell_type": "markdown",
   "metadata": {},
   "source": [
    "## b)"
   ]
  },
  {
   "cell_type": "markdown",
   "metadata": {},
   "source": [
    "Für unterschiedliche Klassifikationen gibt es unterschiedliche Lossfunktionen. In vielen Fällen kann die Minimierung durch Differenzieren der Lossfunktion bezüglich der Gewichte der Auswertungsfunktion erfolgen. In jedem Schritt wird das Neuronale Netz bzw. das Modell trainiert, indem entlang der Gradienten nach unten gegangen wird, die Gewichtsmatrix und der Biasvektor werden dadurch geupdated."
   ]
  },
  {
   "cell_type": "markdown",
   "metadata": {},
   "source": [
    "## c)"
   ]
  },
  {
   "cell_type": "markdown",
   "metadata": {},
   "source": [
    "Die Aktivierungsfunktion simulliert die Aktivierung des Zellkerns einer Nervenzelle.\n",
    "Die Ausgabe des künstlichen Neurons wird also durch die Aktivierungsfunktion bestimmt. \n",
    "Die Aktivierung wird beeinflusst durch die Netzeingabe aus der Übertragunsfunktion.\n",
    "Mithilfe von nicht-linearen Aktivierungsfunktion ist es möglich, den Raum zu verzerren und damit nicht-linear trennbare Datensätze zu trennen, ohne weitere Layer einzuführen. Auch die Verbindungen mehrerer Layer mit nichtlinearen Aktivierungsfunktion kann sehr mächtig sein.\n",
    "Beispiele für Aktivierungsfunktionen sind Sigmoidfunktionen, Tangens Hyberbolicus und ReLu (Rectified Linear Unit)."
   ]
  },
  {
   "cell_type": "markdown",
   "metadata": {},
   "source": [
    "## d)"
   ]
  },
  {
   "cell_type": "markdown",
   "metadata": {},
   "source": [
    "Ein Neuron ist ein informationstechnisches Modell für eine reale Nervenzelle. \n",
    "An das Neutron übertragene Eingaben $x_i$ werden Gewichte $w_{ij}$ zugeordnet.\n",
    "Eine Übertragungsfunktion $\\Sigma$ berechnet aus der Wichtung der Eingaben die Netzeingabe $net_j$.\n",
    "\\begin{equation}\n",
    "    net_j = \\sum_{i=0}^n x_i w_{ij}\n",
    "\\end{equation}\n",
    "Durch eine Aktivierungsfunktion $\\Phi$ wird aus der Netzeingabe die Aktivierung $o_j$ berechnet.\n",
    "\\begin{equation}\n",
    "    o_j = \\Phi(net_j)\n",
    "\\end{equation}"
   ]
  },
  {
   "cell_type": "markdown",
   "metadata": {},
   "source": [
    "## e)"
   ]
  },
  {
   "cell_type": "markdown",
   "metadata": {},
   "source": [
    "Für Probleme, bei denen kein oder kaum explizites (systematisches) Wissen vorliegt und viele Daten in eine geringe Anzahl an Ergbenissen überführt werden müssen, eignen sich neuronale Netzwerke.\n",
    "Beispiele sind Gesichts-/Spracherkennung, Prognose von Wetter, Aktien usw. und Robotik/KI."
   ]
  }
 ],
 "metadata": {
  "kernelspec": {
   "display_name": "Python 3",
   "language": "python",
   "name": "python3"
  },
  "language_info": {
   "codemirror_mode": {
    "name": "ipython",
    "version": 3
   },
   "file_extension": ".py",
   "mimetype": "text/x-python",
   "name": "python",
   "nbconvert_exporter": "python",
   "pygments_lexer": "ipython3",
   "version": "3.6.1"
  }
 },
 "nbformat": 4,
 "nbformat_minor": 2
}
