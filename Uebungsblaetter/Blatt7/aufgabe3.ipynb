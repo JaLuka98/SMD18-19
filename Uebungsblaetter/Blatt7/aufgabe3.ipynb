{
 "cells": [
  {
   "cell_type": "markdown",
   "metadata": {},
   "source": [
    "# Aufgabe 21 (Dritte Aufgabe auf dem Blatt) - Lineare Klassifikation mit Softmax"
   ]
  },
  {
   "cell_type": "markdown",
   "metadata": {},
   "source": [
    "## Teilaufgabe a)"
   ]
  },
  {
   "cell_type": "markdown",
   "metadata": {},
   "source": [
    "## Teilaufgabe b)"
   ]
  },
  {
   "cell_type": "markdown",
   "metadata": {},
   "source": [
    "## Teilaufgabe c)"
   ]
  },
  {
   "cell_type": "markdown",
   "metadata": {},
   "source": [
    "## Teilaufgabe d)"
   ]
  },
  {
   "cell_type": "code",
   "execution_count": 5,
   "metadata": {
    "collapsed": true
   },
   "outputs": [],
   "source": [
    "import numpy as np\n",
    "import pandas as pd"
   ]
  },
  {
   "cell_type": "code",
   "execution_count": 34,
   "metadata": {
    "collapsed": true
   },
   "outputs": [],
   "source": [
    "def indikator(i,j):\n",
    "    if i == j:\n",
    "        return True\n",
    "    else:\n",
    "        return False"
   ]
  },
  {
   "cell_type": "code",
   "execution_count": 156,
   "metadata": {},
   "outputs": [],
   "source": [
    "def softmax(X, W, b):\n",
    "    '''Gives back a matrix. q[i,j] is the confidence that point X[i] belongs to the j-th class.'''\n",
    "    scores = np.matmul(W, X) + b # quasi eine f-Matrix\n",
    "    nenner = scores.sum(axis=0) # Summiere bitte entlang der Spalten\n",
    "    q = scores/nenner\n",
    "    return q\n",
    "\n",
    "\n",
    "def getPredictions(q):\n",
    "    '''Returns the predicted labels with q from softmax'''\n",
    "    return np.argmax(q,axis=0)\n",
    "\n",
    "def learn(X, W, b, h, epochs):\n",
    "    m = X.shape[0] # amount of data points\n",
    "    for i in range(0,epochs):\n",
    "        q = softmax(X, W, b)\n",
    "        predictions = getPredictions(q)\n",
    "        diff = labels - predictions # the error in predicting the labels\n",
    "        summeFuer0 = np.zeros(2)\n",
    "        summeFuer1 = np.zeros(2)\n",
    "        for i in range(0, X.shape[1]):\n",
    "            if labels[i] == 0 and predictions[i] == 1:\n",
    "                summeFuer0 += X[:,i]\n",
    "                summeFuer1 -= X[:,i]\n",
    "            elif labels[i] == 1 and predictions[i] == 0:\n",
    "                summeFuer0 -= X[:,i]\n",
    "                summeFuer1 += X[:,i]\n",
    "        W[0] = W[0] - h/m * summeFuer0\n",
    "        W[1] = W[1] - h/m * summeFuer0\n",
    "        b = b - h/m * sum(diff)\n",
    "    return W, b"
   ]
  },
  {
   "cell_type": "code",
   "execution_count": 51,
   "metadata": {},
   "outputs": [
    {
     "name": "stdout",
     "output_type": "stream",
     "text": [
      "[[ 0.5488135   0.71518937]\n",
      " [ 0.60276338  0.54488318]]\n",
      "[[ 0.4236548 ]\n",
      " [ 0.64589411]]\n"
     ]
    }
   ],
   "source": [
    "df_P_0 = pd.read_hdf('populationen.hdf5', key = 'P_0')\n",
    "P_0 = df_P_0.values\n",
    "df_P_1 = pd.read_hdf('populationen.hdf5', key = 'P_1')\n",
    "P_1 = df_P_1.values\n",
    "P = np.concatenate((P_0,P_1))\n",
    "P = np.transpose(P)\n",
    "labels = np.concatenate((np.zeros(P_0.shape[0]),np.ones(P_1.shape[0])))\n",
    "\n",
    "np.random.seed(0)\n",
    "W = np.random.rand(2,2)\n",
    "b = np.random.rand(2,1)\n",
    "print(W)\n",
    "print(b)"
   ]
  },
  {
   "cell_type": "code",
   "execution_count": 52,
   "metadata": {},
   "outputs": [
    {
     "name": "stdout",
     "output_type": "stream",
     "text": [
      "[[ 0.50679387  0.52101689]\n",
      " [ 0.49320613  0.47898311]]\n",
      "[0 0]\n"
     ]
    }
   ],
   "source": [
    "X = np.array([[1,10],[2,11]])\n",
    "q =softmax(X, W,b)\n",
    "print(q)\n",
    "print(getPredictions(q))"
   ]
  },
  {
   "cell_type": "code",
   "execution_count": 89,
   "metadata": {},
   "outputs": [
    {
     "name": "stdout",
     "output_type": "stream",
     "text": [
      "[ 42729.43072501  21740.94192925]\n",
      "[[-1067.68695462  -542.80835886]\n",
      " [-1067.63300475  -542.97866505]]\n",
      "[[-94.4763452 ]\n",
      " [-94.25410589]]\n"
     ]
    }
   ],
   "source": [
    "np.random.seed(0)\n",
    "W = np.random.rand(2,2)\n",
    "b = np.random.rand(2,1)\n",
    "(W, b) = learn(P, W, b, 0.05, 1)\n",
    "print(W)\n",
    "print(b)"
   ]
  }
 ],
 "metadata": {
  "kernelspec": {
   "display_name": "Python 3",
   "language": "python",
   "name": "python3"
  },
  "language_info": {
   "codemirror_mode": {
    "name": "ipython",
    "version": 3
   },
   "file_extension": ".py",
   "mimetype": "text/x-python",
   "name": "python",
   "nbconvert_exporter": "python",
   "pygments_lexer": "ipython3",
   "version": "3.6.1"
  }
 },
 "nbformat": 4,
 "nbformat_minor": 2
}
