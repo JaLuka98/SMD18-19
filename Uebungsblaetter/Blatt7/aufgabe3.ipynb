{
 "cells": [
  {
   "cell_type": "markdown",
   "metadata": {},
   "source": [
    "# Aufgabe 21 (Dritte Aufgabe auf dem Blatt) - Lineare Klassifikation mit Softmax"
   ]
  },
  {
   "cell_type": "markdown",
   "metadata": {},
   "source": [
    "## Teilaufgabe a)"
   ]
  },
  {
   "cell_type": "markdown",
   "metadata": {},
   "source": [
    "## Teilaufgabe b)"
   ]
  },
  {
   "cell_type": "markdown",
   "metadata": {},
   "source": [
    "## Teilaufgabe c)"
   ]
  },
  {
   "cell_type": "markdown",
   "metadata": {},
   "source": [
    "## Teilaufgabe d)"
   ]
  },
  {
   "cell_type": "code",
   "execution_count": 5,
   "metadata": {
    "collapsed": true
   },
   "outputs": [],
   "source": [
    "import numpy as np\n",
    "import pandas as pd"
   ]
  },
  {
   "cell_type": "code",
   "execution_count": 34,
   "metadata": {
    "collapsed": true
   },
   "outputs": [],
   "source": [
    "def indikator(i,j):\n",
    "    if i == j:\n",
    "        return True\n",
    "    else:\n",
    "        return False"
   ]
  },
  {
   "cell_type": "code",
   "execution_count": 111,
   "metadata": {
    "collapsed": true
   },
   "outputs": [],
   "source": [
    "def softmax(X, W, b):\n",
    "    '''Gives back a matrix. q[i,j] is the confidence that point X[i] belongs to the j-th class.'''\n",
    "    scores = np.matmul(W, X) + b # quasi eine f-Matrix\n",
    "    nenner = scores.sum(axis=0) # Summiere bitte entlang der Spalten\n",
    "    q = scores/nenner\n",
    "    return q\n",
    "\n",
    "\n",
    "def getPredictions(q):\n",
    "    return np.argmax(q,axis=0)\n",
    "\n",
    "def learn(X, W, b, h, epochs):\n",
    "    m = X.shape[0]\n",
    "    for i in range(0,epochs):\n",
    "        q = softmax(X, W, b)\n",
    "        predictions = getPredictions(q)\n",
    "        diff = labels - predictions\n",
    "        summe = np.zeros(2)\n",
    "        for i in range(0, X.shape[1]):\n",
    "            summe += diff[i]*np.transpose(P)[i]\n",
    "        W = W - h/m * summe\n",
    "        b = b - h/m * sum(diff)\n",
    "    return W, b"
   ]
  },
  {
   "cell_type": "code",
   "execution_count": 51,
   "metadata": {},
   "outputs": [
    {
     "name": "stdout",
     "output_type": "stream",
     "text": [
      "[[ 0.5488135   0.71518937]\n",
      " [ 0.60276338  0.54488318]]\n",
      "[[ 0.4236548 ]\n",
      " [ 0.64589411]]\n"
     ]
    }
   ],
   "source": [
    "df_P_0 = pd.read_hdf('populationen.hdf5', key = 'P_0')\n",
    "P_0 = df_P_0.values\n",
    "df_P_1 = pd.read_hdf('populationen.hdf5', key = 'P_1')\n",
    "P_1 = df_P_1.values\n",
    "P = np.concatenate((P_0,P_1))\n",
    "P = np.transpose(P)\n",
    "labels = np.concatenate((np.zeros(P_0.shape[0]),np.ones(P_1.shape[0])))\n",
    "\n",
    "np.random.seed(0)\n",
    "W = np.random.rand(2,2)\n",
    "b = np.random.rand(2,1)\n",
    "print(W)\n",
    "print(b)"
   ]
  },
  {
   "cell_type": "code",
   "execution_count": 52,
   "metadata": {},
   "outputs": [
    {
     "name": "stdout",
     "output_type": "stream",
     "text": [
      "[[ 0.50679387  0.52101689]\n",
      " [ 0.49320613  0.47898311]]\n",
      "[0 0]\n"
     ]
    }
   ],
   "source": [
    "X = np.array([[1,10],[2,11]])\n",
    "q =softmax(X, W,b)\n",
    "print(q)\n",
    "print(getPredictions(q))"
   ]
  },
  {
   "cell_type": "code",
   "execution_count": 89,
   "metadata": {},
   "outputs": [
    {
     "name": "stdout",
     "output_type": "stream",
     "text": [
      "[ 42729.43072501  21740.94192925]\n",
      "[[-1067.68695462  -542.80835886]\n",
      " [-1067.63300475  -542.97866505]]\n",
      "[[-94.4763452 ]\n",
      " [-94.25410589]]\n"
     ]
    }
   ],
   "source": [
    "np.random.seed(0)\n",
    "W = np.random.rand(2,2)\n",
    "b = np.random.rand(2,1)\n",
    "(W, b) = learn(P, W, b, 0.05, 1)\n",
    "print(W)\n",
    "print(b)"
   ]
  },
  {
   "cell_type": "code",
   "execution_count": 132,
   "metadata": {},
   "outputs": [
    {
     "name": "stdout",
     "output_type": "stream",
     "text": [
      "[[ 0.39610605  0.45555085  0.44872606  0.46911245]\n",
      " [ 0.60389395  0.54444915  0.55127394  0.53088755]]\n"
     ]
    }
   ],
   "source": [
    "# Train the AND\n",
    "And = np.array([[0,0,1,1], [0,1,0,1]])\n",
    "labels = np.array([0,0,0,1])\n",
    "np.random.seed(0)\n",
    "W = np.random.rand(2,2)\n",
    "b = np.random.rand(2,1)\n",
    "X = np.array([[1,10],[2,11]])\n",
    "q =softmax(And,W[0],b)\n",
    "print(q)\n",
    "predictions = getPredictions(q)\n",
    "#W, b = learn(And, W, b, 0.1, 10)\n",
    "#print(W)\n",
    "#print(b)\n",
    "#q =softmax(And,W,b)\n",
    "#print(q)\n",
    "#print(getPredictions(q))"
   ]
  },
  {
   "cell_type": "code",
   "execution_count": 125,
   "metadata": {},
   "outputs": [
    {
     "ename": "ValueError",
     "evalue": "shapes (2,4) and (1,4) not aligned: 4 (dim 1) != 1 (dim 0)",
     "output_type": "error",
     "traceback": [
      "\u001b[1;31m---------------------------------------------------------------------------\u001b[0m",
      "\u001b[1;31mValueError\u001b[0m                                Traceback (most recent call last)",
      "\u001b[1;32m<ipython-input-125-a69801d75c95>\u001b[0m in \u001b[0;36m<module>\u001b[1;34m()\u001b[0m\n\u001b[0;32m      1\u001b[0m \u001b[0me\u001b[0m \u001b[1;33m=\u001b[0m \u001b[0mlabels\u001b[0m \u001b[1;33m-\u001b[0m \u001b[0mpredictions\u001b[0m\u001b[1;33m\u001b[0m\u001b[0m\n\u001b[0;32m      2\u001b[0m \u001b[0me\u001b[0m \u001b[1;33m=\u001b[0m \u001b[0me\u001b[0m\u001b[1;33m.\u001b[0m\u001b[0mreshape\u001b[0m\u001b[1;33m(\u001b[0m\u001b[1;36m1\u001b[0m\u001b[1;33m,\u001b[0m \u001b[0me\u001b[0m\u001b[1;33m.\u001b[0m\u001b[0mshape\u001b[0m\u001b[1;33m[\u001b[0m\u001b[1;36m0\u001b[0m\u001b[1;33m]\u001b[0m\u001b[1;33m)\u001b[0m\u001b[1;33m\u001b[0m\u001b[0m\n\u001b[1;32m----> 3\u001b[1;33m \u001b[0mgrad\u001b[0m \u001b[1;33m=\u001b[0m \u001b[1;33m(\u001b[0m\u001b[1;33m-\u001b[0m\u001b[1;36m1\u001b[0m \u001b[1;33m/\u001b[0m \u001b[1;36m4\u001b[0m\u001b[1;33m)\u001b[0m \u001b[1;33m*\u001b[0m \u001b[0mnp\u001b[0m\u001b[1;33m.\u001b[0m\u001b[0mmatmul\u001b[0m\u001b[1;33m(\u001b[0m\u001b[0mAnd\u001b[0m\u001b[1;33m,\u001b[0m\u001b[0me\u001b[0m\u001b[1;33m)\u001b[0m \u001b[1;33m+\u001b[0m \u001b[0mW\u001b[0m\u001b[1;33m\u001b[0m\u001b[0m\n\u001b[0m",
      "\u001b[1;31mValueError\u001b[0m: shapes (2,4) and (1,4) not aligned: 4 (dim 1) != 1 (dim 0)"
     ]
    }
   ],
   "source": [
    "e = labels - predictions\n",
    "e = e.reshape(1, e.shape[0])\n",
    "grad = (-1 / 4) * np.matmul(And,e) + W"
   ]
  },
  {
   "cell_type": "code",
   "execution_count": 119,
   "metadata": {},
   "outputs": [
    {
     "data": {
      "text/plain": [
       "array([-1, -1, -1,  0], dtype=int64)"
      ]
     },
     "execution_count": 119,
     "metadata": {},
     "output_type": "execute_result"
    }
   ],
   "source": []
  },
  {
   "cell_type": "code",
   "execution_count": 145,
   "metadata": {},
   "outputs": [
    {
     "data": {
      "text/plain": [
       "array([ 0.4236548 ,  1.13884417,  0.9724683 ,  1.68765767])"
      ]
     },
     "execution_count": 145,
     "metadata": {},
     "output_type": "execute_result"
    }
   ],
   "source": [
    "scores = np.matmul(W[0], And) + b[0]\n",
    "scores"
   ]
  }
 ],
 "metadata": {
  "kernelspec": {
   "display_name": "Python 3",
   "language": "python",
   "name": "python3"
  },
  "language_info": {
   "codemirror_mode": {
    "name": "ipython",
    "version": 3
   },
   "file_extension": ".py",
   "mimetype": "text/x-python",
   "name": "python",
   "nbconvert_exporter": "python",
   "pygments_lexer": "ipython3",
   "version": "3.6.1"
  }
 },
 "nbformat": 4,
 "nbformat_minor": 2
}
