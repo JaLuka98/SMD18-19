{
 "cells": [
  {
   "cell_type": "markdown",
   "metadata": {},
   "source": [
    "# Aufgabe 4\n",
    "Es wird angenommen, dass die Augenzahlen des Würfels von 1 bis 6 reichen, die Würfe der beiden Würfel unabhängig voneinander sind und die Wahrscheinlichkeiten für die einzelnen Augenzahlen alle 1/6 betragen."
   ]
  },
  {
   "cell_type": "markdown",
   "metadata": {
    "collapsed": true
   },
   "source": [
    "## Teilaufgabe a)\n",
    "Wie groß ist die Wahrscheinlichkeit, dass die Augensumme 9 beträgt?\n",
    "Es gilt $P(A \\land B) = P(A) \\cdot P(B)$ für unabhängige Ereignisse. Dies werden wir hier an:\n",
    "\n",
    "$P(W_\\text{rot}+W_\\text{blau}=9) = P(W_\\text{rot}=6 \\land W_\\text{blau}=3) \\\\ + P(W_\\text{rot}=5 \\land W_\\text{blau}=4) + P(W_\\text{rot}=4 \\land W_\\text{blau}=5) + P(W_\\text{rot}=3 \\land W_\\text{blau}=6) \\iff$\n",
    "\n",
    "$P(W_\\text{rot}+W_\\text{blau}=9) = P(W_\\text{rot}=6) \\cdot P(W_\\text{blau}=3) \\\\ +  P(W_\\text{rot}=5) \\cdot P(W_\\text{blau}=4) + P(W_\\text{rot}=4) \\cdot P(W_\\text{blau}=5) + P(W_\\text{rot}=3) \\cdot P(W_\\text{blau}=6) \\iff$\n",
    "\n",
    "$P(W_\\text{rot}+W_\\text{blau}=9) = \\sum_{n=1}^4 \\frac{1}{6} \\cdot \\frac{1}{6} = 4 \\cdot \\frac{1}{6} \\cdot \\frac{1}{6} = \\frac{1}{9}\\,.$"
   ]
  },
  {
   "cell_type": "markdown",
   "metadata": {},
   "source": [
    "## Teilaufgabe b)\n",
    "Wie groß ist die Wahrscheinlichkeit, dass die Augensumme 9 oder mehr beträgt? <br>\n",
    "Analog zu oben, nicht so ausführlich: \n",
    "$P(W_\\text{rot}+W_\\text{blau} \\geq 9) = P(W_\\text{rot}+W_\\text{blau}=9) + P(W_\\text{rot}+W_\\text{blau}=10) + P(W_\\text{rot}+W_\\text{blau}=11) + P(W_\\text{rot}+W_\\text{blau}=12) \\iff$\n",
    "\n",
    "$P(W_\\text{rot}+W_\\text{blau} \\geq 9) = \\frac{4}{36} + \\frac{3}{36} + \\frac{2}{36} + \\frac{1}{36} \\iff$\n",
    "\n",
    "$P(W_\\text{rot}+W_\\text{blau} \\geq 9) = \\frac{5}{18} \\approx 27{,}78\\%\\,.$"
   ]
  },
  {
   "cell_type": "markdown",
   "metadata": {},
   "source": [
    "## Teilaufgabe c)\n",
    "Wie groß ist die Wahrscheinlichkeit, dass ein Würfel 4, der andere 5 Punkte zeigt? <br>\n",
    "Das ist mit $P(A \\lor B) = P(A) + P(b) - P(A \\land B) =  P(A) + P(b)$, da sich $A$ und $B$ hier ausschließen, gegeben durch \n",
    "\\begin{align}\n",
    "P((W_\\text{rot}&=4 \\land W_\\text{blau}=5) \\lor \n",
    "(W_\\text{rot}=5 \\land W_\\text{blau} = 4)) = \\\\\n",
    "P(W_\\text{rot}&=4 \\land W_\\text{blau}=5) + \n",
    "P(W_\\text{rot}=5 \\land W_\\text{blau}=4) \\\\\n",
    "P(W_\\text{rot}=&4 \\land W_\\text{blau}=5) =\n",
    "P(W_\\text{rot}=5 \\land W_\\text{blau}=4) = \n",
    "\\frac{1}{36} \\Rightarrow \\\\\n",
    "P((W_\\text{rot}&=4 \\land W_\\text{blau}=5) \\lor \n",
    "(W_\\text{rot}=5 \\land W_\\text{blau} = 4)) = \n",
    "\\frac{1}{18} \\approx 5{,}56\\%\\,.\n",
    "\\end{align}"
   ]
  },
  {
   "cell_type": "markdown",
   "metadata": {},
   "source": [
    "Sie werfen die Würfel so, dass der blaue Würfel hinter einen Gegenstand rollt, so dass Sie\n",
    "ihn zunächst nicht sehen können. Der rote Würfel zeigt eine 4. Nachdem Sie das gesehen\n",
    "haben, wie groß ist dann die Wahrscheinlichkeit dafür, dass ..."
   ]
  },
  {
   "cell_type": "markdown",
   "metadata": {},
   "source": [
    "## Teilaufgabe d)\n",
    "... die Summe der Punkte 9 ergibt? <br>\n",
    "Das Ergebnis des Wurfes des roten Würfels ist festgelegt. Das bedeutet quasi $P(W_\\text{rot} = 4) = 1$. Um eine Gesamtaugenzahl von 9 zu erhalten, muss der blaue Würfel eine 5 zeigen. Die Wahrscheinlichkeit dafür beträgt $\\frac{1}{6}$ und damit ist dieser Wert auch die Antwort auf die Frage."
   ]
  },
  {
   "cell_type": "markdown",
   "metadata": {},
   "source": [
    "## Teilaufgabe e)\n",
    "... die Summe der Punkte 9 oder mehr ergibt? <br>\n",
    "Das wäre dann\n",
    "$P(W_\\text{rot}+W_\\text{blau} \\geq 9) = P(W_\\text{blau} = 5 \\lor W_\\text{blau}=6) = P(W_\\text{blau} = 5) + P(W_\\text{blau} = 6) = \\frac{1}{6} + \\frac{1}{6} = \\frac{1}{3}\\,.$\n",
    "Hier muss man beachten, dass der blaue Würfel 5 oder 6 zeigen muss, nur so kann mit einer \"roten 4\" noch 9 erhalten oder drüber kommen."
   ]
  },
  {
   "cell_type": "markdown",
   "metadata": {},
   "source": [
    "## Teilaufgabe f)\n",
    "... der rote Würfel 4, der blaue 5 Punkte zeigt? <br>\n",
    "Das ist leicht. Die 4 des roten Würfels ist ein sicheres Ereignis, deswegen beträgt die Wahrscheinlichkeit für eine \"rote 4\" und eine \"blaue 5\" einfach $\\frac{1}{6}$."
   ]
  }
 ],
 "metadata": {
  "kernelspec": {
   "display_name": "Python 3",
   "language": "python",
   "name": "python3"
  },
  "language_info": {
   "codemirror_mode": {
    "name": "ipython",
    "version": 3
   },
   "file_extension": ".py",
   "mimetype": "text/x-python",
   "name": "python",
   "nbconvert_exporter": "python",
   "pygments_lexer": "ipython3",
   "version": "3.6.1"
  }
 },
 "nbformat": 4,
 "nbformat_minor": 2
}
