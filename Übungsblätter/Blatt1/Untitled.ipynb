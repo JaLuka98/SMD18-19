{
 "cells": [
  {
   "cell_type": "markdown",
   "metadata": {},
   "source": [
    "# Aufgabe 3\n",
    "Die Wahrscheinlichkeitsdichte der Maxwell-Boltzmann-Verteilung lautet\n",
    "$$\n",
    "\\begin{align}\n",
    "    f(v) = N \\, \\exp(- \\frac{m v^2}{2 k T})\\, 4 \\pi v^2 \\,.\n",
    "\\end{align}\n",
    "$$\n",
    "Berechnen der Normierungskonstante mit der Bedingung $\\int_0^\\infty \\mathrm{d}v \\,f(v) = 1$:\n",
    "$$\n",
    "\\begin{align}\n",
    "    1 &= 4 \\pi N \\int_0^\\infty \\mathrm{d}v \\exp(- \\frac{m v^2}{2 k T})\\, v^2 \\iff \\\\\n",
    "    \\frac{1}{4 \\pi N} &= - 2 k T \\frac{\\mathrm{d}}{\\mathrm{d}m} \\int_0^\\infty \\mathrm{d}v \\exp(- \\frac{m v^2}{2 k T}) \\iff \\\\\n",
    "    \\frac{1}{4 \\pi N} &= - 2 k T \\frac{\\mathrm{d}}{\\mathrm{d}m} \\sqrt{\\frac{2 k T}{m}} \\int_0^\\infty \\mathrm{d}u \\exp(-u^2) \\iff \\\\\n",
    "    \\frac{1}{4 \\pi N} &= - 2 k T \\frac{\\mathrm{d}}{\\mathrm{d}m} \\sqrt{\\frac{2 k T}{m}} \\sqrt{\\frac{\\pi}{2}} \\iff \\\\\n",
    "    \\frac{1}{N} &= 4 \\pi 2 k T \\sqrt{2 k T} \\frac{1}{2} (1/m)^{3/2} \\iff \\\\\n",
    "    N &= \\left(\\frac{m}{2 \\pi k T}\\right)^{3/2} \\,.\\\\\n",
    "\\end{align}\n",
    "$$"
   ]
  },
  {
   "cell_type": "markdown",
   "metadata": {},
   "source": [
    "## Teilaufgabe a)\n",
    "Zu berechnen ist die wahrscheinlichste Geschwindigkeit $v_m$. Dort hat die Wahrscheinlichkeitsdichtefunktion $f(v)$ ihr Maximum. Dort muss also die Ableitung null sein. Daraus folgt\n",
    "$$\n",
    "\\begin{align}\n",
    "    \\frac{\\mathrm{d}f(v)}{\\mathrm{d}v} &= 4\\pi N v \\, \\exp(- \\frac{m v^2}{2 k T})\\,(2 - \\frac{m v^2}{k T})\\\\\n",
    "    & \\Rightarrow 2 = \\frac{mv^2}{k T} \\Rightarrow v^2 = \\frac{2 k T}{m} \\Rightarrow v_m = \\sqrt{\\frac{2 k T}{m}}\\,.\n",
    "\\end{align}\n",
    "$$\n",
    "Dann lässt sich $f(v)$ darstellen als\n",
    "$$\n",
    "\\begin{align}\n",
    "    f(v) = \\frac{4}{\\sqrt{\\pi} v_m^3} v^2 \\, \\exp(-(v/v_m)^2)\n",
    "\\end{align}\n",
    "$$"
   ]
  },
  {
   "cell_type": "markdown",
   "metadata": {},
   "source": [
    "## Teilaufgabe b)\n",
    "Gesucht ist der Mittelwert der Geschwindigkeit.\n",
    "$$\n",
    "\\begin{align}\n",
    "<v>\\, &= \\int_0^\\infty \\mathrm{d}v \\,v f(v) = \\frac{4}{\\sqrt{\\pi} v_m^3} \\int_0^\\infty \\mathrm{d}v \\,v^3 \\, \\exp(-(v/v_m)^2) \\\\\n",
    "      &= \\frac{4}{\\sqrt{\\pi} v_m^3} \\frac{v_m^4}{2} = \\frac{2}{\\sqrt{\\pi}} v_m\n",
    "\\end{align}\n",
    "$$\n",
    "Das Integral $\\int_0^\\infty \\mathrm{d}v \\, v^3 \\, \\exp(-\\alpha v^2) = \\frac{1}{2\\alpha}$ wurde nachgeschlagen."
   ]
  },
  {
   "cell_type": "markdown",
   "metadata": {},
   "source": [
    "## Teilaufgabe c)\n",
    "Zu berechnen ist der Median $v_{0{,}5}$ der Geschwindigkeit. Dieser ist durch\n",
    "$$\n",
    "\\begin{align}\n",
    "    \\frac{1}{2} = \\int_0^{v_{0{,}5}} \\mathrm{d}v \\, f(v)\n",
    "\\end{align}\n",
    "$$\n",
    "definiert. Es wird $f(v)$ eingesetzt, um\n",
    "$$\n",
    "\\begin{align}\n",
    "    \\frac{1}{2} &= \\frac{4}{\\sqrt{\\pi} v_m^3} \\int_0^{v_{0{,}5}} \\mathrm{d}v \\, v^2 \\, \\exp(-(v/v_m)^2 \\iff \\\\\n",
    "    1 \n",
    "\\end{align}\n",
    "$$"
   ]
  },
  {
   "cell_type": "code",
   "execution_count": null,
   "metadata": {
    "collapsed": true
   },
   "outputs": [],
   "source": []
  }
 ],
 "metadata": {
  "kernelspec": {
   "display_name": "Python 3",
   "language": "python",
   "name": "python3"
  },
  "language_info": {
   "codemirror_mode": {
    "name": "ipython",
    "version": 3
   },
   "file_extension": ".py",
   "mimetype": "text/x-python",
   "name": "python",
   "nbconvert_exporter": "python",
   "pygments_lexer": "ipython3",
   "version": "3.6.1"
  }
 },
 "nbformat": 4,
 "nbformat_minor": 2
}
