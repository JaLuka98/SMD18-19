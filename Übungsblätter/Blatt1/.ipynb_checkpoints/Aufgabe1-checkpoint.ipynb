{
 "cells": [
  {
   "cell_type": "code",
   "execution_count": 2,
   "metadata": {
    "collapsed": true
   },
   "outputs": [],
   "source": [
    "import numpy as np\n",
    "import matplotlib.pyplot as plt"
   ]
  },
  {
   "cell_type": "markdown",
   "metadata": {
    "collapsed": true
   },
   "source": [
    "# Aufgabe 1 \n",
    "# a)\n"
   ]
  },
  {
   "cell_type": "code",
   "execution_count": 8,
   "metadata": {
    "scrolled": true
   },
   "outputs": [
    {
     "data": {
      "image/png": "[encoded data removed]",
      "text/plain": [
       "<matplotlib.figure.Figure at 0x24be265f0f0>"
      ]
     },
     "metadata": {},
     "output_type": "display_data"
    },
    {
     "data": {
      "image/png": "[encoded data removed]",
      "text/plain": [
       "<matplotlib.figure.Figure at 0x24be2b74e80>"
      ]
     },
     "metadata": {},
     "output_type": "display_data"
    },
    {
     "name": "stdout",
     "output_type": "stream",
     "text": [
      "Wert ab dem Abweichung von f(x) größer als 1%\n",
      "42043.0\n",
      "f(x) Gleich 0 ab Wert:\n",
      "165166.0\n",
      "Wert ab dem g(x) um mehr als 1% Abweicht:\n",
      "g(x) gleich 0 ab Wert:\n"
     ]
    }
   ],
   "source": [
    "def f(x):\n",
    "    return (x**3 + 1/3) - (x**3 - 1/3)\n",
    "def g(x):\n",
    "    return ((3 + x**3/3) - (3 - x**3/3))/x**3\n",
    "\n",
    "n=1000\n",
    "N=1000000\n",
    "x = np.linspace(1,N,n)\n",
    "\n",
    "#Plots\n",
    "plt.plot(x, f(x),'r.', label='Funktionswerte', Markersize=2)\n",
    "plt.xscale('log')\n",
    "plt.legend\n",
    "plt.show()\n",
    "plt.clf()\n",
    "\n",
    "plt.plot(x, g(x),'b.', label='Funktionswerte', Markersize=2)\n",
    "plt.xscale('log')\n",
    "plt.legend()\n",
    "plt.show()\n",
    "\n",
    "\n",
    "#Wertabfrage f(x)\n",
    "print(\"Wert ab dem Abweichung von f(x) größer als 1%\")\n",
    "i = 0 \n",
    "while i<n:\n",
    "    if 2/3*1/f(x[i]) <= 0.99 or 2/3*1/f(x[i]) >= 1.01:\n",
    "            print(x[i])\n",
    "            i=n\n",
    "    else:\n",
    "        i+=1\n",
    "\n",
    "print(\"f(x) Gleich 0 ab Wert:\")\n",
    "i = 0 \n",
    "while i<n:\n",
    "    if f(x[i]) == 0:\n",
    "        print(x[i])\n",
    "        i=n\n",
    "    else:\n",
    "        i+=1\n",
    "\n",
    "#Wertabfrage g(x) (falsch)\n",
    "print(\"Wert ab dem g(x) um mehr als 1% Abweicht:\")\n",
    "#es ergibt sich gesamter Bereich, siehe Plot\n",
    "i = 0 \n",
    "while i<n:\n",
    "    if 2/3*1/g(x[i]) <= 0.99 or 2/3*1/g(x[i]) >= 1.01:\n",
    "            print(x[i])\n",
    "            i=n\n",
    "    else:\n",
    "        i+=1\n",
    "        \n",
    "print(\"g(x) gleich 0 ab Wert:\")\n",
    "i = 0 \n",
    "while i<n:\n",
    "    if g(x[i]) == 0:\n",
    "        #Funktion konstant, kein Wert = 0 , siehe Plot\n",
    "        print(x[i])\n",
    "        i+=1\n",
    "    else:\n",
    "        i+=1\n",
    "        \n",
    "\n",
    "\n"
   ]
  },
  {
   "cell_type": "code",
   "execution_count": null,
   "metadata": {
    "collapsed": true
   },
   "outputs": [],
   "source": []
  },
  {
   "cell_type": "code",
   "execution_count": null,
   "metadata": {
    "collapsed": true
   },
   "outputs": [],
   "source": []
  },
  {
   "cell_type": "code",
   "execution_count": null,
   "metadata": {
    "collapsed": true
   },
   "outputs": [],
   "source": []
  }
 ],
 "metadata": {
  "kernelspec": {
   "display_name": "Python 3",
   "language": "python",
   "name": "python3"
  },
  "language_info": {
   "codemirror_mode": {
    "name": "ipython",
    "version": 3
   },
   "file_extension": ".py",
   "mimetype": "text/x-python",
   "name": "python",
   "nbconvert_exporter": "python",
   "pygments_lexer": "ipython3",
   "version": "3.6.1"
  }
 },
 "nbformat": 4,
 "nbformat_minor": 2
}
