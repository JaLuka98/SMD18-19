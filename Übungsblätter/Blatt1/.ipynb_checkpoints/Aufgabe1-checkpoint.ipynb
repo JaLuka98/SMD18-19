{
 "cells": [
  {
   "cell_type": "code",
   "execution_count": 77,
   "metadata": {
    "collapsed": true
   },
   "outputs": [],
   "source": [
    "import numpy as np\n",
    "import matplotlib.pyplot as plt"
   ]
  },
  {
   "cell_type": "markdown",
   "metadata": {
    "collapsed": true
   },
   "source": [
    "# Aufgabe 1 \n",
    "# a)\n"
   ]
  },
  {
   "cell_type": "code",
   "execution_count": 137,
   "metadata": {
    "scrolled": true
   },
   "outputs": [
    {
     "name": "stdout",
     "output_type": "stream",
     "text": [
      "Weniger als 1% Abweichung bis ca. zum Wert:\n",
      "41305.0891089\n",
      "Gleich 0 ab Wert:\n",
      "165217.356436\n"
     ]
    },
    {
     "data": {
      "image/png": "[encoded data removed]",
      "text/plain": [
       "<matplotlib.figure.Figure at 0x1cc8860c828>"
      ]
     },
     "metadata": {},
     "output_type": "display_data"
    },
    {
     "data": {
      "image/png": "[encoded data removed]",
      "text/plain": [
       "<matplotlib.figure.Figure at 0x1cc871c6d68>"
      ]
     },
     "metadata": {},
     "output_type": "display_data"
    }
   ],
   "source": [
    "def f(x):\n",
    "    return (x**3 + 1/3) - (x**3 - 1/3)\n",
    "def g(x):\n",
    "    return ((3 + x**3/3) - (3 - x**3/3)/x**3)\n",
    "\n",
    "n=10000\n",
    "x = np.linspace(1,1000000,n)\n",
    "\n",
    "\n",
    "#Wertabfrage f(x)\n",
    "i = 0 \n",
    "while i<n:\n",
    "    if 2/3*1/f(x[i]) <= 0.99:\n",
    "        print(\"Weniger als 1% Abweichung bis ca. zum Wert:\")\n",
    "        print(x[i])\n",
    "        i=n\n",
    "    elif 2/3*1/f(x[i]) >= 1.01:\n",
    "        print(\"Weniger als 1% Abweichung bis ca. zum Wert:\")\n",
    "        print(x[i])\n",
    "        i=n\n",
    "    else:\n",
    "        i+=1\n",
    "        if f(x[i]) == 0: \n",
    "            i=n\n",
    "        \n",
    "i = 0 \n",
    "while i<n:\n",
    "    if f(x[i]) == 0:\n",
    "        print(\"Gleich 0 ab Wert:\")\n",
    "        print(x[i])\n",
    "        i=n\n",
    "    else:\n",
    "        i+=1\n",
    "\n",
    "#Wertabfrage g(x) (falsch)\n",
    "#i = 0 \n",
    "#while i<n:\n",
    "#    if b[i] >= 0.99:\n",
    "#        print(\"Weniger als 1% Abweichung bis ca. zum Wert:\")\n",
    "#        print(x[i])\n",
    "#        i=n\n",
    "#    elif b[i] <= 1.01:\n",
    "#        print(\"Weniger als 1% Abweichung bis ca. zum Wert:\")\n",
    "#        print(x[i])\n",
    "#        i=n \n",
    "#    else:\n",
    "#        i+=1\n",
    "        \n",
    "plt.plot(x, f(x),'r.', label='Funktionswerte', Markersize=2)\n",
    "plt.xscale('log')\n",
    "plt.legend\n",
    "plt.show()\n",
    "plt.clf()\n",
    "\n",
    "plt.plot(x, g(x),'b.', label='Funktionswerte', Markersize=2)\n",
    "plt.xscale('log')\n",
    "plt.legend()\n",
    "plt.show()"
   ]
  },
  {
   "cell_type": "code",
   "execution_count": null,
   "metadata": {},
   "outputs": [],
   "source": []
  },
  {
   "cell_type": "code",
   "execution_count": null,
   "metadata": {
    "collapsed": true
   },
   "outputs": [],
   "source": []
  },
  {
   "cell_type": "code",
   "execution_count": null,
   "metadata": {
    "collapsed": true
   },
   "outputs": [],
   "source": []
  }
 ],
 "metadata": {
  "kernelspec": {
   "display_name": "Python 3",
   "language": "python",
   "name": "python3"
  },
  "language_info": {
   "codemirror_mode": {
    "name": "ipython",
    "version": 3
   },
   "file_extension": ".py",
   "mimetype": "text/x-python",
   "name": "python",
   "nbconvert_exporter": "python",
   "pygments_lexer": "ipython3",
   "version": "3.6.1"
  }
 },
 "nbformat": 4,
 "nbformat_minor": 2
}
