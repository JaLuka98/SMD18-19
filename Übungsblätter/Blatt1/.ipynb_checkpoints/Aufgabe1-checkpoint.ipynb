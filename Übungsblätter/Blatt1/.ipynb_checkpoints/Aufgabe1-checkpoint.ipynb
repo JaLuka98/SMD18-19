{
 "cells": [
  {
   "cell_type": "code",
   "execution_count": 2,
   "metadata": {
    "collapsed": true
   },
   "outputs": [],
   "source": [
    "import numpy as np\n",
    "import matplotlib.pyplot as plt"
   ]
  },
  {
   "cell_type": "markdown",
   "metadata": {
    "collapsed": true
   },
   "source": [
    "# Aufgabe 1 \n",
    "## a) & b)"
   ]
  },
  {
   "cell_type": "code",
   "execution_count": 26,
   "metadata": {
    "scrolled": true
   },
   "outputs": [
    {
     "name": "stdout",
     "output_type": "stream",
     "text": [
      "Ungefährer Wert, ab dem Abweichung von f(x) größer als 1%:\n",
      "43196.7929733\n",
      "Ungefährer Wert, ab dem f(x) gleich 0:\n",
      "166240.097893\n",
      "Ungefährer Wert, ab dem Abweichung von g(x) größer als 1%:\n",
      "Ungefährer Wert, ab dem g(x) gleich 0:\n"
     ]
    }
   ],
   "source": [
    "def f(x):\n",
    "    return (x**3 + 1/3) - (x**3 - 1/3)\n",
    "def g(x):\n",
    "    return ((3 + x**3/3) - (3 - x**3/3))/x**3\n",
    "\n",
    "n=300\n",
    "x = np.logspace(0,7, num=n)\n",
    "\n",
    "#Wertabfrage f(x)\n",
    "print(\"Ungefährer Wert, ab dem Abweichung von f(x) größer als 1%:\")\n",
    "i = 0 \n",
    "while i<n:\n",
    "    if 2/3*1/f(x[i]) <= 0.99 or 2/3*1/f(x[i]) >= 1.01:\n",
    "            print(x[i])\n",
    "            i=n\n",
    "    else:\n",
    "        i+=1\n",
    "\n",
    "print(\"Ungefährer Wert, ab dem f(x) gleich 0:\")\n",
    "i = 0 \n",
    "while i<n:\n",
    "    if f(x[i]) == 0:\n",
    "        print(x[i])\n",
    "        i=n\n",
    "    else:\n",
    "        i+=1\n",
    "        \n",
    "#Wertabfrage g(x)\n",
    "print(\"Ungefährer Wert, ab dem Abweichung von g(x) größer als 1%:\")\n",
    "i = 0 \n",
    "while i<n:\n",
    "    if 2/3*1/g(x[i]) <= 0.99 or 2/3*1/g(x[i]) >= 1.01:\n",
    "            print(x[i])\n",
    "            i=n\n",
    "    else:\n",
    "        i+=1\n",
    "\n",
    "print(\"Ungefährer Wert, ab dem g(x) gleich 0:\")\n",
    "i = 0 \n",
    "while i<n:\n",
    "    if g(x[i]) == 0:\n",
    "        print(x[i])\n",
    "        i=n\n",
    "    else:\n",
    "        i+=1\n"
   ]
  },
  {
   "cell_type": "markdown",
   "metadata": {
    "collapsed": true
   },
   "source": [
    "g(x) weicht nicht ab, deshalb werden keine Werte ausgegeben.\n",
    "\n",
    "\n",
    "## c)"
   ]
  },
  {
   "cell_type": "code",
   "execution_count": 23,
   "metadata": {},
   "outputs": [
    {
     "data": {
      "image/png": "[encoded data removed]",
      "text/plain": [
       "<matplotlib.figure.Figure at 0x1ed914b18d0>"
      ]
     },
     "metadata": {},
     "output_type": "display_data"
    },
    {
     "data": {
      "image/png": "[encoded data removed]",
      "text/plain": [
       "<matplotlib.figure.Figure at 0x1ed8d9de668>"
      ]
     },
     "metadata": {},
     "output_type": "display_data"
    }
   ],
   "source": [
    "#Plots\n",
    "plt.plot(x, f(x),'r.', label='Funktionswerte', Markersize=2.5)\n",
    "plt.xscale('log')\n",
    "plt.xlabel('x')\n",
    "plt.ylabel('f(x)')\n",
    "plt.legend\n",
    "plt.show()\n",
    "plt.clf()\n",
    "\n",
    "plt.plot(x, g(x),'b.', label='Funktionswerte', Markersize=2.5)\n",
    "plt.xscale('log')\n",
    "plt.xlabel('x')\n",
    "plt.ylabel('g(x)')\n",
    "plt.legend()\n",
    "plt.show()"
   ]
  }
 ],
 "metadata": {
  "kernelspec": {
   "display_name": "Python 3",
   "language": "python",
   "name": "python3"
  },
  "language_info": {
   "codemirror_mode": {
    "name": "ipython",
    "version": 3
   },
   "file_extension": ".py",
   "mimetype": "text/x-python",
   "name": "python",
   "nbconvert_exporter": "python",
   "pygments_lexer": "ipython3",
   "version": "3.6.1"
  }
 },
 "nbformat": 4,
 "nbformat_minor": 2
}
