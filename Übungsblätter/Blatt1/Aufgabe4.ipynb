{
 "cells": [
  {
   "cell_type": "markdown",
   "metadata": {},
   "source": [
    "# Aufgabe 4\n",
    "Es wird angenommen, dass die Augenzahlen des Würfels von 1 bis 6 reichen, die Würfe der beiden Würfel unabhängig voneinander sind und die Wahrscheinlichkeiten für die einzelnen Augenzahlen alle 1/6 betragen.\n",
    "## Teilaufgabe a)\n",
    "Wie groß ist die Wahrscheinlichkeit, dass die Augensumme 9 beträgt? <br>\n",
    "Es gilt $P(A \\land B) = P(A) \\cdot P(B)$ für unabhängige Ereignisse. Dies werden wir hier an:\n",
    "$P(W_\\text{rot}+W_\\text{blau}=9) = P(W_\\text{rot}=6 \\land W_\\text{blau}=3) + P(W_\\text{rot}=5 \\land W_\\text{blau}=4) + P(W_\\text{rot}=4 \\land W_\\text{blau}=5) + P(W_\\text{rot}=3 \\land W_\\text{blau}=6) \\iff$\n",
    "\n",
    "$P(W_\\text{rot}+W_\\text{blau}=9) = P(W_\\text{rot}=6) \\cdot P(W_\\text{blau}=3) + P(W_\\text{rot}=5) \\cdot P(W_\\text{blau}=4) + P(W_\\text{rot}=4) \\cdot P(W_\\text{blau}=5) + P(W_\\text{rot}=3) \\cdot P(W_\\text{blau}=6) \\iff$\n",
    "\n",
    "$P(W_\\text{rot}+W_\\text{blau}=9) = \\sum_{n=1}^4 \\frac{1}{6} \\cdot \\frac{1}{6} = 4 \\cdot \\frac{1}{6} \\cdot \\frac{1}{6} = \\frac{1}{9}\\,.$"
   ]
  },
  {
   "cell_type": "code",
   "execution_count": null,
   "metadata": {
    "collapsed": true
   },
   "outputs": [],
   "source": []
  },
  {
   "cell_type": "code",
   "execution_count": null,
   "metadata": {
    "collapsed": true
   },
   "outputs": [],
   "source": []
  }
 ],
 "metadata": {
  "kernelspec": {
   "display_name": "Python 3",
   "language": "python",
   "name": "python3"
  },
  "language_info": {
   "codemirror_mode": {
    "name": "ipython",
    "version": 3
   },
   "file_extension": ".py",
   "mimetype": "text/x-python",
   "name": "python",
   "nbconvert_exporter": "python",
   "pygments_lexer": "ipython3",
   "version": "3.6.1"
  }
 },
 "nbformat": 4,
 "nbformat_minor": 2
}
