{
 "cells": [
  {
   "cell_type": "markdown",
   "metadata": {},
   "source": [
    "# Aufgabe 3\n",
    "Die Wahrscheinlichkeitsdichte der Maxwell-Boltzmann-Verteilung lautet\n",
    "$$\n",
    "\\begin{align}\n",
    "    f(v) = N \\, \\exp(- \\frac{m v^2}{2 k T})\\, 4 \\pi v^2 \\,.\n",
    "\\end{align}\n",
    "$$\n",
    "Berechnen der Normierungskonstante mit der Bedingung $\\int_0^\\infty \\mathrm{d}v \\,f(v) = 1$:\n",
    "$$\n",
    "\\begin{align}\n",
    "    1 &= 4 \\pi N \\int_0^\\infty \\mathrm{d}v \\exp(- \\frac{m v^2}{2 k T})\\, v^2 \\iff \\\\\n",
    "    \\frac{1}{4 \\pi N} &= - 2 k T \\frac{\\mathrm{d}}{\\mathrm{d}m} \\int_0^\\infty \\mathrm{d}v \\exp(- \\frac{m v^2}{2 k T}) \\iff \\\\\n",
    "    \\frac{1}{4 \\pi N} &= - 2 k T \\frac{\\mathrm{d}}{\\mathrm{d}m} \\sqrt{\\frac{2 k T}{m}} \\int_0^\\infty \\mathrm{d}u \\exp(-u^2) \\iff \\\\\n",
    "    \\frac{1}{4 \\pi N} &= - 2 k T \\frac{\\mathrm{d}}{\\mathrm{d}m} \\sqrt{\\frac{2 k T}{m}} \\sqrt{\\frac{\\pi}{2}} \\iff \\\\\n",
    "    \\frac{1}{N} &= 4 \\pi 2 k T \\sqrt{2 k T} \\frac{1}{2} (1/m)^{3/2} \\iff \\\\\n",
    "    N &= \\left(\\frac{m}{2 \\pi k T}\\right)^{3/2} \\,.\\\\\n",
    "\\end{align}\n",
    "$$"
   ]
  },
  {
   "cell_type": "markdown",
   "metadata": {},
   "source": [
    "## Teilaufgabe a)\n",
    "Zu berechnen ist die wahrscheinlichste Geschwindigkeit $v_m$. Dort hat die Wahrscheinlichkeitsdichtefunktion $f(v)$ ihr Maximum. Dort muss also die Ableitung null sein. Daraus folgt\n",
    "$$\n",
    "\\begin{align}\n",
    "    \\frac{\\mathrm{d}f(v)}{\\mathrm{d}v} &= 4\\pi N v \\, \\exp(- \\frac{m v^2}{2 k T})\\,(2 - \\frac{m v^2}{k T})\\\\\n",
    "    & \\Rightarrow 2 = \\frac{mv^2}{k T} \\Rightarrow v^2 = \\frac{2 k T}{m} \\Rightarrow v_m = \\sqrt{\\frac{2 k T}{m}}\\,.\n",
    "\\end{align}\n",
    "$$\n",
    "Dann lässt sich $f(v)$ darstellen als\n",
    "$$\n",
    "\\begin{align}\n",
    "    f(v) = \\frac{4}{\\sqrt{\\pi} v_m^3} v^2 \\, \\exp(-(v/v_m)^2)\n",
    "\\end{align}\n",
    "$$"
   ]
  },
  {
   "cell_type": "markdown",
   "metadata": {},
   "source": [
    "## Teilaufgabe b)\n",
    "Gesucht ist der Mittelwert der Geschwindigkeit.\n",
    "$$\n",
    "\\begin{align}\n",
    "\\langle v \\rangle\\, &= \\int_0^\\infty \\mathrm{d}v \\,v f(v) = \\frac{4}{\\sqrt{\\pi} v_m^3} \\int_0^\\infty \\mathrm{d}v \\,v^3 \\, \\exp(-(v/v_m)^2) \\\\\n",
    "      &= \\frac{4}{\\sqrt{\\pi} v_m^3} \\frac{v_m^4}{2} = \\frac{2}{\\sqrt{\\pi}} v_m\n",
    "\\end{align}\n",
    "$$\n",
    "Das Integral $\\int_0^\\infty \\mathrm{d}v \\, v^3 \\, \\exp(-\\alpha v^2) = \\frac{1}{2\\alpha}$ wurde nachgeschlagen."
   ]
  },
  {
   "cell_type": "markdown",
   "metadata": {},
   "source": [
    "## Teilaufgabe c)\n",
    "Zu berechnen ist der Median $v_{0{,}5}$ der Geschwindigkeit. Dieser ist durch\n",
    "$$\n",
    "\\begin{align}\n",
    "    \\frac{1}{2} = \\int_0^{v_{0{,}5}} \\mathrm{d}v \\, f(v)\n",
    "\\end{align}\n",
    "$$\n",
    "definiert. Es wird $f(v)$ eingesetzt, um\n",
    "$$\n",
    "\\begin{align}\n",
    "    \\frac{1}{2} &= \\frac{4}{\\sqrt{\\pi} v_m^3} \\int_0^{v_{0{,}5}} \\mathrm{d}v \\, v^2 \\, \\exp(-(v/v_m)^2) \\iff \\\\\n",
    "    1 &= \\frac{8}{\\sqrt{\\pi}} \\int_0^{u_{0{,}5}} \\mathrm{d}u \\, u^2 \\, \\exp(-u^2)\n",
    "\\end{align}\n",
    "$$\n",
    "zu erhalten. Die numerische Lösung dieser Gleichung erfolgt nun."
   ]
  },
  {
   "cell_type": "code",
   "execution_count": 1,
   "metadata": {
    "collapsed": true
   },
   "outputs": [],
   "source": [
    "import numpy as np\n",
    "from scipy import optimize\n",
    "from scipy import integrate\n",
    "\n",
    "# Implementation of the Maxwell Boltzmann Distribution\n",
    "def maxwell(v):\n",
    "    return 4/np.sqrt(np.pi)*v**2*np.exp(-v**2)\n",
    "\n",
    "\n",
    "# The definite integral of the MBD from 0 to v minus 1/2 - to find the median we need to find the root of this function!\n",
    "def functionForc(v):\n",
    "    return integrate.quad(maxwell, 0, v)[0] - 1/2\n",
    "\n",
    "\n",
    "# This one is for later, we also need to find the full width at half maximum.\n",
    "def functionFord(v):\n",
    "    return v**2*np.exp(-v**2) - 1/(2*np.exp(1))"
   ]
  },
  {
   "cell_type": "code",
   "execution_count": 2,
   "metadata": {},
   "outputs": [
    {
     "name": "stdout",
     "output_type": "stream",
     "text": [
      "1.087652031758167\n"
     ]
    }
   ],
   "source": [
    "print(optimize.brentq(functionForc, 0, 3))"
   ]
  },
  {
   "cell_type": "markdown",
   "metadata": {},
   "source": [
    "Die Funktion brentq aus scipy.optimize ist eine Methode, die die Nullstelle einer Funktion in einem gegebenen Intervall berechnet. \n",
    "Die Ausgabe der obigen Zelle ist der Median in Einheiten von $v_m$. Damit ist die Aufgabe gelöst."
   ]
  },
  {
   "cell_type": "markdown",
   "metadata": {},
   "source": [
    "## Teilaufgabe d)\n",
    "Zu berechnen ist die volle Breite auf halbem Maximum der Geschwindigkeit. Diese ist gegegeben durch $v_\\text{FWHM} = v_2-v_1$, wobei die Funktion $f$ bei $v_1$ und $v_2$ einen Wert von $f_\\text{max}/2$ mit dem maximalen Wert $f_\\text{max} = f(v_m)$ annimmt. Dieser Wert beträgt\n",
    "$$\n",
    "\\begin{align}\n",
    "    f(v=v_m) = \\frac{4}{\\sqrt{\\pi} e v_m}\\,.\n",
    "\\end{align}\n",
    "$$\n",
    "Mit der gennanten Bedingung folgt\n",
    "$$\n",
    "\\begin{align}\n",
    "    f(v=v_m)/2 = f(v) \\iff = \\frac{1}{2e} = u^2 \\, \\exp(-u^2)\\,,\n",
    "\\end{align}\n",
    "$$\n",
    "wobei $u$ wieder in Einheiten von $v_m$ gemessen wird.\n",
    "Eine numerische Lösung folgt nun."
   ]
  },
  {
   "cell_type": "code",
   "execution_count": 3,
   "metadata": {},
   "outputs": [
    {
     "name": "stdout",
     "output_type": "stream",
     "text": [
      "1.1549423602510842\n"
     ]
    }
   ],
   "source": [
    "v_left = optimize.brentq(functionFord, 0, 1)  # Find the left value for which f(v)=f(v_m)/2\n",
    "v_right = optimize.brentq(functionFord, 1, 2)  # Find the right value for which f(v)=f(v_m)/2\n",
    "print(v_right - v_left)"
   ]
  },
  {
   "cell_type": "markdown",
   "metadata": {},
   "source": [
    "Die numerische Lösung erfolgt analog zu der in Teilaufgabe c). Es ist wichtig, korrekte Intervalle zu schätzen und vorzugeben, da das Brentq-Verfahren nur eine Nullstelle findet und einen Vorzeichenwechsel im Intervall voraussetzt. Mit der Angabe der FWHM ist die Aufgabe gelöst."
   ]
  },
  {
   "cell_type": "markdown",
   "metadata": {},
   "source": [
    "## Teilaufgabe e)\n",
    "Zuletzt ist noch die Standardabweichung der Geschwindigkeit $\\sigma_v$ zu bestimmen. Diese wird über den allseit bekannten Zusammenhang bestimmt, dass die Standardabweichung die Wurzel der Varianz $\\sigma_v^2$ ist. Es wird die Formel $\\sigma_v^2 = \\int_0^\\infty \\mathrm{d}v \\, (v-\\langle v \\rangle)^2\\, f(v)$ verwendet, um die Varianz zu bestimmen. Es folgt dann\n",
    "$$\n",
    "\\begin{align}\n",
    "    \\frac{\\sqrt{\\pi} \\sigma_v^2}{4} &= \\frac{1}{v_m^3} \\int_0^\\infty \\mathrm{d}v \\, (v-\\langle v \\rangle)^2\\, v^2 \\, \\exp(-(v/v_m)^2) \\iff \\\\\n",
    "    \\frac{\\sqrt{\\pi} \\sigma_v^2}{4} v_m^3 &= v_m^5 \\int_0^\\infty \\mathrm{d}u \\, u^4 \\exp(-u^2) - 2 \\langle v \\rangle v_m^4 \\int_0^\\infty \\mathrm{d}u \\, u^3 \\exp(-u^2) + v_m^3 \\langle v \\rangle ^2\\int_0^\\infty \\mathrm{d}u \\, u^2 \\exp(-u^2) \\iff \\\\\n",
    "    \\frac{\\sqrt{\\pi} \\sigma_v^2}{4} v_m^3 &= \\frac{3 \\sqrt{\\pi}}{8} - \\frac{2}{\\pi} + \\frac{\\sqrt{\\pi}}{4} \\frac{4}{\\pi} \\iff \\\\\n",
    "    \\sigma_v^2 &= \\frac{v_m}{\\pi}  (3\\pi/2 - 4) \\iff\n",
    "    \\sigma_v = \\frac{v_m}{\\sqrt{\\pi}} \\sqrt{3\\pi/2 - 4}\\,.\n",
    "\\end{align}\n",
    "$$"
   ]
  }
 ],
 "metadata": {
  "kernelspec": {
   "display_name": "Python 3",
   "language": "python",
   "name": "python3"
  },
  "language_info": {
   "codemirror_mode": {
    "name": "ipython",
    "version": 3
   },
   "file_extension": ".py",
   "mimetype": "text/x-python",
   "name": "python",
   "nbconvert_exporter": "python",
   "pygments_lexer": "ipython3",
   "version": "3.6.1"
  }
 },
 "nbformat": 4,
 "nbformat_minor": 2
}
