{
 "cells": [
  {
   "cell_type": "markdown",
   "metadata": {},
   "source": [
    "# Aufgabe 9\n",
    "## Aufgabenteil a)\n",
    "\n",
    "Bei einer gaußförmigen Schrittvorschlags-PDF handelt es sich um eine symmetrische Schrittvorschalgs-PDF, für welche \n",
    "gilt:\n",
    "\n",
    "$ g\\left(x_j|x_i\\right) = g\\left(x_i|x_j\\right)$\n",
    "\n",
    "Für die Übergangswahrscheinlichkeit des Metropolis-Hastings-Algorithmus\n",
    "\n",
    "$ M_{i\\rightarrow j} = min\\left(1, \\frac{f\\left(x_j\\right)}{f\\left(x_i\\right)}\\frac{g\\left(x_j|x_i\\right)}{g\\left(x_i|x_j\\right)}\\right)$\n",
    "\n",
    "ergibt sich folglich die Übergangswahrscheinlichkeit des Metropolis-Algorithmus\n",
    "\n",
    "$ M_{i\\rightarrow j} = min\\left(1, \\frac{f\\left(x_j\\right)}{f\\left(x_i\\right)}\\right)$\n",
    "\n",
    "da\n",
    "\n",
    "$ \\frac{g\\left(x_j|x_i\\right)}{g\\left(x_i|x_j\\right)} = 1 $"
   ]
  },
  {
   "cell_type": "code",
   "execution_count": null,
   "metadata": {},
   "outputs": [],
   "source": [
    "import numpy as np\n",
    "import matplotlib.pyplot as plt\n"
   ]
  }
 ],
 "metadata": {
  "kernelspec": {
   "display_name": "Python 3",
   "language": "python",
   "name": "python3"
  },
  "language_info": {
   "codemirror_mode": {
    "name": "ipython",
    "version": 3
   },
   "file_extension": ".py",
   "mimetype": "text/x-python",
   "name": "python",
   "nbconvert_exporter": "python",
   "pygments_lexer": "ipython3",
   "version": "3.7.0"
  }
 },
 "nbformat": 4,
 "nbformat_minor": 2
}
