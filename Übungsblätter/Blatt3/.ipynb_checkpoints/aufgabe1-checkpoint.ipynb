{
 "cells": [
  {
   "cell_type": "code",
   "execution_count": 2,
   "metadata": {
    "collapsed": true
   },
   "outputs": [],
   "source": [
    "import numpy as np\n",
    "from scipy import optimize\n",
    "from scipy import integrate\n",
    "from numpy import random\n",
    "import matplotlib.pyplot as plt"
   ]
  },
  {
   "cell_type": "code",
   "execution_count": 3,
   "metadata": {
    "collapsed": true
   },
   "outputs": [],
   "source": [
    "def planck(x):\n",
    "    return 15/np.pi**4 * x**3/(np.exp(x)-1)\n",
    "\n",
    "\n",
    "def planckDerivative(x):\n",
    "    return 15/np.pi**4*x**2 * (3*(np.exp(x)-1)-x*np.exp(x))/(np.exp(x)-1)**2"
   ]
  },
  {
   "cell_type": "code",
   "execution_count": 4,
   "metadata": {},
   "outputs": [
    {
     "name": "stdout",
     "output_type": "stream",
     "text": [
      "2.8214393721220787\n",
      "0.218886470091\n"
     ]
    }
   ],
   "source": [
    "# Calculating the maximum of the planck distribution\n",
    "x_max = optimize.brentq(planckDerivative,0.01,10)\n",
    "y_max = planck(x_max)\n",
    "print(x_max)\n",
    "print(y_max)"
   ]
  },
  {
   "cell_type": "code",
   "execution_count": 25,
   "metadata": {
    "collapsed": true
   },
   "outputs": [],
   "source": [
    "# Defining the majorant which is used in b\n",
    "def majorant(x, x_s, y_max):\n",
    "    if x <= x_s:\n",
    "        return y_max\n",
    "    else:\n",
    "        return 200 * 15/np.pi**4 *x**(-0.1)*np.exp(-x**(0.9))\n",
    "\n",
    "\n",
    "# We minimize this function to calculate the intersection\n",
    "def intersectionFindFunction(x):\n",
    "    return y_max - 200 * 15/np.pi**4 *x**(-0.1)*np.exp(-x**(0.9))\n",
    "\n",
    "\n",
    "def CDFMajorant(x, x_s, y_max):\n",
    "    return integrate.quad(majorant, 0, x)[0]\n",
    "\n",
    "\n",
    "def inverseCDFOfMajorant(x, x_s, y_max):\n",
    "    if x <= y_max*x_s:\n",
    "        return x/y_max\n",
    "    else:\n",
    "        return (-np.log((y_max*x_s-x)/(2000/9*15/np.pi**4) + np.exp(-x_s**(9/10))))**(10/9)"
   ]
  },
  {
   "cell_type": "code",
   "execution_count": 6,
   "metadata": {},
   "outputs": [
    {
     "name": "stdout",
     "output_type": "stream",
     "text": [
      "5.678208598337557\n"
     ]
    }
   ],
   "source": [
    "# Calculating the intersection of the branches of the majorant\n",
    "x_s = optimize.brentq(intersectionFindFunction, 4, 12)\n",
    "print(x_s)"
   ]
  },
  {
   "cell_type": "code",
   "execution_count": 26,
   "metadata": {},
   "outputs": [
    {
     "data": {
      "image/png": "[encoded data removed]",
      "text/plain": [
       "<matplotlib.figure.Figure at 0x1daf4b13710>"
      ]
     },
     "metadata": {},
     "output_type": "display_data"
    }
   ],
   "source": [
    "random.seed = 42\n",
    "x_cut = 20\n",
    "sampleRejection = []\n",
    "while(len(sampleRejection) < 1000):\n",
    "    x = x_cut * random.random() # This generates a random x from 0 to 20, 20 not included\n",
    "    y = y_max * random.random()\n",
    "    if y < planck(x):\n",
    "        sampleRejection.append(x)\n",
    "\n",
    "sampleImportance = []\n",
    "while(len(sampleImportance) < 5000):\n",
    "    x = 1.53*random.random() # This generates a random x from 0 to 20, 20 not included\n",
    "    y = 1.53*random.random()\n",
    "    xStrich = inverseCDFOfMajorant(x, x_s, y_max)\n",
    "    if y < planck(xStrich)/majorant(xStrich, x_s, y_max):\n",
    "        sampleImportance.append(xStrich)\n",
    "   # sampleImportance.append(InverseCDFOfMajorant(x, x_s, y_max))\n",
    "    \n",
    "plt.hist(sampleImportance, bins=np.arange(start=0, stop=21, step=0.5), normed = True,\n",
    "         histtype='bar', label='planck hist', color='r')\n",
    "x_lin = np.linspace(0.001,20,1000)\n",
    "plt.plot(x_lin, planck(x_lin), 'b-', label='planck pdf theory')\n",
    "plt.grid()\n",
    "plt.legend()\n",
    "plt.xlabel('x')\n",
    "plt.ylabel('counts')\n",
    "plt.show()"
   ]
  },
  {
   "cell_type": "code",
   "execution_count": 8,
   "metadata": {},
   "outputs": [],
   "source": [
    "# Plotting the cdf\n",
    "#x_under = np.linspace(0.001,x_s,1000)\n",
    "#plt.plot(x_under, x_under*y_max, 'b-')\n",
    "#x_over = np.linspace(x_s,20,1000)\n",
    "#plt.plot(x_over, y_max*x_s-2000/9*15/np.pi**4*(np.exp(-x_over**(9/10))-np.exp(-x_s**(9/10))), 'b-')\n",
    "#plt.plot(x_lin, CDFMajorant(x_lin, x_s, y_max))\n",
    "#plt.grid()\n",
    "#plt.xlabel('x')\n",
    "#plt.ylabel('counts')\n",
    "#plt.show()"
   ]
  },
  {
   "cell_type": "code",
   "execution_count": null,
   "metadata": {
    "collapsed": true
   },
   "outputs": [],
   "source": []
  }
 ],
 "metadata": {
  "kernelspec": {
   "display_name": "Python 3",
   "language": "python",
   "name": "python3"
  },
  "language_info": {
   "codemirror_mode": {
    "name": "ipython",
    "version": 3
   },
   "file_extension": ".py",
   "mimetype": "text/x-python",
   "name": "python",
   "nbconvert_exporter": "python",
   "pygments_lexer": "ipython3",
   "version": "3.6.1"
  }
 },
 "nbformat": 4,
 "nbformat_minor": 2
}
