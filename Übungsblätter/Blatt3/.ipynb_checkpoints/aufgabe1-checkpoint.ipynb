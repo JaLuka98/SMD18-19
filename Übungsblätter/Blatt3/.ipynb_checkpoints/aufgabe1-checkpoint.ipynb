{
 "cells": [
  {
   "cell_type": "code",
   "execution_count": 110,
   "metadata": {
    "collapsed": true
   },
   "outputs": [],
   "source": [
    "import numpy as np\n",
    "from scipy import optimize\n",
    "from scipy import integrate\n",
    "from numpy import random\n",
    "import matplotlib.pyplot as plt"
   ]
  },
  {
   "cell_type": "code",
   "execution_count": 111,
   "metadata": {
    "collapsed": true
   },
   "outputs": [],
   "source": [
    "def planck(x):\n",
    "    return 15/np.pi**4 * x**3/(np.exp(x)-1)\n",
    "\n",
    "\n",
    "def planckDerivative(x):\n",
    "    return 15/np.pi**4*x**2 * (3*(np.exp(x)-1)-x*np.exp(x))/(np.exp(x)-1)**2"
   ]
  },
  {
   "cell_type": "code",
   "execution_count": 112,
   "metadata": {},
   "outputs": [
    {
     "name": "stdout",
     "output_type": "stream",
     "text": [
      "2.8214393721220787\n",
      "0.218886470091\n"
     ]
    }
   ],
   "source": [
    "# Calculating the maximum of the planck distribution\n",
    "x_max = optimize.brentq(planckDerivative,0.01,10)\n",
    "y_max = planck(x_max)\n",
    "print(x_max)\n",
    "print(y_max)"
   ]
  },
  {
   "cell_type": "code",
   "execution_count": 113,
   "metadata": {
    "collapsed": true
   },
   "outputs": [],
   "source": [
    "# Defining the majorant which is used in b\n",
    "def majorant(x, x_s, y_max):\n",
    "    if x <= x_s:\n",
    "        return y_max\n",
    "    else:\n",
    "        return 200 * 15/np.pi**4 *x**(-0.1)*np.exp(-x**(0.9))\n",
    "\n",
    "\n",
    "# We minimize this function to calculate the intersection\n",
    "def intersectionFindFunction(x):\n",
    "    return y_max - 200 * 15/np.pi**4 *x**(-0.1)*np.exp(-x**(0.9))\n",
    "\n",
    "\n",
    "def CDFMajorant(x, x_s, y_max):\n",
    "    return integrate.quad(majorant, 0, x)[0]\n",
    "\n",
    "\n",
    "def inverseCDFOfMajorant(x, x_s, y_max):\n",
    "    if x <= x_s:\n",
    "        return x/y_max\n",
    "    else:\n",
    "        return (-np.log((y_max*x_s-x)/(2000/9*15/np.pi**4) + np.exp(-x_s**(9/10))))**(10/9)"
   ]
  },
  {
   "cell_type": "code",
   "execution_count": 114,
   "metadata": {},
   "outputs": [
    {
     "name": "stdout",
     "output_type": "stream",
     "text": [
      "5.678208598337557\n"
     ]
    }
   ],
   "source": [
    "# Calculating the intersection of the branches of the majorant\n",
    "x_s = optimize.brentq(intersectionFindFunction, 4, 12)\n",
    "print(x_s)"
   ]
  },
  {
   "cell_type": "code",
   "execution_count": 115,
   "metadata": {},
   "outputs": [
    {
     "name": "stderr",
     "output_type": "stream",
     "text": [
      "C:\\Users\\jlspa\\Anaconda3\\lib\\site-packages\\ipykernel_launcher.py:22: RuntimeWarning: invalid value encountered in log\n"
     ]
    },
    {
     "data": {
      "image/png": "[encoded data removed]",
      "text/plain": [
       "<matplotlib.figure.Figure at 0x256521ff1d0>"
      ]
     },
     "metadata": {},
     "output_type": "display_data"
    }
   ],
   "source": [
    "random.seed = 42\n",
    "x_cut = 20\n",
    "sampleRejection = []\n",
    "while(len(sampleRejection) < 1):\n",
    "    x = x_cut * random.random() # This generates a random x from 0 to 20, 20 not included\n",
    "    y = y_max * random.random()\n",
    "    if y < planck(x):\n",
    "        sampleRejection.append(x)\n",
    "\n",
    "sampleImportance = []\n",
    "while(len(sampleImportance) < 50):\n",
    "    x = x_cut * random.random() # This generates a random x from 0 to 20, 20 not included\n",
    "    y = random.random()\n",
    "    xStrich = inverseCDFOfMajorant(x, x_s, y_max)\n",
    "    if y < planck(xStrich)/majorant(xStrich, x_s, y_max):\n",
    "        sampleImportance.append(xStrich)\n",
    "   # sampleImportance.append(InverseCDFOfMajorant(x, x_s, y_max))\n",
    "    \n",
    "plt.hist(sampleImportance, bins=np.arange(start=0, stop=21, step=0.5), normed = True,\n",
    "         histtype='bar', label='planck hist', color='r')\n",
    "x_lin = np.linspace(0.001,20,1000)\n",
    "plt.plot(x_lin, planck(x_lin), 'b-', label='planck pdf theory')\n",
    "plt.grid()\n",
    "plt.legend()\n",
    "plt.xlabel('x')\n",
    "plt.ylabel('counts')\n",
    "plt.show()"
   ]
  },
  {
   "cell_type": "code",
   "execution_count": 117,
   "metadata": {},
   "outputs": [
    {
     "ename": "ValueError",
     "evalue": "The truth value of an array with more than one element is ambiguous. Use a.any() or a.all()",
     "output_type": "error",
     "traceback": [
      "\u001b[1;31m---------------------------------------------------------------------------\u001b[0m",
      "\u001b[1;31mValueError\u001b[0m                                Traceback (most recent call last)",
      "\u001b[1;32m<ipython-input-117-619f06310e44>\u001b[0m in \u001b[0;36m<module>\u001b[1;34m()\u001b[0m\n\u001b[0;32m      4\u001b[0m \u001b[1;31m#x_over = np.linspace(x_s,20,1000)\u001b[0m\u001b[1;33m\u001b[0m\u001b[1;33m\u001b[0m\u001b[0m\n\u001b[0;32m      5\u001b[0m \u001b[1;31m#plt.plot(x_over, y_max*x_s-2000/9*15/np.pi**4*(np.exp(-x_over**(9/10))-np.exp(-x_s**(9/10))), 'b-')\u001b[0m\u001b[1;33m\u001b[0m\u001b[1;33m\u001b[0m\u001b[0m\n\u001b[1;32m----> 6\u001b[1;33m \u001b[0mplt\u001b[0m\u001b[1;33m.\u001b[0m\u001b[0mplot\u001b[0m\u001b[1;33m(\u001b[0m\u001b[0mx_lin\u001b[0m\u001b[1;33m,\u001b[0m \u001b[0mCDFMajorant\u001b[0m\u001b[1;33m(\u001b[0m\u001b[0mx_lin\u001b[0m\u001b[1;33m,\u001b[0m \u001b[0mx_s\u001b[0m\u001b[1;33m,\u001b[0m \u001b[0my_max\u001b[0m\u001b[1;33m)\u001b[0m\u001b[1;33m)\u001b[0m\u001b[1;33m\u001b[0m\u001b[0m\n\u001b[0m\u001b[0;32m      7\u001b[0m \u001b[0mplt\u001b[0m\u001b[1;33m.\u001b[0m\u001b[0mgrid\u001b[0m\u001b[1;33m(\u001b[0m\u001b[1;33m)\u001b[0m\u001b[1;33m\u001b[0m\u001b[0m\n\u001b[0;32m      8\u001b[0m \u001b[0mplt\u001b[0m\u001b[1;33m.\u001b[0m\u001b[0mxlabel\u001b[0m\u001b[1;33m(\u001b[0m\u001b[1;34m'x'\u001b[0m\u001b[1;33m)\u001b[0m\u001b[1;33m\u001b[0m\u001b[0m\n",
      "\u001b[1;32m<ipython-input-113-8d84ab4625b7>\u001b[0m in \u001b[0;36mCDFMajorant\u001b[1;34m(x, x_s, y_max)\u001b[0m\n\u001b[0;32m     13\u001b[0m \u001b[1;33m\u001b[0m\u001b[0m\n\u001b[0;32m     14\u001b[0m \u001b[1;32mdef\u001b[0m \u001b[0mCDFMajorant\u001b[0m\u001b[1;33m(\u001b[0m\u001b[0mx\u001b[0m\u001b[1;33m,\u001b[0m \u001b[0mx_s\u001b[0m\u001b[1;33m,\u001b[0m \u001b[0my_max\u001b[0m\u001b[1;33m)\u001b[0m\u001b[1;33m:\u001b[0m\u001b[1;33m\u001b[0m\u001b[0m\n\u001b[1;32m---> 15\u001b[1;33m     \u001b[1;32mreturn\u001b[0m \u001b[0mintegrate\u001b[0m\u001b[1;33m.\u001b[0m\u001b[0mquad\u001b[0m\u001b[1;33m(\u001b[0m\u001b[0mmajorant\u001b[0m\u001b[1;33m,\u001b[0m \u001b[1;36m0\u001b[0m\u001b[1;33m,\u001b[0m \u001b[0mx\u001b[0m\u001b[1;33m)\u001b[0m\u001b[1;33m[\u001b[0m\u001b[1;36m0\u001b[0m\u001b[1;33m]\u001b[0m\u001b[1;33m\u001b[0m\u001b[0m\n\u001b[0m\u001b[0;32m     16\u001b[0m \u001b[1;33m\u001b[0m\u001b[0m\n\u001b[0;32m     17\u001b[0m \u001b[1;33m\u001b[0m\u001b[0m\n",
      "\u001b[1;32mC:\\Users\\jlspa\\Anaconda3\\lib\\site-packages\\scipy\\integrate\\quadpack.py\u001b[0m in \u001b[0;36mquad\u001b[1;34m(func, a, b, args, full_output, epsabs, epsrel, limit, points, weight, wvar, wopts, maxp1, limlst)\u001b[0m\n\u001b[0;32m    321\u001b[0m     \u001b[1;32mif\u001b[0m \u001b[1;33m(\u001b[0m\u001b[0mweight\u001b[0m \u001b[1;32mis\u001b[0m \u001b[1;32mNone\u001b[0m\u001b[1;33m)\u001b[0m\u001b[1;33m:\u001b[0m\u001b[1;33m\u001b[0m\u001b[0m\n\u001b[0;32m    322\u001b[0m         retval = _quad(func, a, b, args, full_output, epsabs, epsrel, limit,\n\u001b[1;32m--> 323\u001b[1;33m                        points)\n\u001b[0m\u001b[0;32m    324\u001b[0m     \u001b[1;32melse\u001b[0m\u001b[1;33m:\u001b[0m\u001b[1;33m\u001b[0m\u001b[0m\n\u001b[0;32m    325\u001b[0m         retval = _quad_weight(func, a, b, args, full_output, epsabs, epsrel,\n",
      "\u001b[1;32mC:\\Users\\jlspa\\Anaconda3\\lib\\site-packages\\scipy\\integrate\\quadpack.py\u001b[0m in \u001b[0;36m_quad\u001b[1;34m(func, a, b, args, full_output, epsabs, epsrel, limit, points)\u001b[0m\n\u001b[0;32m    370\u001b[0m \u001b[1;32mdef\u001b[0m \u001b[0m_quad\u001b[0m\u001b[1;33m(\u001b[0m\u001b[0mfunc\u001b[0m\u001b[1;33m,\u001b[0m\u001b[0ma\u001b[0m\u001b[1;33m,\u001b[0m\u001b[0mb\u001b[0m\u001b[1;33m,\u001b[0m\u001b[0margs\u001b[0m\u001b[1;33m,\u001b[0m\u001b[0mfull_output\u001b[0m\u001b[1;33m,\u001b[0m\u001b[0mepsabs\u001b[0m\u001b[1;33m,\u001b[0m\u001b[0mepsrel\u001b[0m\u001b[1;33m,\u001b[0m\u001b[0mlimit\u001b[0m\u001b[1;33m,\u001b[0m\u001b[0mpoints\u001b[0m\u001b[1;33m)\u001b[0m\u001b[1;33m:\u001b[0m\u001b[1;33m\u001b[0m\u001b[0m\n\u001b[0;32m    371\u001b[0m     \u001b[0minfbounds\u001b[0m \u001b[1;33m=\u001b[0m \u001b[1;36m0\u001b[0m\u001b[1;33m\u001b[0m\u001b[0m\n\u001b[1;32m--> 372\u001b[1;33m     \u001b[1;32mif\u001b[0m \u001b[1;33m(\u001b[0m\u001b[0mb\u001b[0m \u001b[1;33m!=\u001b[0m \u001b[0mInf\u001b[0m \u001b[1;32mand\u001b[0m \u001b[0ma\u001b[0m \u001b[1;33m!=\u001b[0m \u001b[1;33m-\u001b[0m\u001b[0mInf\u001b[0m\u001b[1;33m)\u001b[0m\u001b[1;33m:\u001b[0m\u001b[1;33m\u001b[0m\u001b[0m\n\u001b[0m\u001b[0;32m    373\u001b[0m         \u001b[1;32mpass\u001b[0m   \u001b[1;31m# standard integration\u001b[0m\u001b[1;33m\u001b[0m\u001b[0m\n\u001b[0;32m    374\u001b[0m     \u001b[1;32melif\u001b[0m \u001b[1;33m(\u001b[0m\u001b[0mb\u001b[0m \u001b[1;33m==\u001b[0m \u001b[0mInf\u001b[0m \u001b[1;32mand\u001b[0m \u001b[0ma\u001b[0m \u001b[1;33m!=\u001b[0m \u001b[1;33m-\u001b[0m\u001b[0mInf\u001b[0m\u001b[1;33m)\u001b[0m\u001b[1;33m:\u001b[0m\u001b[1;33m\u001b[0m\u001b[0m\n",
      "\u001b[1;31mValueError\u001b[0m: The truth value of an array with more than one element is ambiguous. Use a.any() or a.all()"
     ]
    }
   ],
   "source": [
    "# Plotting the cdf\n",
    "#x_under = np.linspace(0.001,x_s,1000)\n",
    "#plt.plot(x_under, x_under*y_max, 'b-')\n",
    "#x_over = np.linspace(x_s,20,1000)\n",
    "#plt.plot(x_over, y_max*x_s-2000/9*15/np.pi**4*(np.exp(-x_over**(9/10))-np.exp(-x_s**(9/10))), 'b-')\n",
    "#plt.plot(x_lin, CDFMajorant(x_lin, x_s, y_max))\n",
    "#plt.grid()\n",
    "#plt.xlabel('x')\n",
    "#plt.ylabel('counts')\n",
    "#plt.show()"
   ]
  },
  {
   "cell_type": "code",
   "execution_count": null,
   "metadata": {
    "collapsed": true
   },
   "outputs": [],
   "source": []
  }
 ],
 "metadata": {
  "kernelspec": {
   "display_name": "Python 3",
   "language": "python",
   "name": "python3"
  },
  "language_info": {
   "codemirror_mode": {
    "name": "ipython",
    "version": 3
   },
   "file_extension": ".py",
   "mimetype": "text/x-python",
   "name": "python",
   "nbconvert_exporter": "python",
   "pygments_lexer": "ipython3",
   "version": "3.6.1"
  }
 },
 "nbformat": 4,
 "nbformat_minor": 2
}
