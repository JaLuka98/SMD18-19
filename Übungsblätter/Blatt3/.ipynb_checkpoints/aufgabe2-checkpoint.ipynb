{
 "cells": [
  {
   "cell_type": "markdown",
   "metadata": {},
   "source": [
    "# Aufgabe 9\n",
    "## Aufgabenteil a)\n",
    "\n",
    "Bei einer gaußförmigen Schrittvorschlags-PDF handelt es sich um eine symmetrische Schrittvorschalgs-PDF, für welche \n",
    "gilt:\n",
    "\n",
    "$ g\\left(x_j|x_i\\right) = g\\left(x_i|x_j\\right)$\n",
    "\n",
    "Für die Übergangswahrscheinlichkeit des Metropolis-Hastings-Algorithmus\n",
    "\n",
    "$ M_{i\\rightarrow j} = min\\left(1, \\frac{f\\left(x_j\\right)}{f\\left(x_i\\right)}\\frac{g\\left(x_j|x_i\\right)}{g\\left(x_i|x_j\\right)}\\right)$\n",
    "\n",
    "ergibt sich folglich die Übergangswahrscheinlichkeit des Metropolis-Algorithmus\n",
    "\n",
    "$ M_{i\\rightarrow j} = min\\left(1, \\frac{f\\left(x_j\\right)}{f\\left(x_i\\right)}\\right)$\n",
    "\n",
    "da\n",
    "\n",
    "$ \\frac{g\\left(x_j|x_i\\right)}{g\\left(x_i|x_j\\right)} = 1 $"
   ]
  },
  {
   "cell_type": "code",
   "execution_count": 2,
   "metadata": {},
   "outputs": [
    {
     "data": {
      "image/png": "[encoded data removed]",
      "text/plain": [
       "<Figure size 432x288 with 1 Axes>"
      ]
     },
     "metadata": {
      "needs_background": "light"
     },
     "output_type": "display_data"
    }
   ],
   "source": [
    "import numpy as np\n",
    "import matplotlib.pyplot as plt\n",
    "import random\n",
    "\n",
    "\n",
    "def target(x):\n",
    "    if x<=0:\n",
    "        return 0\n",
    "    else:\n",
    "        return 15/np.pi**4 * x**3/(np.exp(x)-1)\n",
    "\n",
    "x = []\n",
    "x_0 = 30\n",
    "step_size = 2\n",
    "n = 10 #Menge an Zufallzahlen\n",
    "x.append(x_0) #Startwert\n",
    "\n",
    "i=0\n",
    "while i<n:\n",
    "    currentx = x[i]\n",
    "    proposedx = currentx + random.choice([1, -1])*step_size #habe ich das mit der stepsize richtig verstanden...?\n",
    "    A = target(proposedx)/target(currentx)\n",
    "    \n",
    "    if(1<A): #Hier fehlt befehl für Zufallszahl zwischen 0 und 1\n",
    "        x.append(proposedx)       \n",
    "    else:\n",
    "        x.append(currentx)\n",
    "        \n",
    "    plt.plot(i, x[i], 'k.')\n",
    "    i+=1\n",
    "\n",
    "plt.show()"
   ]
  }
 ],
 "metadata": {
  "kernelspec": {
   "display_name": "Python 3",
   "language": "python",
   "name": "python3"
  },
  "language_info": {
   "codemirror_mode": {
    "name": "ipython",
    "version": 3
   },
   "file_extension": ".py",
   "mimetype": "text/x-python",
   "name": "python",
   "nbconvert_exporter": "python",
   "pygments_lexer": "ipython3",
   "version": "3.7.0"
  }
 },
 "nbformat": 4,
 "nbformat_minor": 2
}
