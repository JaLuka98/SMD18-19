{
 "cells": [
  {
   "cell_type": "markdown",
   "metadata": {},
   "source": [
    "# Aufgabe 1\n",
    "In dieser Aufgabe geht es darum, Zufallszahlen, die der Planck-Verteilung folgen sollen, (effizient) zu generieren. Zunächst werden einige Dinge berechnet..."
   ]
  },
  {
   "cell_type": "code",
   "execution_count": 32,
   "metadata": {
    "collapsed": true
   },
   "outputs": [],
   "source": [
    "import numpy as np\n",
    "from scipy import optimize\n",
    "from scipy import integrate\n",
    "from numpy import random\n",
    "import matplotlib.pyplot as plt\n",
    "import timeit"
   ]
  },
  {
   "cell_type": "code",
   "execution_count": 33,
   "metadata": {
    "collapsed": true
   },
   "outputs": [],
   "source": [
    "def planck(x):\n",
    "    return 15/np.pi**4 * x**3/(np.exp(x)-1)\n",
    "\n",
    "\n",
    "def planckDerivative(x):\n",
    "    return 15/np.pi**4*x**2 * (3*(np.exp(x)-1)-x*np.exp(x))/(np.exp(x)-1)**2"
   ]
  },
  {
   "cell_type": "code",
   "execution_count": 34,
   "metadata": {},
   "outputs": [
    {
     "name": "stdout",
     "output_type": "stream",
     "text": [
      "2.8214393721220787\n",
      "0.218886470091\n"
     ]
    }
   ],
   "source": [
    "# Calculating the maximum of the planck distribution\n",
    "x_max = optimize.brentq(planckDerivative,0.01,10)\n",
    "y_max = planck(x_max)\n",
    "print(x_max)\n",
    "print(y_max)"
   ]
  },
  {
   "cell_type": "code",
   "execution_count": 35,
   "metadata": {
    "collapsed": true
   },
   "outputs": [],
   "source": [
    "# Defining the majorant which is used for the importance sampling\n",
    "def majorant(x, x_s, y_max):\n",
    "    if x <= x_s:\n",
    "        return y_max\n",
    "    else:\n",
    "        return 200 * 15/np.pi**4 *x**(-0.1)*np.exp(-x**(0.9))\n",
    "\n",
    "\n",
    "# We minimize this function to calculate the intersection\n",
    "def intersectionFindFunction(x):\n",
    "    return y_max - 200 * 15/np.pi**4 *x**(-0.1)*np.exp(-x**(0.9))\n",
    "\n",
    "\n",
    "def inverseCDFOfMajorant(x, x_s, y_max):\n",
    "    if x <= y_max*x_s: # This is very important and results from the inversion of the CDF\n",
    "        return x/y_max\n",
    "    else:\n",
    "        return (-np.log((y_max*x_s-x)/(2000/9*15/np.pi**4) + np.exp(-x_s**(9/10))))**(10/9)"
   ]
  },
  {
   "cell_type": "code",
   "execution_count": 36,
   "metadata": {},
   "outputs": [
    {
     "name": "stdout",
     "output_type": "stream",
     "text": [
      "5.678208598337557\n"
     ]
    }
   ],
   "source": [
    "# Calculating the intersection of the branches of the majorant\n",
    "x_s = optimize.brentq(intersectionFindFunction, 4, 12)\n",
    "print(x_s)"
   ]
  },
  {
   "cell_type": "markdown",
   "metadata": {},
   "source": [
    "## Teilaufgaben a) und b)\n",
    "Hier werden zwei Sample, die planck-verteilt sind, generiert. Dabei wird zum Einen das Rejection Sampling und zum Anderen das Importance Sampling genutzt. Dazu werden die Algorithmen zunächst in Funktionen definiert und in einem Hauptteil dann ein Mal ausgeführt, um die Samples zu generieren."
   ]
  },
  {
   "cell_type": "code",
   "execution_count": 37,
   "metadata": {
    "collapsed": true
   },
   "outputs": [],
   "source": [
    "def RejectionSampling(sampleRejection, x_cut, y_max):\n",
    "    counter = 0 # this variable counts the amount of rejected proposals\n",
    "    while(len(sampleRejection) < 1e5): # < and not <= because arrays start at 0 in python\n",
    "        x = x_cut * random.random() # This generates a random x from 0 to x_cut, x_cut not included\n",
    "        y = y_max * random.random()\n",
    "        if y < planck(x):\n",
    "            sampleRejection.append(x)\n",
    "        else:\n",
    "            counter += 1 # we add 1 here because the x we generated is rejected\n",
    "    return sampleRejection, counter\n",
    "\n",
    "def ImportanceSampling(sampleImportance, x_cut, y_max, inverseMax):\n",
    "    counter = 0 \n",
    "    while(len(sampleImportance) < 1e5):\n",
    "        x = inverseMax*random.random() # This generates a random x from 0 to 1.53\n",
    "        y = random.random()\n",
    "        xStrich = inverseCDFOfMajorant(x, x_s, y_max)\n",
    "        if y < planck(xStrich)/majorant(xStrich, x_s, y_max):\n",
    "            sampleImportance.append(xStrich)\n",
    "        else:\n",
    "            counter += 1\n",
    "    return sampleImportance, counter"
   ]
  },
  {
   "cell_type": "code",
   "execution_count": 38,
   "metadata": {
    "collapsed": true
   },
   "outputs": [],
   "source": [
    "random.seed = 42\n",
    "x_cut = 20\n",
    "\n",
    "sampleRejection = []\n",
    "sampleRejection, counter1 = RejectionSampling(sampleRejection, x_cut, y_max)\n",
    "\n",
    "sampleImportance = []\n",
    "inverseMax = y_max * x_s - 2000/9 * 15/np.pi**4 * (np.exp(-1000**(0.9))-np.exp(-x_s**(0.9)))\n",
    "# inverseMax is the limit of the cdf of the majorant as x tends to infty.\n",
    "# It is used in the generation of our x because the majorant cant be a proper pdf.\n",
    "# This is because it is always greater or equal than a normalized pdf. We hope this is at least somewhat correct...\n",
    "sampleImportance, counter2 = ImportanceSampling(sampleImportance, x_cut, y_max, inverseMax)"
   ]
  },
  {
   "cell_type": "markdown",
   "metadata": {},
   "source": [
    "## Teilaufgabe c)\n",
    "Zunächst werden die generierten Samples histogrammiert geplottet und mit der Theorie-PDF verglichen. Es ist eine gute Übereinstimmung ersichtlich."
   ]
  },
  {
   "cell_type": "code",
   "execution_count": 39,
   "metadata": {},
   "outputs": [
    {
     "data": {
      "image/png": "[encoded data removed]",
      "text/plain": [
       "<matplotlib.figure.Figure at 0x17e0b2e9e80>"
      ]
     },
     "metadata": {},
     "output_type": "display_data"
    }
   ],
   "source": [
    "x_lin = np.linspace(0.001,20,1000) # we start at 0.001 (very close to zero and noticeable in the plot)\n",
    "# because we want to avoid that python is unable to assign truths values elementwise.\n",
    "plt.subplot(1,2,1)\n",
    "plt.title('Rejection Sampling')\n",
    "plt.hist(sampleRejection, bins=np.arange(start=0, stop=21, step=0.5), normed = True,\n",
    "         histtype='bar', label='planck hist', color='r')\n",
    "plt.plot(x_lin, planck(x_lin), 'b-', label='planck pdf theory')\n",
    "plt.grid()\n",
    "plt.legend()\n",
    "plt.xlabel('x')\n",
    "plt.ylabel('counts or prob. density (normalized)')\n",
    "plt.subplot(1,2,2)\n",
    "plt.title('Importance Sampling')\n",
    "plt.hist(sampleImportance, bins=np.arange(start=0, stop=21, step=0.5), normed = True,\n",
    "         histtype='bar', label='planck hist', color='r')\n",
    "plt.plot(x_lin, planck(x_lin), 'b-', label='planck pdf theory')\n",
    "plt.grid()\n",
    "plt.legend()\n",
    "plt.xlabel('x')\n",
    "plt.ylabel('counts or prob. density (normalized)')\n",
    "plt.tight_layout()\n",
    "plt.show()"
   ]
  },
  {
   "cell_type": "markdown",
   "metadata": {},
   "source": [
    "Nun wird noch die Laufzeit mithilfe des timeit-Moduls aus Python geprüft. Dafür wird 20 Mal ein Sample mit beiden Methoden generiert und die kürzeste Zeit ausgegeben, um eine ungefähre untere Grenze für die Laufzeit auszugeben. Eine Mittelwertbildung oder Ähnliches ist nicht sinnvoll, da die Laufzeit auch von Hintergrundprozessen und anderen Anwendungen auf dem ausführenden Computer beeinflusst wird. Danach werden die durchschnittlich zusätzlich erzeugten Zufallszahlen angezeigt, diese werden hier durch Mittelung über 20 Runs erhalten. Dabei interpretieren wir die zusätzlich erzeugten y, die nur zum konkreten Realisieren der Annahmewahrscheinlichkeit generiert werden, nicht als verworfene Zufallszahl, sodass nur die x-Werte gezählt werden, die nicht angenommen werden.\n",
    "Klar zu erkennen ist, dass das Importance Sampling bei der Planck-Verteilung mit einem Cut von 20 dem Rejection Sampling in beiden Aspekten überlegen ist. Das entspricht den Erwartungen, da beim Rejection Sampling eine hohe Fläche über der niedrigen Verteilung für hohe x liegt, wo natürlich trotzdem Punkte auftauchen, die aber so gut wie nie angenommen werden können. Das wird mit der Majorante besser gemacht.\n",
    "Anmerkung: Die Anzahl der Runs kann im Code problemlos angepasst werden. Sie kann erhöht werden, falls eine höhere Genauigkeit erwünscht ist oder verringert werden, damit das Programm schneller terminiert."
   ]
  },
  {
   "cell_type": "code",
   "execution_count": 40,
   "metadata": {},
   "outputs": [
    {
     "name": "stdout",
     "output_type": "stream",
     "text": [
      "The minimal time elapsed for sampling 1e5 random numbers through rejection sampling in 20 tries is 5.891680499134054 seconds.\n",
      "The minimal time elapsed for sampling 1e5 random numbers through importance sampling in 20 tries is 3.0963671004165008 seconds.\n"
     ]
    }
   ],
   "source": [
    "# Testing the runtime of the two methods through timeit\n",
    "# Only the minimal runtime is displayed which can be interpreted as the lowest possible time on the operating computer\n",
    "SETUP_CODE = '''\n",
    "import numpy as np\n",
    "from scipy import optimize\n",
    "from scipy import integrate\n",
    "from numpy import random\n",
    "import matplotlib.pyplot as plt\n",
    "import timeit\n",
    "from __main__ import RejectionSampling\n",
    "'''\n",
    "\n",
    "TEST_CODE = ''' \n",
    "sampleRejection = []\n",
    "sampleRejection = RejectionSampling(sampleRejection, x_cut = 20, y_max = 0.218886470091)\n",
    "'''\n",
    "      \n",
    "times = timeit.repeat(setup = SETUP_CODE, stmt = TEST_CODE, repeat = 1, number = 1)\n",
    "print('The minimal time elapsed for sampling 1e5 random numbers through rejection sampling in 20 tries is',\n",
    "      min(times), 'seconds.')\n",
    "\n",
    "SETUP_CODE = '''\n",
    "import numpy as np\n",
    "from scipy import optimize\n",
    "from scipy import integrate\n",
    "from numpy import random\n",
    "import matplotlib.pyplot as plt\n",
    "import timeit\n",
    "from __main__ import ImportanceSampling\n",
    "y_max = 0.218886470091\n",
    "x_s = 5.678208598337557\n",
    "inverseMax = y_max * x_s - 2000/9 * 15/np.pi**4 * (np.exp(-1000**(0.9))-np.exp(-x_s**(0.9)))\n",
    "'''\n",
    "\n",
    "TEST_CODE = '''\n",
    "sampleImportance = []\n",
    "sampleImportance = ImportanceSampling(sampleImportance, 20, 0.218886470091, inverseMax)\n",
    "'''\n",
    "      \n",
    "times = timeit.repeat(setup = SETUP_CODE, stmt = TEST_CODE, repeat = 1, number = 1)\n",
    "print('The minimal time elapsed for sampling 1e5 random numbers through importance sampling in 20 tries is',\n",
    "      min(times), 'seconds.')"
   ]
  },
  {
   "cell_type": "code",
   "execution_count": 41,
   "metadata": {},
   "outputs": [
    {
     "name": "stdout",
     "output_type": "stream",
     "text": [
      "The average amount of discarded random numbers to sample 1e5 numbers through rejection sampling in 20 tries is 338403.9\n",
      "The average amount of discarded random numbers to sample 1e5 numbers through Importance sampling in 20 tries is 53283.15\n"
     ]
    }
   ],
   "source": [
    "# Estimating the amount of discarded random numbers for the two methods\n",
    "counterarray = []\n",
    "for i in range(0,20):\n",
    "    sampleRejection = []\n",
    "    _, counter1 = RejectionSampling(sampleRejection, x_cut, y_max)\n",
    "    counterarray.append(counter1)\n",
    "counterarray = np.asarray(counterarray)\n",
    "print('The average amount of discarded random numbers to sample 1e5 numbers through rejection sampling in 20 tries is',\n",
    "      np.mean(counterarray))\n",
    "\n",
    "counterarray = []\n",
    "for i in range(0,20):\n",
    "    sampleImportance = []\n",
    "    _, counter2 = ImportanceSampling(sampleImportance, x_cut, y_max, inverseMax)\n",
    "    counterarray.append(counter2)\n",
    "counterarray = np.asarray(counterarray)\n",
    "print('The average amount of discarded random numbers to sample 1e5 numbers through Importance sampling in 20 tries is',\n",
    "      np.mean(counterarray))"
   ]
  }
 ],
 "metadata": {
  "kernelspec": {
   "display_name": "Python 3",
   "language": "python",
   "name": "python3"
  },
  "language_info": {
   "codemirror_mode": {
    "name": "ipython",
    "version": 3
   },
   "file_extension": ".py",
   "mimetype": "text/x-python",
   "name": "python",
   "nbconvert_exporter": "python",
   "pygments_lexer": "ipython3",
   "version": "3.6.1"
  }
 },
 "nbformat": 4,
 "nbformat_minor": 2
}
