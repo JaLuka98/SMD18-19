{
 "cells": [
  {
   "cell_type": "code",
   "execution_count": 79,
   "metadata": {
    "collapsed": true
   },
   "outputs": [],
   "source": [
    "import numpy as np\n",
    "from scipy import optimize\n",
    "from numpy import random\n",
    "import matplotlib.pyplot as plt"
   ]
  },
  {
   "cell_type": "code",
   "execution_count": 80,
   "metadata": {
    "collapsed": true
   },
   "outputs": [],
   "source": [
    "def planck(x):\n",
    "    return 15/np.pi**4 * x**3/(np.exp(x)-1)\n",
    "\n",
    "\n",
    "def planckDerivative(x):\n",
    "    return 15/np.pi**4*x**2 * (3*(np.exp(x)-1)-x*np.exp(x))/(np.exp(x)-1)**2"
   ]
  },
  {
   "cell_type": "code",
   "execution_count": 81,
   "metadata": {},
   "outputs": [
    {
     "name": "stdout",
     "output_type": "stream",
     "text": [
      "2.8214393721220787\n",
      "0.218886470091\n"
     ]
    }
   ],
   "source": [
    "# Calculating the maximum of the planck distribution\n",
    "x_max = optimize.brentq(planckDerivative,0.01,10)\n",
    "y_max = planck(x_max)\n",
    "print(x_max)\n",
    "print(y_max)"
   ]
  },
  {
   "cell_type": "code",
   "execution_count": 86,
   "metadata": {
    "collapsed": true
   },
   "outputs": [],
   "source": [
    "# Defining the majorant which is used in b\n",
    "def majorant(x, x_s, y_max):\n",
    "    if x <= x_s:\n",
    "        return y_max\n",
    "    else:\n",
    "        return 200 * 15/np.pi**4 *x**(-0.1)*np.exp(-x**(0.9))\n",
    "\n",
    "\n",
    "# We minimize this function to calculate the intersection\n",
    "def intersectionFindFunction(x):\n",
    "    return y_max - 200 * 15/np.pi**4 *x**(-0.1)*np.exp(-x**(0.9))"
   ]
  },
  {
   "cell_type": "code",
   "execution_count": 87,
   "metadata": {},
   "outputs": [
    {
     "name": "stdout",
     "output_type": "stream",
     "text": [
      "5.678208598337557\n"
     ]
    }
   ],
   "source": [
    "# Calculating the intersection of the branches of the majorant\n",
    "x_s = optimize.brentq(intersectionFindFunction, 4, 12)\n",
    "print(x_s)"
   ]
  },
  {
   "cell_type": "code",
   "execution_count": 84,
   "metadata": {},
   "outputs": [
    {
     "data": {
      "image/png": "[encoded data removed]",
      "text/plain": [
       "<matplotlib.figure.Figure at 0x2457bd3bf60>"
      ]
     },
     "metadata": {},
     "output_type": "display_data"
    }
   ],
   "source": [
    "random.seed = 42\n",
    "x_cut = 20\n",
    "sample = []\n",
    "x_lin = np.linspace(0.001,20,1000)\n",
    "while(len(sample) < 1e5):\n",
    "    x = x_cut * random.random() # This generates a random x from 0 to 20, 20 not included\n",
    "    y = y_max * random.random()\n",
    "    if y < planck(x):\n",
    "        sample.append(x)\n",
    "plt.hist(sample, bins=np.arange(start=0, stop=21, step=0.5), normed = True,\n",
    "         histtype='bar', label='planck hist', color='r')\n",
    "plt.plot(x_lin, planck(x_lin), 'b-', label='planck pdf theory')\n",
    "plt.grid()\n",
    "plt.legend()\n",
    "plt.xlabel('x')\n",
    "plt.ylabel('counts')\n",
    "plt.show()"
   ]
  }
 ],
 "metadata": {
  "kernelspec": {
   "display_name": "Python 3",
   "language": "python",
   "name": "python3"
  },
  "language_info": {
   "codemirror_mode": {
    "name": "ipython",
    "version": 3
   },
   "file_extension": ".py",
   "mimetype": "text/x-python",
   "name": "python",
   "nbconvert_exporter": "python",
   "pygments_lexer": "ipython3",
   "version": "3.6.1"
  }
 },
 "nbformat": 4,
 "nbformat_minor": 2
}
