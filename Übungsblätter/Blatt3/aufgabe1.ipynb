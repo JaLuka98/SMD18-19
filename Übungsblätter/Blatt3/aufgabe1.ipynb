{
 "cells": [
  {
   "cell_type": "code",
   "execution_count": 30,
   "metadata": {
    "collapsed": true
   },
   "outputs": [],
   "source": [
    "import numpy as np\n",
    "from scipy import optimize\n",
    "from scipy import integrate\n",
    "from numpy import random\n",
    "import matplotlib.pyplot as plt\n",
    "import time"
   ]
  },
  {
   "cell_type": "code",
   "execution_count": 31,
   "metadata": {
    "collapsed": true
   },
   "outputs": [],
   "source": [
    "def planck(x):\n",
    "    return 15/np.pi**4 * x**3/(np.exp(x)-1)\n",
    "\n",
    "\n",
    "def planckDerivative(x):\n",
    "    return 15/np.pi**4*x**2 * (3*(np.exp(x)-1)-x*np.exp(x))/(np.exp(x)-1)**2"
   ]
  },
  {
   "cell_type": "code",
   "execution_count": 32,
   "metadata": {},
   "outputs": [
    {
     "name": "stdout",
     "output_type": "stream",
     "text": [
      "2.8214393721220787\n",
      "0.218886470091\n"
     ]
    }
   ],
   "source": [
    "# Calculating the maximum of the planck distribution\n",
    "x_max = optimize.brentq(planckDerivative,0.01,10)\n",
    "y_max = planck(x_max)\n",
    "print(x_max)\n",
    "print(y_max)"
   ]
  },
  {
   "cell_type": "code",
   "execution_count": 33,
   "metadata": {
    "collapsed": true
   },
   "outputs": [],
   "source": [
    "# Defining the majorant which is used in b\n",
    "def majorant(x, x_s, y_max):\n",
    "    if x <= x_s:\n",
    "        return y_max\n",
    "    else:\n",
    "        return 200 * 15/np.pi**4 *x**(-0.1)*np.exp(-x**(0.9))\n",
    "\n",
    "\n",
    "# We minimize this function to calculate the intersection\n",
    "def intersectionFindFunction(x):\n",
    "    return y_max - 200 * 15/np.pi**4 *x**(-0.1)*np.exp(-x**(0.9))\n",
    "\n",
    "\n",
    "def inverseCDFOfMajorant(x, x_s, y_max):\n",
    "    if x <= y_max*x_s: # This is very important and results from the inversion of the CDF\n",
    "        return x/y_max\n",
    "    else:\n",
    "        return (-np.log((y_max*x_s-x)/(2000/9*15/np.pi**4) + np.exp(-x_s**(9/10))))**(10/9)"
   ]
  },
  {
   "cell_type": "code",
   "execution_count": 34,
   "metadata": {},
   "outputs": [
    {
     "name": "stdout",
     "output_type": "stream",
     "text": [
      "5.678208598337557\n"
     ]
    }
   ],
   "source": [
    "# Calculating the intersection of the branches of the majorant\n",
    "x_s = optimize.brentq(intersectionFindFunction, 4, 12)\n",
    "print(x_s)"
   ]
  },
  {
   "cell_type": "code",
   "execution_count": 39,
   "metadata": {},
   "outputs": [
    {
     "name": "stdout",
     "output_type": "stream",
     "text": [
      "--- 4.424667835235596 seconds --- and 773950 discarded random numbers for Rejection Sampling.\n"
     ]
    },
    {
     "data": {
      "image/png": "[encoded data removed]",
      "text/plain": [
       "<matplotlib.figure.Figure at 0x18a17caa390>"
      ]
     },
     "metadata": {},
     "output_type": "display_data"
    }
   ],
   "source": [
    "random.seed = 42\n",
    "x_cut = 20\n",
    "sampleRejection = []\n",
    "counter1 = 0 # this variable counts the amount of rejected proposals\n",
    "start_time = time.time()\n",
    "while(len(sampleRejection) < 1e5): # < and not <= because arrays start at 0 in python\n",
    "    x = x_cut * random.random() # This generates a random x from 0 to 20, 20 not included\n",
    "    y = y_max * random.random()\n",
    "    if y < planck(x):\n",
    "        sampleRejection.append(x)\n",
    "        counter1 += 1 # we add 1 because x has been generated but y cant be used for anything\n",
    "    else:\n",
    "        counter1 += 2 # we add 2 because x and y are generated        \n",
    "print(\"--- %s seconds ---\" % (time.time() - start_time), 'and', counter1, 'discarded random numbers for Rejection Sampling.')\n",
    "\n",
    "sampleImportance = []\n",
    "inverseMax = y_max * x_s - 2000/9 * 15/np.pi**4 * (np.exp(-1000**(0.9))-np.exp(-x_s**(0.9)))\n",
    "# inverseMax is the limit of the cdf of the majorant as x tends to infty.\n",
    "# It is used in the generation of our x because the majorant cant be a proper pdf.\n",
    "# This is because it is always greater or equal than a normalized pdf. We hope this is at least somewhat correct...\n",
    "counter2 = 0 \n",
    "while(len(sampleImportance) < 1e5):\n",
    "    x = 1.53*random.random() # This generates a random x from 0 to 1.53\n",
    "    y = random.random()\n",
    "    xStrich = inverseCDFOfMajorant(x, x_s, y_max)\n",
    "    if y < planck(xStrich)/majorant(xStrich, x_s, y_max):\n",
    "        sampleImportance.append(xStrich)\n",
    "        counter1 += 1\n",
    "    else:\n",
    "        counter2 += 2\n",
    "    \n",
    "x_lin = np.linspace(0.001,20,1000) # we start at 0.001 (very close to zero and noticeable in the plot)\n",
    "# because we want to avoid that python is unable to assign truths values elementwise.\n",
    "plt.subplot(1,2,1)\n",
    "plt.title('Rejection Sampling')\n",
    "plt.hist(sampleRejection, bins=np.arange(start=0, stop=21, step=0.5), normed = True,\n",
    "         histtype='bar', label='planck hist', color='r')\n",
    "plt.plot(x_lin, planck(x_lin), 'b-', label='planck pdf theory')\n",
    "plt.grid()\n",
    "plt.legend()\n",
    "plt.xlabel('x')\n",
    "plt.ylabel('counts or prob. density (normalized)')\n",
    "plt.subplot(1,2,2)\n",
    "plt.title('Importance Sampling')\n",
    "plt.hist(sampleImportance, bins=np.arange(start=0, stop=21, step=0.5), normed = True,\n",
    "         histtype='bar', label='planck hist', color='r')\n",
    "plt.plot(x_lin, planck(x_lin), 'b-', label='planck pdf theory')\n",
    "plt.grid()\n",
    "plt.legend()\n",
    "plt.xlabel('x')\n",
    "plt.ylabel('counts or prob. density (normalized)')\n",
    "plt.tight_layout()\n",
    "plt.show()"
   ]
  }
 ],
 "metadata": {
  "kernelspec": {
   "display_name": "Python 3",
   "language": "python",
   "name": "python3"
  },
  "language_info": {
   "codemirror_mode": {
    "name": "ipython",
    "version": 3
   },
   "file_extension": ".py",
   "mimetype": "text/x-python",
   "name": "python",
   "nbconvert_exporter": "python",
   "pygments_lexer": "ipython3",
   "version": "3.6.1"
  }
 },
 "nbformat": 4,
 "nbformat_minor": 2
}
