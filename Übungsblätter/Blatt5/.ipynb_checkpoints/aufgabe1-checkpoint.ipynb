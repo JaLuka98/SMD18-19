{
 "cells": [
  {
   "cell_type": "markdown",
   "metadata": {},
   "source": [
    "# Aufgabe 1 - Simulationskette für Neutrinodetektor"
   ]
  },
  {
   "cell_type": "code",
   "execution_count": 6,
   "metadata": {
    "collapsed": true
   },
   "outputs": [],
   "source": [
    "import numpy as np\n",
    "from numpy import random\n",
    "import matplotlib.pyplot as plt\n",
    "import pandas as pd"
   ]
  },
  {
   "cell_type": "code",
   "execution_count": 7,
   "metadata": {
    "collapsed": true
   },
   "outputs": [],
   "source": [
    "def phi(E):\n",
    "    return 10/17*E**(-2.7)\n",
    "\n",
    "\n",
    "def inverseCDFOfPhi(E):\n",
    "    return (1-E)**(-10/17)\n",
    "\n",
    "\n",
    "def P(E):\n",
    "    return (1-np.exp(-E/2))**3"
   ]
  },
  {
   "cell_type": "markdown",
   "metadata": {},
   "source": [
    "## Teilaufgabe a) - Signal MC"
   ]
  },
  {
   "cell_type": "code",
   "execution_count": 8,
   "metadata": {},
   "outputs": [],
   "source": [
    "amountOfSamples = int(1e5)\n",
    "energyLinspace = np.linspace(1,10000,10000) # to plot the generated energy sample later on\n",
    "prng = random.RandomState(42) # A mersenne twister generator\n",
    "uniform1 = prng.uniform(size=amountOfSamples) # 1e5 pseudo random numbers, which are uniformly distributed in 0 to 1, 1 not included\n",
    "energy = inverseCDFOfPhi(uniform1) # using inversion sampling\n",
    "dfEnergy = pd.DataFrame(data=energy[0:], index=np.arange(0,amountOfSamples), columns=['Energy'])"
   ]
  },
  {
   "cell_type": "code",
   "execution_count": 9,
   "metadata": {
    "collapsed": true
   },
   "outputs": [],
   "source": [
    "#DataFrame.to_hdf('NeutrinoMC.hdf5', key='Energy', )"
   ]
  },
  {
   "cell_type": "markdown",
   "metadata": {},
   "source": [
    "## Teilaufgabe b) - Akzeptanz"
   ]
  },
  {
   "cell_type": "code",
   "execution_count": 10,
   "metadata": {
    "collapsed": true
   },
   "outputs": [],
   "source": [
    "prng = random.RandomState(43) # change the seed to get different numbers\n",
    "uniform2 = prng.uniform(size=amountOfSamples) # a second array to perform the neumann rejection sampling\n",
    "mask = uniform2 < P(energy) # a boolean array containing true, false, true, ...\n",
    "# at index i the value is true, if the neutrino with energy[i] got detected successfully, otherwise the value is false.\n",
    "energyDetected = energy[mask == True] # In this array only the energies of the successfully detected neutrinos are stored\n",
    "dfMask = pd.DataFrame(data=mask[0:], index=np.arange(0,amountOfSamples), columns=['AcceptanceMask'])\n",
    "dfTwo = pd.concat([dfEnergy,dfMask], axis=1)"
   ]
  },
  {
   "cell_type": "code",
   "execution_count": 11,
   "metadata": {},
   "outputs": [
    {
     "data": {
      "image/png": "[encoded data removed]",
      "text/plain": [
       "<matplotlib.figure.Figure at 0x1f8f6c63cf8>"
      ]
     },
     "metadata": {},
     "output_type": "display_data"
    }
   ],
   "source": [
    "# Grafische Veranschaulichung\n",
    "plt.hist(energy, normed=True, bins=np.logspace(0,3), label='Sampled energies', histtype='step')\n",
    "plt.hist(energyDetected, normed=True, bins=np.logspace(0,3), label='Sampled detected energies', histtype='step')\n",
    "plt.plot(energyLinspace, phi(energyLinspace), label='theory pdf')\n",
    "plt.grid()\n",
    "plt.legend()\n",
    "plt.xlabel(r'$E/\\mathrm{TeV}$')\n",
    "plt.ylabel(r'$\\Phi/\\mathrm{MeV/(cm^2 s)}$')\n",
    "plt.yscale('log')\n",
    "plt.xscale('log')\n",
    "plt.show()\n",
    "plt.clf()"
   ]
  },
  {
   "cell_type": "markdown",
   "metadata": {},
   "source": [
    "## Teilaufgabe c) - Energiemessung"
   ]
  },
  {
   "cell_type": "code",
   "execution_count": 14,
   "metadata": {},
   "outputs": [],
   "source": [
    "prng = random.RandomState(44)\n",
    "numberOfHits = []\n",
    "i = 0\n",
    "while i < 1e5:\n",
    "    v1 = prng.uniform(-1,1)\n",
    "    v2 = prng.uniform(-1,1)\n",
    "    s = v1**2+v2**2\n",
    "    if s < 1:\n",
    "        temp = np.sqrt(-2/s*np.log(s)) # we need this twice later so we calculate it beforehand\n",
    "        n1 = 2*energy[i]*v1*temp + 10*energy[i] # Applying a linear transformation to the standard normal distribution\n",
    "        n2 = 2*energy[i+1]*v2*temp + 10*energy[i+1] # If x ~ N(0,1), then x'=sig*x+mu and x' is distributed with\n",
    "        # standard distribution sig and mean mu.\n",
    "        n1 = np.round(n1) # only a whole number of hits is possible\n",
    "        n2 = np.round(n2)\n",
    "        if n1 > 0: # only a positive number of hits is possible\n",
    "            numberOfHits.append(n1)\n",
    "            i += 1\n",
    "        if n2 > 0:\n",
    "            numberOfHits.append(n2)\n",
    "            i += 1\n",
    "dfHits = pd.DataFrame(data=numberOfHits[0:], index=np.arange(0,amountOfSamples), columns=['NumberOfHits'])\n",
    "dfThree = pd.concat([dfTwo,dfHits], axis=1)"
   ]
  },
  {
   "cell_type": "markdown",
   "metadata": {
    "collapsed": true
   },
   "source": [
    "## Teilaufgabe d) - Ortsmessung"
   ]
  },
  {
   "cell_type": "code",
   "execution_count": 23,
   "metadata": {},
   "outputs": [],
   "source": [
    "r0 = np.array([7,3])\n",
    "prng = random.RandomState(45)\n",
    "xArray = []\n",
    "yArray = []\n",
    "i = 0\n",
    "for i in range(0, amountOfSamples):\n",
    "    success = successx = successy = False\n",
    "    while success is False:\n",
    "        v1 = prng.uniform(-1,1)\n",
    "        v2 = prng.uniform(-1,1)\n",
    "        s = v1**2+v2**2\n",
    "        if s < 1:\n",
    "            temp = np.sqrt(-2/s*np.log(s)) # we need this twice later so we calculate it beforehand\n",
    "            x = 1/(np.log10(numberOfHits[i]+1))*v1*temp + 7 # Applying a linear transformation to the standard normal distribution\n",
    "            y = 1/(np.log10(numberOfHits[i]+1))*v2*temp + 3 # If x ~ N(0,1), then x'=sig*x+mu and x' is distributed with\n",
    "            # standard distribution sig and mean mu.\n",
    "            if (0 <= x <= 10) and (successx == False): # We only need an x value if we dont already have one and if the generated x is\n",
    "            # inside the detector\n",
    "                xArray.append(x)\n",
    "                successx = True\n",
    "            if (0 <= y <= 10) and (successy == False):\n",
    "                yArray.append(y)\n",
    "                successy = True\n",
    "            success = successx and successy\n",
    "dfx = pd.DataFrame(data=xArray[0:], index=np.arange(0,amountOfSamples), columns=['x'])\n",
    "dfy = pd.DataFrame(data=yArray[0:], index=np.arange(0,amountOfSamples), columns=['y'])\n",
    "dfFour = pd.concat([dfThree,dfx, dfy], axis=1)\n"
   ]
  },
  {
   "cell_type": "code",
   "execution_count": 64,
   "metadata": {},
   "outputs": [
    {
     "data": {
      "image/png": "[encoded data removed]",
      "text/plain": [
       "<matplotlib.figure.Figure at 0x1f8f86478d0>"
      ]
     },
     "metadata": {},
     "output_type": "display_data"
    }
   ],
   "source": [
    "plt.hist2d(xArray,yArray, bins=[90,90], range=[[0,10],[0,10]], cmap='viridis')\n",
    "plt.plot(7,3,'rx')\n",
    "plt.colorbar()\n",
    "plt.xlabel(r'$x$')\n",
    "plt.ylabel(r'$y$')\n",
    "plt.show()"
   ]
  },
  {
   "cell_type": "code",
   "execution_count": null,
   "metadata": {
    "collapsed": true
   },
   "outputs": [],
   "source": []
  }
 ],
 "metadata": {
  "kernelspec": {
   "display_name": "Python 3",
   "language": "python",
   "name": "python3"
  },
  "language_info": {
   "codemirror_mode": {
    "name": "ipython",
    "version": 3
   },
   "file_extension": ".py",
   "mimetype": "text/x-python",
   "name": "python",
   "nbconvert_exporter": "python",
   "pygments_lexer": "ipython3",
   "version": "3.6.1"
  }
 },
 "nbformat": 4,
 "nbformat_minor": 2
}
