{
 "cells": [
  {
   "cell_type": "code",
   "execution_count": 173,
   "metadata": {
    "collapsed": true
   },
   "outputs": [],
   "source": [
    "import numpy as np\n",
    "from numpy import random\n",
    "import matplotlib.pyplot as plt\n",
    "import pandas as pd"
   ]
  },
  {
   "cell_type": "code",
   "execution_count": 174,
   "metadata": {
    "collapsed": true
   },
   "outputs": [],
   "source": [
    "def phi(E):\n",
    "    return 10/17*E**(-2.7)\n",
    "\n",
    "\n",
    "def inverseCDFOfPhi(E):\n",
    "    return (1-E)**(-10/17)\n",
    "\n",
    "\n",
    "def P(E):\n",
    "    return (1-np.exp(-E/2))**3"
   ]
  },
  {
   "cell_type": "code",
   "execution_count": 175,
   "metadata": {},
   "outputs": [],
   "source": [
    "amountOfSamples = int(1e5)\n",
    "np.random.seed = 42 # to get reproducable results\n",
    "energyLinspace = np.linspace(1,10000,10000) # to plot the generated energy sample later on\n",
    "prng = random.RandomState(42) # A mersenne twister generator\n",
    "uniform1 = prng.uniform(size=amountOfSamples) # 1e5 pseudo random numbers, which are uniformly distributed in 0 to 1, 1 not included\n",
    "energy = inverseCDFOfPhi(uniform1) # using inversion sampling\n",
    "dfEnergy = pd.DataFrame(data=energy[0:], index=np.arange(0,amountOfSamples), columns=['Energy'])"
   ]
  },
  {
   "cell_type": "code",
   "execution_count": 176,
   "metadata": {},
   "outputs": [],
   "source": [
    "#DataFrame.to_hdf('NeutrinoMC.hdf5', key='Energy', )"
   ]
  },
  {
   "cell_type": "code",
   "execution_count": 179,
   "metadata": {},
   "outputs": [
    {
     "name": "stdout",
     "output_type": "stream",
     "text": [
      "[False  True  True ..., False False False]\n",
      "       AcceptanceMask    Energy AcceptanceMask AcceptanceMask\n",
      "0                 NaN  1.317901          False          False\n",
      "1                 NaN  5.874727           True           True\n",
      "2                 NaN  2.169629          False           True\n",
      "3                 NaN  1.710909          False           True\n",
      "4                 NaN  1.104927           True          False\n",
      "5                 NaN  1.104908          False          False\n",
      "6                 NaN  1.035826          False          False\n",
      "7                 NaN  3.264403           True          False\n",
      "8                 NaN  1.717100          False           True\n",
      "9                 NaN  2.063214          False          False\n",
      "10                NaN  1.012310          False           True\n",
      "11                NaN  7.853161           True           True\n",
      "12                NaN  2.860055           True           True\n",
      "13                NaN  1.150739          False          False\n",
      "14                NaN  1.125296          False          False\n",
      "15                NaN  1.126576          False          False\n",
      "16                NaN  1.237861          False          False\n",
      "17                NaN  1.548992          False          False\n",
      "18                NaN  1.394685          False          False\n",
      "19                NaN  1.224441          False           True\n",
      "20                NaN  1.744885          False          False\n",
      "21                NaN  1.092396          False          False\n",
      "22                NaN  1.225372          False          False\n",
      "23                NaN  1.307868          False          False\n",
      "24                NaN  1.430747          False          False\n",
      "25                NaN  2.471112          False          False\n",
      "26                NaN  1.139992          False          False\n",
      "27                NaN  1.529167          False          False\n",
      "28                NaN  1.695443          False          False\n",
      "29                NaN  1.028374          False          False\n",
      "...               ...       ...            ...            ...\n",
      "499970          False       NaN            NaN            NaN\n",
      "499971          False       NaN            NaN            NaN\n",
      "499972          False       NaN            NaN            NaN\n",
      "499973           True       NaN            NaN            NaN\n",
      "499974          False       NaN            NaN            NaN\n",
      "499975          False       NaN            NaN            NaN\n",
      "499976          False       NaN            NaN            NaN\n",
      "499977          False       NaN            NaN            NaN\n",
      "499978           True       NaN            NaN            NaN\n",
      "499979          False       NaN            NaN            NaN\n",
      "499980           True       NaN            NaN            NaN\n",
      "499981          False       NaN            NaN            NaN\n",
      "499982          False       NaN            NaN            NaN\n",
      "499983          False       NaN            NaN            NaN\n",
      "499984          False       NaN            NaN            NaN\n",
      "499985          False       NaN            NaN            NaN\n",
      "499986          False       NaN            NaN            NaN\n",
      "499987          False       NaN            NaN            NaN\n",
      "499988          False       NaN            NaN            NaN\n",
      "499989          False       NaN            NaN            NaN\n",
      "499990          False       NaN            NaN            NaN\n",
      "499991           True       NaN            NaN            NaN\n",
      "499992           True       NaN            NaN            NaN\n",
      "499993          False       NaN            NaN            NaN\n",
      "499994          False       NaN            NaN            NaN\n",
      "499995          False       NaN            NaN            NaN\n",
      "499996          False       NaN            NaN            NaN\n",
      "499997          False       NaN            NaN            NaN\n",
      "499998          False       NaN            NaN            NaN\n",
      "499999          False       NaN            NaN            NaN\n",
      "\n",
      "[500000 rows x 4 columns]\n"
     ]
    }
   ],
   "source": [
    "np.random.seed = 43 # change the seed to get different numbers\n",
    "uniform2 = prng.uniform(size=amountOfSamples) # a second array to perform the neumann rejection sampling\n",
    "mask = uniform2 < P(energy) # a boolean array containing true, false, true, ...\n",
    "# at index i the value is true, if the neutrino with energy[i] got detected successfully, otherwise the value is false.\n",
    "energyDetected = energy[mask == True] # In this array only the energies of the successfully detected neutrinos are stored\n",
    "dfMask = pd.DataFrame(data=mask[0:], index=np.arange(0,amountOfSamples), columns=['AcceptanceMask'])\n",
    "print(mask)\n",
    "dfTwo = pd.concat([dfEnergy,dfMask], axis=1)\n",
    "print(df)"
   ]
  },
  {
   "cell_type": "code",
   "execution_count": null,
   "metadata": {},
   "outputs": [],
   "source": [
    "plt.hist(energy, normed=True, bins=np.logspace(0,3), label='Sampled energies', histtype='step')\n",
    "plt.hist(energyDetected, normed=True, bins=np.logspace(0,3), label='Sampled detected energies', histtype='step')\n",
    "plt.plot(energyLinspace, phi(energyLinspace), label='theory pdf')\n",
    "plt.grid()\n",
    "plt.legend()\n",
    "plt.xlabel(r'$E/\\mathrm{TeV}$')\n",
    "plt.ylabel(r'$\\Phi/\\mathrm{MeV/(cm^2 s)}$')\n",
    "plt.yscale('log')\n",
    "plt.xscale('log')\n",
    "plt.show()"
   ]
  },
  {
   "cell_type": "code",
   "execution_count": null,
   "metadata": {
    "collapsed": true
   },
   "outputs": [],
   "source": []
  },
  {
   "cell_type": "code",
   "execution_count": null,
   "metadata": {
    "collapsed": true
   },
   "outputs": [],
   "source": []
  }
 ],
 "metadata": {
  "kernelspec": {
   "display_name": "Python 3",
   "language": "python",
   "name": "python3"
  },
  "language_info": {
   "codemirror_mode": {
    "name": "ipython",
    "version": 3
   },
   "file_extension": ".py",
   "mimetype": "text/x-python",
   "name": "python",
   "nbconvert_exporter": "python",
   "pygments_lexer": "ipython3",
   "version": "3.6.1"
  }
 },
 "nbformat": 4,
 "nbformat_minor": 2
}
