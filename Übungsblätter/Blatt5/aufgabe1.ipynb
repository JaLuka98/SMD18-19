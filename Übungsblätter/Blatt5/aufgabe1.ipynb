{
 "cells": [
  {
   "cell_type": "markdown",
   "metadata": {},
   "source": [
    "# Aufgabe 1 - Simulationskette für Neutrinodetektor"
   ]
  },
  {
   "cell_type": "code",
   "execution_count": 2,
   "metadata": {
    "collapsed": true
   },
   "outputs": [],
   "source": [
    "import numpy as np\n",
    "from numpy import random\n",
    "import matplotlib.pyplot as plt\n",
    "import pandas as pd"
   ]
  },
  {
   "cell_type": "code",
   "execution_count": 3,
   "metadata": {
    "collapsed": true
   },
   "outputs": [],
   "source": [
    "def phi(E):\n",
    "    return 10/17*E**(-2.7)\n",
    "\n",
    "\n",
    "def inverseCDFOfPhi(E):\n",
    "    return (1-E)**(-10/17)\n",
    "\n",
    "\n",
    "def P(E):\n",
    "    return (1-np.exp(-E/2))**3"
   ]
  },
  {
   "cell_type": "markdown",
   "metadata": {},
   "source": [
    "## Teilaufgabe a) - Signal MC"
   ]
  },
  {
   "cell_type": "code",
   "execution_count": 4,
   "metadata": {
    "collapsed": true
   },
   "outputs": [],
   "source": [
    "amountOfSamples = int(1e5)\n",
    "np.random.seed = 42 # to get reproducable results\n",
    "energyLinspace = np.linspace(1,10000,10000) # to plot the generated energy sample later on\n",
    "prng = random.RandomState(42) # A mersenne twister generator\n",
    "uniform1 = prng.uniform(size=amountOfSamples) # 1e5 pseudo random numbers, which are uniformly distributed in 0 to 1, 1 not included\n",
    "energy = inverseCDFOfPhi(uniform1) # using inversion sampling\n",
    "dfEnergy = pd.DataFrame(data=energy[0:], index=np.arange(0,amountOfSamples), columns=['Energy'])"
   ]
  },
  {
   "cell_type": "code",
   "execution_count": 5,
   "metadata": {
    "collapsed": true
   },
   "outputs": [],
   "source": [
    "#DataFrame.to_hdf('NeutrinoMC.hdf5', key='Energy', )"
   ]
  },
  {
   "cell_type": "markdown",
   "metadata": {},
   "source": [
    "## Teilaufgabe b) - Akzeptanz"
   ]
  },
  {
   "cell_type": "code",
   "execution_count": 6,
   "metadata": {
    "collapsed": true
   },
   "outputs": [],
   "source": [
    "np.random.seed = 43 # change the seed to get different numbers\n",
    "uniform2 = prng.uniform(size=amountOfSamples) # a second array to perform the neumann rejection sampling\n",
    "mask = uniform2 < P(energy) # a boolean array containing true, false, true, ...\n",
    "# at index i the value is true, if the neutrino with energy[i] got detected successfully, otherwise the value is false.\n",
    "energyDetected = energy[mask == True] # In this array only the energies of the successfully detected neutrinos are stored\n",
    "dfMask = pd.DataFrame(data=mask[0:], index=np.arange(0,amountOfSamples), columns=['AcceptanceMask'])\n",
    "dfTwo = pd.concat([dfEnergy,dfMask], axis=1)"
   ]
  },
  {
   "cell_type": "code",
   "execution_count": 8,
   "metadata": {},
   "outputs": [
    {
     "data": {
      "image/png": "[encoded data removed]",
      "text/plain": [
       "<matplotlib.figure.Figure at 0x1ea875ca0f0>"
      ]
     },
     "metadata": {},
     "output_type": "display_data"
    }
   ],
   "source": [
    "# Grafische Veranschaulichung\n",
    "plt.hist(energy, normed=True, bins=np.logspace(0,3), label='Sampled energies', histtype='step')\n",
    "plt.hist(energyDetected, normed=True, bins=np.logspace(0,3), label='Sampled detected energies', histtype='step')\n",
    "plt.plot(energyLinspace, phi(energyLinspace), label='theory pdf')\n",
    "plt.grid()\n",
    "plt.legend()\n",
    "plt.xlabel(r'$E/\\mathrm{TeV}$')\n",
    "plt.ylabel(r'$\\Phi/\\mathrm{MeV/(cm^2 s)}$')\n",
    "plt.yscale('log')\n",
    "plt.xscale('log')\n",
    "plt.show()\n",
    "plt.clf()"
   ]
  },
  {
   "cell_type": "markdown",
   "metadata": {},
   "source": [
    "## Teilaufgabe c) - Energiemessung"
   ]
  },
  {
   "cell_type": "code",
   "execution_count": 30,
   "metadata": {},
   "outputs": [
    {
     "name": "stdout",
     "output_type": "stream",
     "text": [
      "          Energy  AcceptanceMask  NumberOfHits\n",
      "0       1.317901           False          13.0\n",
      "1       5.874727            True          57.0\n",
      "2       2.169629           False          19.0\n",
      "3       1.710909           False          17.0\n",
      "4       1.104927           False          11.0\n",
      "5       1.104908           False          13.0\n",
      "6       1.035826           False          10.0\n",
      "7       3.264403           False          29.0\n",
      "8       1.717100           False          11.0\n",
      "9       2.063214           False          19.0\n",
      "10      1.012310            True          12.0\n",
      "11      7.853161            True         105.0\n",
      "12      2.860055            True          33.0\n",
      "13      1.150739           False           9.0\n",
      "14      1.125296           False          11.0\n",
      "15      1.126576           False          13.0\n",
      "16      1.237861           False          12.0\n",
      "17      1.548992           False          15.0\n",
      "18      1.394685           False          14.0\n",
      "19      1.224441           False          11.0\n",
      "20      1.744885           False          19.0\n",
      "21      1.092396           False          10.0\n",
      "22      1.225372           False           9.0\n",
      "23      1.307868           False          16.0\n",
      "24      1.430747            True          12.0\n",
      "25      2.471112           False          28.0\n",
      "26      1.139992           False          12.0\n",
      "27      1.529167           False          17.0\n",
      "28      1.695443           False          21.0\n",
      "29      1.028374           False          13.0\n",
      "...          ...             ...           ...\n",
      "99970   1.057011           False           9.0\n",
      "99971   1.058778           False          14.0\n",
      "99972   2.367928           False          25.0\n",
      "99973  10.895863            True         101.0\n",
      "99974   1.488131           False          17.0\n",
      "99975   3.197464            True          29.0\n",
      "99976   3.305185           False          26.0\n",
      "99977   1.311766            True          14.0\n",
      "99978   1.264363           False           9.0\n",
      "99979   2.158315            True          22.0\n",
      "99980   4.136624            True          55.0\n",
      "99981   3.096450           False          32.0\n",
      "99982   1.253885           False          10.0\n",
      "99983   1.294306           False          16.0\n",
      "99984   2.190088           False          27.0\n",
      "99985   1.251850            True          14.0\n",
      "99986   3.076349            True          28.0\n",
      "99987   1.520053           False          15.0\n",
      "99988   1.225897           False           9.0\n",
      "99989   1.219521           False          14.0\n",
      "99990   2.462726           False          25.0\n",
      "99991   1.081471           False          12.0\n",
      "99992   4.858329            True          50.0\n",
      "99993   1.368633           False           9.0\n",
      "99994   2.981956            True          17.0\n",
      "99995   2.520658           False          22.0\n",
      "99996   2.431891           False          32.0\n",
      "99997   1.935077            True          17.0\n",
      "99998   1.502430           False          15.0\n",
      "99999   1.337329            True          14.0\n",
      "\n",
      "[100000 rows x 3 columns]\n"
     ]
    }
   ],
   "source": [
    "def gaussian(x, mu, sig):\n",
    "    return np.exp(-(x-mu)**2/(2*sig*sig) )/ np.sqrt(2*np.pi*sig*sig)\n",
    "\n",
    "np.random.seed = 44\n",
    "numberOfHits = []\n",
    "i = 0\n",
    "while i < 1e5:\n",
    "    v1 = prng.uniform(-1,1)\n",
    "    v2 = prng.uniform(-1,1)\n",
    "    s = v1**2+v2**2\n",
    "    if s < 1:\n",
    "        temp = np.sqrt(-2/s*np.log(s)) # we need this twice later so we calculate it beforehand\n",
    "        n1 = 2*energy[i]*v1*temp+10*energy[i] # Applying a linear transformation to the standard normal distribution\n",
    "        n2 = 2*energy[i+1]*v2*temp+10*energy[i+1] # If x ~ N(0,1), then x'=sig*x+mu and x' is distributed with\n",
    "        # standard distribution sig and mean mu.\n",
    "        n1 = np.round(n1) # only a whole number of hits is possible\n",
    "        n2 = np.round(n2)\n",
    "        if n1 > 0: # only a positive number of hits is possible\n",
    "            numberOfHits.append(n1)\n",
    "            i += 1\n",
    "        if n2 > 0:\n",
    "            numberOfHits.append(n2)\n",
    "            i += 1\n",
    "dfHits = pd.DataFrame(data=numberOfHits[0:], index=np.arange(0,amountOfSamples), columns=['NumberOfHits'])\n",
    "dfThree = pd.concat([dfTwo,dfHits], axis=1)\n",
    "print(dfThree)"
   ]
  },
  {
   "cell_type": "code",
   "execution_count": null,
   "metadata": {
    "collapsed": true
   },
   "outputs": [],
   "source": []
  }
 ],
 "metadata": {
  "kernelspec": {
   "display_name": "Python 3",
   "language": "python",
   "name": "python3"
  },
  "language_info": {
   "codemirror_mode": {
    "name": "ipython",
    "version": 3
   },
   "file_extension": ".py",
   "mimetype": "text/x-python",
   "name": "python",
   "nbconvert_exporter": "python",
   "pygments_lexer": "ipython3",
   "version": "3.6.1"
  }
 },
 "nbformat": 4,
 "nbformat_minor": 2
}
