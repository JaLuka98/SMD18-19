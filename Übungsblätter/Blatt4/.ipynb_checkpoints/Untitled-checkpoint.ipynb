{
 "cells": [
  {
   "cell_type": "code",
   "execution_count": 1,
   "metadata": {
    "collapsed": true
   },
   "outputs": [],
   "source": [
    "import numpy as np"
   ]
  },
  {
   "cell_type": "code",
   "execution_count": 3,
   "metadata": {
    "collapsed": true
   },
   "outputs": [],
   "source": [
    "p0x = np.array([1,2,1.5,2,2,3])\n",
    "p0y = np.array([1,1,2,2,3,3])\n",
    "p1x = np.array([1.5,2.5,3.5,2.5,3.5,4.5])\n",
    "p1y = np.array([1,1,1,2,2,2])\n",
    "mu0 = np.array([np.mean(p0x), np.mean(p0y)])\n",
    "print('mu0', mu0)\n",
    "mu1 = np.array([np.mean(p1x), np.mean(p1y)])\n",
    "print('mu1', mu1)"
   ]
  },
  {
   "cell_type": "code",
   "execution_count": null,
   "metadata": {
    "collapsed": true
   },
   "outputs": [],
   "source": []
  }
 ],
 "metadata": {
  "kernelspec": {
   "display_name": "Python 3",
   "language": "python",
   "name": "python3"
  },
  "language_info": {
   "codemirror_mode": {
    "name": "ipython",
    "version": 3
   },
   "file_extension": ".py",
   "mimetype": "text/x-python",
   "name": "python",
   "nbconvert_exporter": "python",
   "pygments_lexer": "ipython3",
   "version": "3.6.1"
  }
 },
 "nbformat": 4,
 "nbformat_minor": 2
}
