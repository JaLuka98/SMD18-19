{
 "cells": [
  {
   "cell_type": "code",
   "execution_count": 2,
   "metadata": {
    "collapsed": true
   },
   "outputs": [],
   "source": [
    "import pandas as pd\n",
    "import numpy as np\n",
    "from scipy import linalg\n",
    "import matplotlib.pyplot as plt\n",
    "\n",
    "df_P0_1k = pd.read_hdf(\"zwei_populationen.h5\", key=\"P_0_1000\")\n",
    "df_P0_10k = pd.read_hdf(\"zwei_populationen.h5\", key=\"P_0_10000\")\n",
    "df_P1 = pd.read_hdf(\"zwei_populationen.h5\", key=\"P_1\")"
   ]
  },
  {
   "cell_type": "code",
   "execution_count": 15,
   "metadata": {},
   "outputs": [],
   "source": [
    "P0_1k = df_P0_10k.values\n",
    "P0_10k = df_P0_1k.values\n",
    "P1 = df_P1.values\n",
    "\n",
    "muP0 = np.array([np.mean(P0_10k, axis=0)])\n",
    "muP0 = np.transpose(muP0) # Now it is a proper column vector\n",
    "muP1 = np.array([np.mean(P1, axis=0)])\n",
    "muP1 = np.transpose(muP1)"
   ]
  },
  {
   "cell_type": "code",
   "execution_count": 24,
   "metadata": {},
   "outputs": [
    {
     "name": "stdout",
     "output_type": "stream",
     "text": [
      "[-0.0339214  0.9994245]\n"
     ]
    }
   ],
   "source": [
    "covP0 = np.cov(P0_10k, ddof = 1, rowvar=False)\n",
    "covP1 = np.cov(P1, ddof = 1, rowvar=False)\n",
    "# is this the combined covariance matrix\n",
    "Sw = covP0 + covP1\n",
    "SwInv = linalg.inv(covCombined)\n",
    "Sb = np.dot(muP0-muP1, np.transpose(muP0-muP1))\n",
    "matrix = np.dot(SwInv,Sb)\n",
    "[d, V] = linalg.eig(matrix,right=True)\n",
    "w = V[:,1] # get first column\n",
    "print(w)"
   ]
  },
  {
   "cell_type": "code",
   "execution_count": 31,
   "metadata": {},
   "outputs": [
    {
     "name": "stdout",
     "output_type": "stream",
     "text": [
      "[-0.03394093 -0.02262729 -0.01131364  0.          0.01131364  0.02262729\n",
      "  0.03394093  0.04525458  0.05656822  0.06788187]\n"
     ]
    },
    {
     "data": {
      "image/png": "[encoded data removed]",
      "text/plain": [
       "<matplotlib.figure.Figure at 0x2086a36e630>"
      ]
     },
     "metadata": {},
     "output_type": "display_data"
    }
   ],
   "source": [
    "x0, y0 = zip(*P0_10k)\n",
    "x1, y1 = zip(*P1)\n",
    "linspace = np.linspace(-1,2,10)\n",
    "plt.plot(x0, y0, 'b.', label='P0', markersize=3)\n",
    "plt.plot(x1, y1, 'r.', label='P1', markersize=3)\n",
    "plt.plot(linspace, w[0]/w[1]*linspace)\n",
    "print(-w[0]/w[1]*linspace)\n",
    "plt.show()"
   ]
  },
  {
   "cell_type": "code",
   "execution_count": null,
   "metadata": {
    "collapsed": true
   },
   "outputs": [],
   "source": []
  }
 ],
 "metadata": {
  "kernelspec": {
   "display_name": "Python 3",
   "language": "python",
   "name": "python3"
  },
  "language_info": {
   "codemirror_mode": {
    "name": "ipython",
    "version": 3
   },
   "file_extension": ".py",
   "mimetype": "text/x-python",
   "name": "python",
   "nbconvert_exporter": "python",
   "pygments_lexer": "ipython3",
   "version": "3.6.1"
  }
 },
 "nbformat": 4,
 "nbformat_minor": 2
}
