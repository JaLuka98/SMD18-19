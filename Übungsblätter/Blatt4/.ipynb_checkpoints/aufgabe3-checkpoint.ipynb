{
 "cells": [
  {
   "cell_type": "code",
   "execution_count": 48,
   "metadata": {},
   "outputs": [],
   "source": [
    "import pandas as pd\n",
    "import numpy as np\n",
    "from scipy import linalg\n",
    "import matplotlib.pyplot as plt\n",
    "\n",
    "df_P0_1k = pd.read_hdf(\"zwei_populationen.h5\", key=\"P_0_1000\")\n",
    "df_P0_10k = pd.read_hdf(\"zwei_populationen.h5\", key=\"P_0_10000\")\n",
    "df_P1 = pd.read_hdf(\"zwei_populationen.h5\", key=\"P_1\")"
   ]
  },
  {
   "cell_type": "code",
   "execution_count": 49,
   "metadata": {},
   "outputs": [],
   "source": [
    "P0_1k = df_P0_10k.values\n",
    "P0_10k = df_P0_1k.values\n",
    "P1 = df_P1.values\n",
    "\n",
    "muP0 = np.array([np.mean(P0_10k, axis=0)])\n",
    "muP1 = np.array([np.mean(P1, axis=0)])"
   ]
  },
  {
   "cell_type": "code",
   "execution_count": 50,
   "metadata": {},
   "outputs": [
    {
     "name": "stdout",
     "output_type": "stream",
     "text": [
      "[[ 0.20956093 -0.26669325]\n",
      " [-0.26669325  0.42113085]]\n",
      "[[-0.09576791  2.8788468 ]]\n",
      "[[-1.21953973]\n",
      " [ 1.53514938]]\n"
     ]
    }
   ],
   "source": [
    "covP0 = np.cov(P0_10k, ddof = 1, rowvar=False)\n",
    "covP1 = np.cov(P1, ddof = 1, rowvar=False)\n",
    "# is this the combined covariance matrix\n",
    "covCombined = covP0 + covP1\n",
    "covCombinedInv = linalg.inv(covCombined)\n",
    "print(covCombinedInv)\n",
    "print(muP0)\n",
    "lambdaStar = np.dot(covCombinedInv, np.transpose(muP0-muP1))\n",
    "print(lambdaStar)\n",
    "#eigvals = linalg.eigvals(matrix)\n",
    "#eigvectors = linalg.eig(a, left=False, right=True)[1] # normalized right eigenvector"
   ]
  },
  {
   "cell_type": "code",
   "execution_count": 51,
   "metadata": {},
   "outputs": [
    {
     "data": {
      "image/png": "[encoded data removed]",
      "text/plain": [
       "<matplotlib.figure.Figure at 0x232937af5c0>"
      ]
     },
     "metadata": {},
     "output_type": "display_data"
    }
   ],
   "source": [
    "plt.plot(P0_10k, 'b.', label='P0', markersize=3)\n",
    "plt.plot(P1, 'r.', label='P1', markersize=3)\n",
    "plt.show()"
   ]
  },
  {
   "cell_type": "code",
   "execution_count": null,
   "metadata": {
    "collapsed": true
   },
   "outputs": [],
   "source": []
  }
 ],
 "metadata": {
  "kernelspec": {
   "display_name": "Python 3",
   "language": "python",
   "name": "python3"
  },
  "language_info": {
   "codemirror_mode": {
    "name": "ipython",
    "version": 3
   },
   "file_extension": ".py",
   "mimetype": "text/x-python",
   "name": "python",
   "nbconvert_exporter": "python",
   "pygments_lexer": "ipython3",
   "version": "3.6.1"
  }
 },
 "nbformat": 4,
 "nbformat_minor": 2
}
