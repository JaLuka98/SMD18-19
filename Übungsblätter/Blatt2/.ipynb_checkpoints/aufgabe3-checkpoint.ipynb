{
 "cells": [
  {
   "cell_type": "markdown",
   "metadata": {},
   "source": [
    "# Aufgabe 3\n",
    "Gegeben sei eine zweidimensionale Gaußverteilung mit\n",
    "$\n",
    "\\mu_x = 4, \\, \\mu_y = 2, \\, \\sigma_x = 3{,}5, \\, \\sigma_y = 1{,}5, \\, \\text{cov}(x,y) = 4{,}2\\,.\n",
    "$"
   ]
  },
  {
   "cell_type": "markdown",
   "metadata": {},
   "source": [
    "## Teilaufgabe a)\n",
    "Wie groß ist der Korrelationskoeffizient?\n",
    "Der Korrelationskoeffizient ergibt sich nach der Formel aus den Folien zu\n",
    "$$\\begin{equation}\n",
    "\\rho(x,y) = \\frac{\\text{cov}(x,y)}{\\sigma_x \\cdot \\sigma_y} = \\frac{4{,}2}{3{,5} \\cdot 1{,5}} = 0{,}8\\,.\n",
    "\\end{equation}\n",
    "$$"
   ]
  },
  {
   "cell_type": "markdown",
   "metadata": {},
   "source": [
    "## Teilaufgabe b)\n",
    "Zu zeigen ist, dass Kurven konstanter Wahrscheinlichkeitsdichte Ellipsen sind.\n",
    "Die Wahrscheinlichkeitsdichtefunktion der bivariaten Normalverteilung ist durch\n",
    "$$\n",
    "f(x,y) =\n",
    "      \\frac{1}{2 \\pi  \\sigma_x \\sigma_y \\sqrt{1-\\rho^2}}\n",
    "      \\exp\\left(\n",
    "        -\\frac{1}{2(1-\\rho^2)}\\left[\n",
    "          \\frac{(x-\\mu_x)^2}{\\sigma_x^2} +\n",
    "          \\frac{(y-\\mu_y)^2}{\\sigma_y^2} -\n",
    "          \\frac{2\\rho(x-\\mu_x)(y-\\mu_y)}{\\sigma_x \\sigma_y}\n",
    "        \\right]\n",
    "      \\right)\n",
    "$$\n",
    "gegeben.\n",
    "Soll nun f(x,y) konstant sein, so muss der Exponent konstant sein. Dies ergibt\n",
    "$$-\\frac{1}{2(1-\\rho^2)}\\left[\\frac{(x-\\mu_x)^2}{\\sigma_x^2} + \\frac{(y-\\mu_y)^2}{\\sigma_y^2} - \\frac{2\\rho(x-\\mu_x)(y-\\mu_y)}{\\sigma_x \\sigma_y}\\right] = \\text{const.}\\,.\n",
    "$$\n",
    "Das ist eine Ellipsengleichung, da stets durch die Konstante dividiert werden kann. Der Mittelpunkt dieser Ellipse ist $(\\mu_x,\\mu_y)^\\text{T}$ und die Halbachsen in $x,y$-Richtung sind $1/(1-\\rho^2 \\sigma_{x,y}^2)$, falls die Konstante gleich eins gesetzt wird. Der Mischterm verdeutlicht, dass die Ellipse gegen die kartesischen Koordinatenachsen verdreht ist."
   ]
  },
  {
   "cell_type": "code",
   "execution_count": 95,
   "metadata": {},
   "outputs": [
    {
     "name": "stdout",
     "output_type": "stream",
     "text": [
      "20.0151296359\n",
      "0.8\n"
     ]
    },
    {
     "data": {
      "image/png": "[encoded data removed]",
      "text/plain": [
       "<matplotlib.figure.Figure at 0x1ae1ad90400>"
      ]
     },
     "metadata": {},
     "output_type": "display_data"
    }
   ],
   "source": [
    "import numpy as np\n",
    "import matplotlib.pyplot as plt\n",
    "from matplotlib.patches import Ellipse\n",
    "\n",
    "sigmax = 3.5\n",
    "sigmay = 1.5\n",
    "covariance = 4.2\n",
    "rho = 0.8\n",
    "cov = np.array([[12.25, 4.2], [4.2, 2.25]])\n",
    "mu = np.array([4,2])\n",
    "mux = 4\n",
    "muy = 2\n",
    "B = 1/(1-rho**2) * np.array([[sigmax**(-2), -rho/(sigmax*sigmay)], [-rho/(sigmax*sigmay), sigmay**(-2)]])\n",
    "alpha = np.degrees(0.5 * np.arctan(2*rho*sigmax*sigmay/(sigmax**2-sigma_y**2)))\n",
    "print(alpha)\n",
    "print(rho)\n",
    "\n",
    "ells = [Ellipse(xy=(4,2), width=2/sigmax**2*1/(1-rho**2), height=2/sigmay**2*1/(1-rho**2), angle = alpha+90, fill=False)]\n",
    "\n",
    "fig = plt.figure(0)\n",
    "ax = fig.add_subplot(111, aspect='equal')\n",
    "for e in ells:\n",
    "    ax.add_artist(e)\n",
    "    e.set_clip_box(ax.bbox)\n",
    "ax.set_xlim(2, 6)\n",
    "ax.set_ylim(0, 4)\n",
    "\n",
    "def f(x,y):\n",
    "    k = 1/(2*np.pi*sigmax*sigmay*np.sqrt(1-rho**2))\n",
    "    Vorfaktor = -1/(2*(1-rho**2))\n",
    "    return k * np.exp(Vorfaktor*((x-4)**2/sigmax**2 - 2*rho*(x-4)*(y-2)/(sigmax*sigmay)+ (y-2)**2/sigmay**2))\n",
    "x = np.arange(0,8.0,0.1)\n",
    "y = np.arange(0.0,4.0,0.1)\n",
    "\n",
    "X,Y = np.meshgrid(x, y)\n",
    "Z =f(X,Y)\n",
    "plt.pcolormesh(X,Y,Z,cmap='inferno')\n",
    "plt.colorbar()\n",
    "plt.show()"
   ]
  },
  {
   "cell_type": "code",
   "execution_count": null,
   "metadata": {
    "collapsed": true
   },
   "outputs": [],
   "source": []
  }
 ],
 "metadata": {
  "kernelspec": {
   "display_name": "Python 3",
   "language": "python",
   "name": "python3"
  },
  "language_info": {
   "codemirror_mode": {
    "name": "ipython",
    "version": 3
   },
   "file_extension": ".py",
   "mimetype": "text/x-python",
   "name": "python",
   "nbconvert_exporter": "python",
   "pygments_lexer": "ipython3",
   "version": "3.6.1"
  }
 },
 "nbformat": 4,
 "nbformat_minor": 2
}
