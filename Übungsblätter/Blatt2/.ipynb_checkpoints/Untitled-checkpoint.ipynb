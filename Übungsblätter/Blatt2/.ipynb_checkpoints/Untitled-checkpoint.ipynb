{
 "cells": [
  {
   "cell_type": "code",
   "execution_count": 150,
   "metadata": {
    "collapsed": true
   },
   "outputs": [],
   "source": [
    "import numpy as np\n",
    "from numpy import random\n",
    "import matplotlib.pyplot as plt"
   ]
  },
  {
   "cell_type": "code",
   "execution_count": 151,
   "metadata": {
    "collapsed": true
   },
   "outputs": [],
   "source": [
    "def lcg(x, a, b, m):\n",
    "    return (a*x + b) % m"
   ]
  },
  {
   "cell_type": "code",
   "execution_count": 152,
   "metadata": {},
   "outputs": [
    {
     "name": "stdout",
     "output_type": "stream",
     "text": [
      "Jetzt a =  0\n",
      "Bisherige Periodenlängen [3]\n",
      "Jetzt a =  1\n",
      "Bisherige Periodenlängen [3, 1025]\n",
      "Jetzt a =  2\n",
      "Bisherige Periodenlängen [3, 1025, 12]\n",
      "Jetzt a =  3\n",
      "Bisherige Periodenlängen [3, 1025, 12, 513]\n",
      "Jetzt a =  4\n",
      "Bisherige Periodenlängen [3, 1025, 12, 513, 7]\n",
      "Jetzt a =  5\n",
      "Bisherige Periodenlängen [3, 1025, 12, 513, 7, 1025]\n",
      "Jetzt a =  6\n",
      "Bisherige Periodenlängen [3, 1025, 12, 513, 7, 1025, 12]\n",
      "Jetzt a =  7\n",
      "Bisherige Periodenlängen [3, 1025, 12, 513, 7, 1025, 12, 257]\n",
      "Jetzt a =  8\n",
      "Bisherige Periodenlängen [3, 1025, 12, 513, 7, 1025, 12, 257, 6]\n",
      "Jetzt a =  9\n",
      "Bisherige Periodenlängen [3, 1025, 12, 513, 7, 1025, 12, 257, 6, 1025]\n",
      "Jetzt a =  10\n",
      "Bisherige Periodenlängen [3, 1025, 12, 513, 7, 1025, 12, 257, 6, 1025, 12]\n",
      "Jetzt a =  11\n",
      "Bisherige Periodenlängen [3, 1025, 12, 513, 7, 1025, 12, 257, 6, 1025, 12, 513]\n",
      "Jetzt a =  12\n",
      "Bisherige Periodenlängen [3, 1025, 12, 513, 7, 1025, 12, 257, 6, 1025, 12, 513, 7]\n",
      "Jetzt a =  13\n",
      "Bisherige Periodenlängen [3, 1025, 12, 513, 7, 1025, 12, 257, 6, 1025, 12, 513, 7, 1025]\n",
      "Jetzt a =  14\n",
      "Bisherige Periodenlängen [3, 1025, 12, 513, 7, 1025, 12, 257, 6, 1025, 12, 513, 7, 1025, 12]\n",
      "Jetzt a =  15\n",
      "Bisherige Periodenlängen [3, 1025, 12, 513, 7, 1025, 12, 257, 6, 1025, 12, 513, 7, 1025, 12, 129]\n",
      "Jetzt a =  16\n",
      "Bisherige Periodenlängen [3, 1025, 12, 513, 7, 1025, 12, 257, 6, 1025, 12, 513, 7, 1025, 12, 129, 5]\n",
      "Jetzt a =  17\n",
      "Bisherige Periodenlängen [3, 1025, 12, 513, 7, 1025, 12, 257, 6, 1025, 12, 513, 7, 1025, 12, 129, 5, 1025]\n",
      "Jetzt a =  18\n",
      "Bisherige Periodenlängen [3, 1025, 12, 513, 7, 1025, 12, 257, 6, 1025, 12, 513, 7, 1025, 12, 129, 5, 1025, 12]\n",
      "Jetzt a =  19\n",
      "Bisherige Periodenlängen [3, 1025, 12, 513, 7, 1025, 12, 257, 6, 1025, 12, 513, 7, 1025, 12, 129, 5, 1025, 12, 513]\n"
     ]
    }
   ],
   "source": [
    "b = 3\n",
    "m = 1024\n",
    "a_max = 20\n",
    "periodenlängen = [];\n",
    "for a in range(a_max):\n",
    "    print('Jetzt a = ', a)\n",
    "    x_i = 0\n",
    "    producedNumbers = [];\n",
    "    for i in range(10000):\n",
    "        if x_i not in producedNumbers:\n",
    "            producedNumbers.append(x_i)\n",
    "            print('Produzierte Zahlen:', producedNumbers)\n",
    "        else:\n",
    "            #print('periodenlänge ist', i + 1)\n",
    "            periodenlängen.append(i + 1);\n",
    "            print('Bisherige Periodenlängen', periodenlängen)\n",
    "            break\n",
    "        #print('x_i ist ', x_i)\n",
    "        x_i = lcg(x_i, a, b, m)\n",
    "  "
   ]
  },
  {
   "cell_type": "code",
   "execution_count": 153,
   "metadata": {},
   "outputs": [
    {
     "name": "stdout",
     "output_type": "stream",
     "text": [
      "20\n"
     ]
    }
   ],
   "source": [
    "periodenlängen = np.asarray(periodenlängen, dtype=np.float32)\n",
    "print(np.size(periodenlängen))"
   ]
  },
  {
   "cell_type": "code",
   "execution_count": 154,
   "metadata": {},
   "outputs": [
    {
     "data": {
      "image/png": "[encoded data removed]",
      "text/plain": [
       "<matplotlib.figure.Figure at 0x23db4d0ad30>"
      ]
     },
     "metadata": {},
     "output_type": "display_data"
    }
   ],
   "source": [
    "alinspace = np.linspace(0, a_max-1, a_max )\n",
    "plt.plot(alinspace, periodenlängen, 'b-', label='lcg')\n",
    "plt.grid()\n",
    "plt.legend()\n",
    "plt.xlabel('a')\n",
    "plt.ylabel('Periodenlänge')\n",
    "plt.show()"
   ]
  },
  {
   "cell_type": "code",
   "execution_count": null,
   "metadata": {
    "collapsed": true
   },
   "outputs": [],
   "source": []
  }
 ],
 "metadata": {
  "kernelspec": {
   "display_name": "Python 3",
   "language": "python",
   "name": "python3"
  },
  "language_info": {
   "codemirror_mode": {
    "name": "ipython",
    "version": 3
   },
   "file_extension": ".py",
   "mimetype": "text/x-python",
   "name": "python",
   "nbconvert_exporter": "python",
   "pygments_lexer": "ipython3",
   "version": "3.6.1"
  }
 },
 "nbformat": 4,
 "nbformat_minor": 2
}
