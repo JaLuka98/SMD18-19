{
 "cells": [
  {
   "cell_type": "markdown",
   "metadata": {},
   "source": [
    "# Aufgabe 18\n",
    "\n",
    "## Teilaufgabe a)\n",
    "\n",
    "Der Satz von Bayes folgt aus der Definition der bedingten Wahrscheinlichkeit:\n",
    "$$P(F|W) = \\frac{P(F\\cap\\ W)}{P(W)} = \\frac{\\frac{P(F\\,\\cap\\, W)}{P(F)}\\cdot P(A)}{P(W)} = \\frac{P(W|F)\\cdot P(F)}{P(W)} $$"
   ]
  },
  {
   "cell_type": "markdown",
   "metadata": {},
   "source": [
    "## Teilaufgabe b)"
   ]
  },
  {
   "cell_type": "code",
   "execution_count": 6,
   "metadata": {},
   "outputs": [],
   "source": [
    "#Wahrscheinlichkeiten P(xi|F), berechnet nach Definition der bedingten Wahrscheinlichkeit\n",
    "P_Wind_stark_F = 1/3\n",
    "P_Feuchtigkeit_hoch_F = 1/3\n",
    "P_Temperatur_kalt_F = 1/3\n",
    "P_Ausblick_sonnig_F = 2/9\n",
    "\n",
    "#Wahrscheinlichkeit dass Fußball gespielt wird\n",
    "P_F = 9/14\n",
    "\n",
    "#P(W) = ? \n"
   ]
  },
  {
   "cell_type": "code",
   "execution_count": 7,
   "metadata": {},
   "outputs": [
    {
     "name": "stdout",
     "output_type": "stream",
     "text": [
      "0.005291005291005291\n"
     ]
    }
   ],
   "source": [
    "P_F_W = P_Wind_stark_F * P_Feuchtigkeit_hoch_F * P_Temperatur_kalt_F * P_Ausblick_sonnig_F* P_F#/P(W)\n",
    "print(P_F_W)"
   ]
  },
  {
   "cell_type": "markdown",
   "metadata": {},
   "source": [
    "## Teilaufgabe c)"
   ]
  },
  {
   "cell_type": "code",
   "execution_count": 8,
   "metadata": {},
   "outputs": [],
   "source": [
    "#Wahrscheinlichkeiten P(xi|F)\n",
    "P_Wind_schwach_F = 2/3\n",
    "P_Feuchtigkeit_hoch_F = 1/3\n",
    "P_Temperatur_heiß_F = 0\n",
    "P_Ausblick_sonnig_F = 2/9\n",
    "\n",
    "#Wahrscheinlichkeit dass Fußball gespielt wird\n",
    "P_F = 9/14\n",
    "\n",
    "#P(W) = ? \n"
   ]
  },
  {
   "cell_type": "code",
   "execution_count": 10,
   "metadata": {},
   "outputs": [
    {
     "name": "stdout",
     "output_type": "stream",
     "text": [
      "0.0\n"
     ]
    }
   ],
   "source": [
    "P_F_W = P_Wind_schwach_F * P_Feuchtigkeit_hoch_F * P_Temperatur_heiß_F * P_Ausblick_sonnig_F* P_F#/P(W)\n",
    "print(P_F_W)"
   ]
  },
  {
   "cell_type": "markdown",
   "metadata": {},
   "source": [
    "Problem: Bei dem vorliegenden Datensatz ist kein einziges Mal bei heißem Wetter Fußball gespielt worden, und somit ergibt sich für die Gesamtwahrscheinlichkeit 0."
   ]
  }
 ],
 "metadata": {
  "kernelspec": {
   "display_name": "Python 3",
   "language": "python",
   "name": "python3"
  },
  "language_info": {
   "codemirror_mode": {
    "name": "ipython",
    "version": 3
   },
   "file_extension": ".py",
   "mimetype": "text/x-python",
   "name": "python",
   "nbconvert_exporter": "python",
   "pygments_lexer": "ipython3",
   "version": "3.7.0"
  }
 },
 "nbformat": 4,
 "nbformat_minor": 2
}
